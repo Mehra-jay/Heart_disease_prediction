{
 "cells": [
  {
   "cell_type": "code",
   "execution_count": 477,
   "metadata": {
    "collapsed": true
   },
   "outputs": [],
   "source": [
    "# for numerical computing\n",
    "import numpy as np\n",
    "\n",
    "# for dataframes\n",
    "import pandas as pd\n",
    "\n",
    "# for easier visualization\n",
    "import seaborn as sns\n",
    "\n",
    "# for visualization and to display plots\n",
    "from matplotlib import pyplot as plt\n",
    "%matplotlib inline\n",
    "\n",
    "# import color maps\n",
    "from matplotlib.colors import ListedColormap\n",
    "\n",
    "# Ignore Warnings\n",
    "import warnings\n",
    "warnings.filterwarnings(\"ignore\")\n",
    "\n",
    "from math import sqrt\n",
    "\n",
    "# to split train and test set\n",
    "from sklearn.model_selection import train_test_split\n",
    "\n",
    "# to perform hyperparameter tuning\n",
    "from sklearn.model_selection import GridSearchCV\n",
    "from sklearn.model_selection import RandomizedSearchCV\n",
    "\n",
    "# from sklearn.cross_validation import cross_val_score\n",
    "\n",
    "# Machine Learning Models\n",
    "from sklearn.linear_model import LogisticRegression\n",
    "from sklearn.ensemble import RandomForestClassifier\n",
    "from xgboost import XGBClassifier\n",
    "from sklearn.tree import DecisionTreeClassifier\n",
    "from sklearn.svm import SVC\n",
    "from sklearn.metrics import roc_curve, auc, roc_auc_score, confusion_matrix\n",
    "\n",
    "from sklearn.preprocessing import StandardScaler\n",
    "from sklearn.model_selection import train_test_split\n",
    "\n",
    "# from sklearn.cross_validation import cross_val_score\n",
    "from sklearn.neighbors import KNeighborsClassifier\n",
    "from matplotlib.colors import ListedColormap\n",
    "from sklearn.metrics import accuracy_score\n",
    "#import xgboost\n",
    "import os\n",
    "mingw_path = 'C:\\\\Program Files\\\\mingw-w64\\\\x86_64-7.2.0-posix-seh-rt_v5-rev0\\\\mingw64\\\\bin'\n",
    "os.environ['PATH'] = mingw_path + ';' + os.environ['PATH']\n",
    "from xgboost import XGBClassifier\n",
    "from xgboost import plot_importance  # to plot feature importance\n",
    "\n",
    "# to save the final model on disk\n",
    "import joblib"
   ]
  },
  {
   "cell_type": "code",
   "execution_count": 478,
   "metadata": {
    "collapsed": true
   },
   "outputs": [],
   "source": [
    "df=pd.read_csv('indian_liver_patient.csv')"
   ]
  },
  {
   "cell_type": "code",
   "execution_count": 479,
   "metadata": {},
   "outputs": [
    {
     "data": {
      "text/plain": [
       "(583, 11)"
      ]
     },
     "execution_count": 479,
     "metadata": {},
     "output_type": "execute_result"
    }
   ],
   "source": [
    "df.shape"
   ]
  },
  {
   "cell_type": "code",
   "execution_count": 480,
   "metadata": {},
   "outputs": [
    {
     "data": {
      "text/plain": [
       "Index(['Age', 'Gender', 'Total_Bilirubin', 'Direct_Bilirubin',\n",
       "       'Alkaline_Phosphotase', 'Alamine_Aminotransferase',\n",
       "       'Aspartate_Aminotransferase', 'Total_Protiens', 'Albumin',\n",
       "       'Albumin_and_Globulin_Ratio', 'Dataset'],\n",
       "      dtype='object')"
      ]
     },
     "execution_count": 480,
     "metadata": {},
     "output_type": "execute_result"
    }
   ],
   "source": [
    "df.columns"
   ]
  },
  {
   "cell_type": "code",
   "execution_count": 481,
   "metadata": {},
   "outputs": [
    {
     "data": {
      "text/html": [
       "<div>\n",
       "<style scoped>\n",
       "    .dataframe tbody tr th:only-of-type {\n",
       "        vertical-align: middle;\n",
       "    }\n",
       "\n",
       "    .dataframe tbody tr th {\n",
       "        vertical-align: top;\n",
       "    }\n",
       "\n",
       "    .dataframe thead th {\n",
       "        text-align: right;\n",
       "    }\n",
       "</style>\n",
       "<table border=\"1\" class=\"dataframe\">\n",
       "  <thead>\n",
       "    <tr style=\"text-align: right;\">\n",
       "      <th></th>\n",
       "      <th>Age</th>\n",
       "      <th>Gender</th>\n",
       "      <th>Total_Bilirubin</th>\n",
       "      <th>Direct_Bilirubin</th>\n",
       "      <th>Alkaline_Phosphotase</th>\n",
       "      <th>Alamine_Aminotransferase</th>\n",
       "      <th>Aspartate_Aminotransferase</th>\n",
       "      <th>Total_Protiens</th>\n",
       "      <th>Albumin</th>\n",
       "      <th>Albumin_and_Globulin_Ratio</th>\n",
       "      <th>Dataset</th>\n",
       "    </tr>\n",
       "  </thead>\n",
       "  <tbody>\n",
       "    <tr>\n",
       "      <th>0</th>\n",
       "      <td>65</td>\n",
       "      <td>Female</td>\n",
       "      <td>0.7</td>\n",
       "      <td>0.1</td>\n",
       "      <td>187</td>\n",
       "      <td>16</td>\n",
       "      <td>18</td>\n",
       "      <td>6.8</td>\n",
       "      <td>3.3</td>\n",
       "      <td>0.90</td>\n",
       "      <td>1</td>\n",
       "    </tr>\n",
       "    <tr>\n",
       "      <th>1</th>\n",
       "      <td>62</td>\n",
       "      <td>Male</td>\n",
       "      <td>10.9</td>\n",
       "      <td>5.5</td>\n",
       "      <td>699</td>\n",
       "      <td>64</td>\n",
       "      <td>100</td>\n",
       "      <td>7.5</td>\n",
       "      <td>3.2</td>\n",
       "      <td>0.74</td>\n",
       "      <td>1</td>\n",
       "    </tr>\n",
       "    <tr>\n",
       "      <th>2</th>\n",
       "      <td>62</td>\n",
       "      <td>Male</td>\n",
       "      <td>7.3</td>\n",
       "      <td>4.1</td>\n",
       "      <td>490</td>\n",
       "      <td>60</td>\n",
       "      <td>68</td>\n",
       "      <td>7.0</td>\n",
       "      <td>3.3</td>\n",
       "      <td>0.89</td>\n",
       "      <td>1</td>\n",
       "    </tr>\n",
       "    <tr>\n",
       "      <th>3</th>\n",
       "      <td>58</td>\n",
       "      <td>Male</td>\n",
       "      <td>1.0</td>\n",
       "      <td>0.4</td>\n",
       "      <td>182</td>\n",
       "      <td>14</td>\n",
       "      <td>20</td>\n",
       "      <td>6.8</td>\n",
       "      <td>3.4</td>\n",
       "      <td>1.00</td>\n",
       "      <td>1</td>\n",
       "    </tr>\n",
       "    <tr>\n",
       "      <th>4</th>\n",
       "      <td>72</td>\n",
       "      <td>Male</td>\n",
       "      <td>3.9</td>\n",
       "      <td>2.0</td>\n",
       "      <td>195</td>\n",
       "      <td>27</td>\n",
       "      <td>59</td>\n",
       "      <td>7.3</td>\n",
       "      <td>2.4</td>\n",
       "      <td>0.40</td>\n",
       "      <td>1</td>\n",
       "    </tr>\n",
       "  </tbody>\n",
       "</table>\n",
       "</div>"
      ],
      "text/plain": [
       "   Age  Gender  Total_Bilirubin  Direct_Bilirubin  Alkaline_Phosphotase  \\\n",
       "0   65  Female              0.7               0.1                   187   \n",
       "1   62    Male             10.9               5.5                   699   \n",
       "2   62    Male              7.3               4.1                   490   \n",
       "3   58    Male              1.0               0.4                   182   \n",
       "4   72    Male              3.9               2.0                   195   \n",
       "\n",
       "   Alamine_Aminotransferase  Aspartate_Aminotransferase  Total_Protiens  \\\n",
       "0                        16                          18             6.8   \n",
       "1                        64                         100             7.5   \n",
       "2                        60                          68             7.0   \n",
       "3                        14                          20             6.8   \n",
       "4                        27                          59             7.3   \n",
       "\n",
       "   Albumin  Albumin_and_Globulin_Ratio  Dataset  \n",
       "0      3.3                        0.90        1  \n",
       "1      3.2                        0.74        1  \n",
       "2      3.3                        0.89        1  \n",
       "3      3.4                        1.00        1  \n",
       "4      2.4                        0.40        1  "
      ]
     },
     "execution_count": 481,
     "metadata": {},
     "output_type": "execute_result"
    }
   ],
   "source": [
    "df.head()"
   ]
  },
  {
   "cell_type": "markdown",
   "metadata": {},
   "source": [
    "## Exploratory Data Analysis"
   ]
  },
  {
   "cell_type": "markdown",
   "metadata": {},
   "source": [
    "Filtering categorical data"
   ]
  },
  {
   "cell_type": "code",
   "execution_count": 482,
   "metadata": {},
   "outputs": [
    {
     "data": {
      "text/plain": [
       "Gender    object\n",
       "dtype: object"
      ]
     },
     "execution_count": 482,
     "metadata": {},
     "output_type": "execute_result"
    }
   ],
   "source": [
    "df.dtypes[df.dtypes=='object']"
   ]
  },
  {
   "cell_type": "markdown",
   "metadata": {},
   "source": [
    "## Distribution of Numerical Features"
   ]
  },
  {
   "cell_type": "code",
   "execution_count": 483,
   "metadata": {},
   "outputs": [
    {
     "data": {
      "image/png": "[encoded data removed]",
      "text/plain": [
       "<Figure size 1080x1080 with 12 Axes>"
      ]
     },
     "metadata": {
      "needs_background": "light"
     },
     "output_type": "display_data"
    }
   ],
   "source": [
    "# Plot histogram grid\n",
    "df.hist(figsize=(15,15), xrot=-45, bins=10) ## Display the labels rotated by 45 degress\n",
    "\n",
    "# Clear the text \"residue\"\n",
    "plt.show()"
   ]
  },
  {
   "cell_type": "code",
   "execution_count": 484,
   "metadata": {},
   "outputs": [
    {
     "data": {
      "text/html": [
       "<div>\n",
       "<style scoped>\n",
       "    .dataframe tbody tr th:only-of-type {\n",
       "        vertical-align: middle;\n",
       "    }\n",
       "\n",
       "    .dataframe tbody tr th {\n",
       "        vertical-align: top;\n",
       "    }\n",
       "\n",
       "    .dataframe thead th {\n",
       "        text-align: right;\n",
       "    }\n",
       "</style>\n",
       "<table border=\"1\" class=\"dataframe\">\n",
       "  <thead>\n",
       "    <tr style=\"text-align: right;\">\n",
       "      <th></th>\n",
       "      <th>Age</th>\n",
       "      <th>Total_Bilirubin</th>\n",
       "      <th>Direct_Bilirubin</th>\n",
       "      <th>Alkaline_Phosphotase</th>\n",
       "      <th>Alamine_Aminotransferase</th>\n",
       "      <th>Aspartate_Aminotransferase</th>\n",
       "      <th>Total_Protiens</th>\n",
       "      <th>Albumin</th>\n",
       "      <th>Albumin_and_Globulin_Ratio</th>\n",
       "      <th>Dataset</th>\n",
       "    </tr>\n",
       "  </thead>\n",
       "  <tbody>\n",
       "    <tr>\n",
       "      <th>count</th>\n",
       "      <td>583.000000</td>\n",
       "      <td>583.000000</td>\n",
       "      <td>583.000000</td>\n",
       "      <td>583.000000</td>\n",
       "      <td>583.000000</td>\n",
       "      <td>583.000000</td>\n",
       "      <td>583.000000</td>\n",
       "      <td>583.000000</td>\n",
       "      <td>579.000000</td>\n",
       "      <td>583.000000</td>\n",
       "    </tr>\n",
       "    <tr>\n",
       "      <th>mean</th>\n",
       "      <td>44.746141</td>\n",
       "      <td>3.298799</td>\n",
       "      <td>1.486106</td>\n",
       "      <td>290.576329</td>\n",
       "      <td>80.713551</td>\n",
       "      <td>109.910806</td>\n",
       "      <td>6.483190</td>\n",
       "      <td>3.141852</td>\n",
       "      <td>0.947064</td>\n",
       "      <td>1.286449</td>\n",
       "    </tr>\n",
       "    <tr>\n",
       "      <th>std</th>\n",
       "      <td>16.189833</td>\n",
       "      <td>6.209522</td>\n",
       "      <td>2.808498</td>\n",
       "      <td>242.937989</td>\n",
       "      <td>182.620356</td>\n",
       "      <td>288.918529</td>\n",
       "      <td>1.085451</td>\n",
       "      <td>0.795519</td>\n",
       "      <td>0.319592</td>\n",
       "      <td>0.452490</td>\n",
       "    </tr>\n",
       "    <tr>\n",
       "      <th>min</th>\n",
       "      <td>4.000000</td>\n",
       "      <td>0.400000</td>\n",
       "      <td>0.100000</td>\n",
       "      <td>63.000000</td>\n",
       "      <td>10.000000</td>\n",
       "      <td>10.000000</td>\n",
       "      <td>2.700000</td>\n",
       "      <td>0.900000</td>\n",
       "      <td>0.300000</td>\n",
       "      <td>1.000000</td>\n",
       "    </tr>\n",
       "    <tr>\n",
       "      <th>25%</th>\n",
       "      <td>33.000000</td>\n",
       "      <td>0.800000</td>\n",
       "      <td>0.200000</td>\n",
       "      <td>175.500000</td>\n",
       "      <td>23.000000</td>\n",
       "      <td>25.000000</td>\n",
       "      <td>5.800000</td>\n",
       "      <td>2.600000</td>\n",
       "      <td>0.700000</td>\n",
       "      <td>1.000000</td>\n",
       "    </tr>\n",
       "    <tr>\n",
       "      <th>50%</th>\n",
       "      <td>45.000000</td>\n",
       "      <td>1.000000</td>\n",
       "      <td>0.300000</td>\n",
       "      <td>208.000000</td>\n",
       "      <td>35.000000</td>\n",
       "      <td>42.000000</td>\n",
       "      <td>6.600000</td>\n",
       "      <td>3.100000</td>\n",
       "      <td>0.930000</td>\n",
       "      <td>1.000000</td>\n",
       "    </tr>\n",
       "    <tr>\n",
       "      <th>75%</th>\n",
       "      <td>58.000000</td>\n",
       "      <td>2.600000</td>\n",
       "      <td>1.300000</td>\n",
       "      <td>298.000000</td>\n",
       "      <td>60.500000</td>\n",
       "      <td>87.000000</td>\n",
       "      <td>7.200000</td>\n",
       "      <td>3.800000</td>\n",
       "      <td>1.100000</td>\n",
       "      <td>2.000000</td>\n",
       "    </tr>\n",
       "    <tr>\n",
       "      <th>max</th>\n",
       "      <td>90.000000</td>\n",
       "      <td>75.000000</td>\n",
       "      <td>19.700000</td>\n",
       "      <td>2110.000000</td>\n",
       "      <td>2000.000000</td>\n",
       "      <td>4929.000000</td>\n",
       "      <td>9.600000</td>\n",
       "      <td>5.500000</td>\n",
       "      <td>2.800000</td>\n",
       "      <td>2.000000</td>\n",
       "    </tr>\n",
       "  </tbody>\n",
       "</table>\n",
       "</div>"
      ],
      "text/plain": [
       "              Age  Total_Bilirubin  Direct_Bilirubin  Alkaline_Phosphotase  \\\n",
       "count  583.000000       583.000000        583.000000            583.000000   \n",
       "mean    44.746141         3.298799          1.486106            290.576329   \n",
       "std     16.189833         6.209522          2.808498            242.937989   \n",
       "min      4.000000         0.400000          0.100000             63.000000   \n",
       "25%     33.000000         0.800000          0.200000            175.500000   \n",
       "50%     45.000000         1.000000          0.300000            208.000000   \n",
       "75%     58.000000         2.600000          1.300000            298.000000   \n",
       "max     90.000000        75.000000         19.700000           2110.000000   \n",
       "\n",
       "       Alamine_Aminotransferase  Aspartate_Aminotransferase  Total_Protiens  \\\n",
       "count                583.000000                  583.000000      583.000000   \n",
       "mean                  80.713551                  109.910806        6.483190   \n",
       "std                  182.620356                  288.918529        1.085451   \n",
       "min                   10.000000                   10.000000        2.700000   \n",
       "25%                   23.000000                   25.000000        5.800000   \n",
       "50%                   35.000000                   42.000000        6.600000   \n",
       "75%                   60.500000                   87.000000        7.200000   \n",
       "max                 2000.000000                 4929.000000        9.600000   \n",
       "\n",
       "          Albumin  Albumin_and_Globulin_Ratio     Dataset  \n",
       "count  583.000000                  579.000000  583.000000  \n",
       "mean     3.141852                    0.947064    1.286449  \n",
       "std      0.795519                    0.319592    0.452490  \n",
       "min      0.900000                    0.300000    1.000000  \n",
       "25%      2.600000                    0.700000    1.000000  \n",
       "50%      3.100000                    0.930000    1.000000  \n",
       "75%      3.800000                    1.100000    2.000000  \n",
       "max      5.500000                    2.800000    2.000000  "
      ]
     },
     "execution_count": 484,
     "metadata": {},
     "output_type": "execute_result"
    }
   ],
   "source": [
    "df.describe()"
   ]
  },
  {
   "cell_type": "markdown",
   "metadata": {},
   "source": [
    "It seems there is outlier in Aspartate_Aminotransferase as the max value is very high than mean value"
   ]
  },
  {
   "cell_type": "markdown",
   "metadata": {},
   "source": [
    "Dataset i.e output value has '1' for liver disease and '2' for no liver disease so let's make it 0 for no disease to make it convinient"
   ]
  },
  {
   "cell_type": "code",
   "execution_count": 485,
   "metadata": {
    "collapsed": true
   },
   "outputs": [],
   "source": [
    "## if score==negative, mark 0 ;else 1 \n",
    "def partition(x):\n",
    "    if x == 2:\n",
    "        return 0\n",
    "    return 1\n",
    "\n",
    "df['Dataset'] = df['Dataset'].map(partition)"
   ]
  },
  {
   "cell_type": "markdown",
   "metadata": {},
   "source": [
    "## Distribution of categorical data"
   ]
  },
  {
   "cell_type": "code",
   "execution_count": 486,
   "metadata": {},
   "outputs": [
    {
     "data": {
      "text/html": [
       "<div>\n",
       "<style scoped>\n",
       "    .dataframe tbody tr th:only-of-type {\n",
       "        vertical-align: middle;\n",
       "    }\n",
       "\n",
       "    .dataframe tbody tr th {\n",
       "        vertical-align: top;\n",
       "    }\n",
       "\n",
       "    .dataframe thead th {\n",
       "        text-align: right;\n",
       "    }\n",
       "</style>\n",
       "<table border=\"1\" class=\"dataframe\">\n",
       "  <thead>\n",
       "    <tr style=\"text-align: right;\">\n",
       "      <th></th>\n",
       "      <th>Gender</th>\n",
       "    </tr>\n",
       "  </thead>\n",
       "  <tbody>\n",
       "    <tr>\n",
       "      <th>count</th>\n",
       "      <td>583</td>\n",
       "    </tr>\n",
       "    <tr>\n",
       "      <th>unique</th>\n",
       "      <td>2</td>\n",
       "    </tr>\n",
       "    <tr>\n",
       "      <th>top</th>\n",
       "      <td>Male</td>\n",
       "    </tr>\n",
       "    <tr>\n",
       "      <th>freq</th>\n",
       "      <td>441</td>\n",
       "    </tr>\n",
       "  </tbody>\n",
       "</table>\n",
       "</div>"
      ],
      "text/plain": [
       "       Gender\n",
       "count     583\n",
       "unique      2\n",
       "top      Male\n",
       "freq      441"
      ]
     },
     "execution_count": 486,
     "metadata": {},
     "output_type": "execute_result"
    }
   ],
   "source": [
    "df.describe(include=['object'])"
   ]
  },
  {
   "cell_type": "markdown",
   "metadata": {},
   "source": [
    "## Bar plots for categorical Features"
   ]
  },
  {
   "cell_type": "code",
   "execution_count": 487,
   "metadata": {},
   "outputs": [
    {
     "data": {
      "text/plain": [
       "<AxesSubplot: xlabel='count', ylabel='Gender'>"
      ]
     },
     "execution_count": 487,
     "metadata": {},
     "output_type": "execute_result"
    },
    {
     "data": {
      "image/png": "[encoded data removed]",
      "text/plain": [
       "<Figure size 360x360 with 1 Axes>"
      ]
     },
     "metadata": {
      "needs_background": "light"
     },
     "output_type": "display_data"
    }
   ],
   "source": [
    "plt.figure(figsize=(5,5))\n",
    "sns.countplot(y='Gender', data=df)"
   ]
  },
  {
   "cell_type": "code",
   "execution_count": 488,
   "metadata": {},
   "outputs": [
    {
     "data": {
      "text/html": [
       "<div>\n",
       "<style scoped>\n",
       "    .dataframe tbody tr th:only-of-type {\n",
       "        vertical-align: middle;\n",
       "    }\n",
       "\n",
       "    .dataframe tbody tr th {\n",
       "        vertical-align: top;\n",
       "    }\n",
       "\n",
       "    .dataframe thead th {\n",
       "        text-align: right;\n",
       "    }\n",
       "</style>\n",
       "<table border=\"1\" class=\"dataframe\">\n",
       "  <thead>\n",
       "    <tr style=\"text-align: right;\">\n",
       "      <th></th>\n",
       "      <th>Dataset</th>\n",
       "      <th>Gender</th>\n",
       "    </tr>\n",
       "  </thead>\n",
       "  <tbody>\n",
       "    <tr>\n",
       "      <th>1</th>\n",
       "      <td>1</td>\n",
       "      <td>Male</td>\n",
       "    </tr>\n",
       "    <tr>\n",
       "      <th>2</th>\n",
       "      <td>1</td>\n",
       "      <td>Male</td>\n",
       "    </tr>\n",
       "    <tr>\n",
       "      <th>3</th>\n",
       "      <td>1</td>\n",
       "      <td>Male</td>\n",
       "    </tr>\n",
       "    <tr>\n",
       "      <th>4</th>\n",
       "      <td>1</td>\n",
       "      <td>Male</td>\n",
       "    </tr>\n",
       "    <tr>\n",
       "      <th>5</th>\n",
       "      <td>1</td>\n",
       "      <td>Male</td>\n",
       "    </tr>\n",
       "  </tbody>\n",
       "</table>\n",
       "</div>"
      ],
      "text/plain": [
       "   Dataset Gender\n",
       "1        1   Male\n",
       "2        1   Male\n",
       "3        1   Male\n",
       "4        1   Male\n",
       "5        1   Male"
      ]
     },
     "execution_count": 488,
     "metadata": {},
     "output_type": "execute_result"
    }
   ],
   "source": [
    "df[df['Gender'] == 'Male'][['Dataset', 'Gender']].head()"
   ]
  },
  {
   "cell_type": "code",
   "execution_count": 489,
   "metadata": {},
   "outputs": [
    {
     "data": {
      "image/png": "[encoded data removed]",
      "text/plain": [
       "<Figure size 432x288 with 1 Axes>"
      ]
     },
     "metadata": {
      "needs_background": "light"
     },
     "output_type": "display_data"
    }
   ],
   "source": [
    "sns.barplot (x=\"Age\", y=\"Gender\", hue=\"Dataset\", data=df);"
   ]
  },
  {
   "cell_type": "markdown",
   "metadata": {},
   "source": [
    "Age seems to be a factor for liver disease for both male and female genders"
   ]
  },
  {
   "cell_type": "code",
   "execution_count": 490,
   "metadata": {},
   "outputs": [
    {
     "name": "stdout",
     "output_type": "stream",
     "text": [
      "Number of patients that are male:  441\n",
      "Number of patients that are female:  142\n"
     ]
    },
    {
     "data": {
      "image/png": "[encoded data removed]",
      "text/plain": [
       "<Figure size 432x288 with 1 Axes>"
      ]
     },
     "metadata": {
      "needs_background": "light"
     },
     "output_type": "display_data"
    }
   ],
   "source": [
    "sns.countplot(data=df, x = 'Gender', label='Count')\n",
    "\n",
    "M, F = df['Gender'].value_counts()\n",
    "print('Number of patients that are male: ',M)\n",
    "print('Number of patients that are female: ',F)"
   ]
  },
  {
   "cell_type": "markdown",
   "metadata": {},
   "source": [
    "There are more male patients than female patients"
   ]
  },
  {
   "cell_type": "markdown",
   "metadata": {},
   "source": [
    "Label Male as 0 and Female as 1"
   ]
  },
  {
   "cell_type": "code",
   "execution_count": 491,
   "metadata": {
    "collapsed": true
   },
   "outputs": [],
   "source": [
    "## if score==negative, mark 0 ;else 1 \n",
    "def partition(x):\n",
    "    if x =='Male':\n",
    "        return 0\n",
    "    return 1\n",
    "\n",
    "df['Gender'] = df['Gender'].map(partition)"
   ]
  },
  {
   "cell_type": "markdown",
   "metadata": {},
   "source": [
    "#### 2-D Scatter Plot"
   ]
  },
  {
   "cell_type": "code",
   "execution_count": 492,
   "metadata": {},
   "outputs": [
    {
     "data": {
      "text/plain": [
       "<seaborn.axisgrid.FacetGrid at 0x275fdb26890>"
      ]
     },
     "execution_count": 492,
     "metadata": {},
     "output_type": "execute_result"
    },
    {
     "data": {
      "image/png": "[encoded data removed]",
      "text/plain": [
       "<Figure size 402.75x360 with 1 Axes>"
      ]
     },
     "metadata": {},
     "output_type": "display_data"
    }
   ],
   "source": [
    "sns.set_style('whitegrid')   ## Background Grid\n",
    "sns.FacetGrid(df, hue = 'Dataset', height = 5).map(plt.scatter, 'Total_Bilirubin', 'Direct_Bilirubin').add_legend()"
   ]
  },
  {
   "cell_type": "code",
   "execution_count": 493,
   "metadata": {},
   "outputs": [
    {
     "data": {
      "text/plain": [
       "<seaborn.axisgrid.FacetGrid at 0x275fdb9ab90>"
      ]
     },
     "execution_count": 493,
     "metadata": {},
     "output_type": "execute_result"
    },
    {
     "data": {
      "image/png": "[encoded data removed]",
      "text/plain": [
       "<Figure size 402.75x360 with 1 Axes>"
      ]
     },
     "metadata": {},
     "output_type": "display_data"
    }
   ],
   "source": [
    "sns.set_style('whitegrid')   ## Background Grid\n",
    "sns.FacetGrid(df, hue = 'Dataset', height = 5).map(plt.scatter, 'Total_Bilirubin', 'Albumin').add_legend()"
   ]
  },
  {
   "cell_type": "code",
   "execution_count": 494,
   "metadata": {},
   "outputs": [
    {
     "data": {
      "text/plain": [
       "<seaborn.axisgrid.FacetGrid at 0x275fdca1c90>"
      ]
     },
     "execution_count": 494,
     "metadata": {},
     "output_type": "execute_result"
    },
    {
     "data": {
      "image/png": "[encoded data removed]",
      "text/plain": [
       "<Figure size 402.75x360 with 1 Axes>"
      ]
     },
     "metadata": {},
     "output_type": "display_data"
    }
   ],
   "source": [
    "sns.set_style('whitegrid')   ## Background Grid\n",
    "sns.FacetGrid(df, hue = 'Dataset', height = 5).map(plt.scatter, 'Total_Protiens', 'Albumin_and_Globulin_Ratio').add_legend()"
   ]
  },
  {
   "cell_type": "markdown",
   "metadata": {},
   "source": [
    "## Correlations\n",
    "* Finally, let's take a look at the relationships between numeric features and other numeric features.\n",
    "* ***Correlation*** is a value between -1 and 1 that represents how closely values for two separate features move in unison.\n",
    "* Positive correlation means that as one feature increases, the other increases; eg. a child's age and her height.\n",
    "* Negative correlation means that as one feature increases, the other decreases; eg. hours spent studying and number of parties attended.\n",
    "* Correlations near -1 or 1 indicate a strong relationship.\n",
    "* Those closer to 0 indicate a weak relationship.\n",
    "* 0 indicates no relationship."
   ]
  },
  {
   "cell_type": "code",
   "execution_count": 495,
   "metadata": {},
   "outputs": [
    {
     "data": {
      "text/html": [
       "<div>\n",
       "<style scoped>\n",
       "    .dataframe tbody tr th:only-of-type {\n",
       "        vertical-align: middle;\n",
       "    }\n",
       "\n",
       "    .dataframe tbody tr th {\n",
       "        vertical-align: top;\n",
       "    }\n",
       "\n",
       "    .dataframe thead th {\n",
       "        text-align: right;\n",
       "    }\n",
       "</style>\n",
       "<table border=\"1\" class=\"dataframe\">\n",
       "  <thead>\n",
       "    <tr style=\"text-align: right;\">\n",
       "      <th></th>\n",
       "      <th>Age</th>\n",
       "      <th>Gender</th>\n",
       "      <th>Total_Bilirubin</th>\n",
       "      <th>Direct_Bilirubin</th>\n",
       "      <th>Alkaline_Phosphotase</th>\n",
       "      <th>Alamine_Aminotransferase</th>\n",
       "      <th>Aspartate_Aminotransferase</th>\n",
       "      <th>Total_Protiens</th>\n",
       "      <th>Albumin</th>\n",
       "      <th>Albumin_and_Globulin_Ratio</th>\n",
       "      <th>Dataset</th>\n",
       "    </tr>\n",
       "  </thead>\n",
       "  <tbody>\n",
       "    <tr>\n",
       "      <th>Age</th>\n",
       "      <td>1.000000</td>\n",
       "      <td>-0.056560</td>\n",
       "      <td>0.011763</td>\n",
       "      <td>0.007529</td>\n",
       "      <td>0.080425</td>\n",
       "      <td>-0.086883</td>\n",
       "      <td>-0.019910</td>\n",
       "      <td>-0.187461</td>\n",
       "      <td>-0.265924</td>\n",
       "      <td>-0.216408</td>\n",
       "      <td>0.137351</td>\n",
       "    </tr>\n",
       "    <tr>\n",
       "      <th>Gender</th>\n",
       "      <td>-0.056560</td>\n",
       "      <td>1.000000</td>\n",
       "      <td>-0.089291</td>\n",
       "      <td>-0.100436</td>\n",
       "      <td>0.027496</td>\n",
       "      <td>-0.082332</td>\n",
       "      <td>-0.080336</td>\n",
       "      <td>0.089121</td>\n",
       "      <td>0.093799</td>\n",
       "      <td>0.003424</td>\n",
       "      <td>-0.082416</td>\n",
       "    </tr>\n",
       "    <tr>\n",
       "      <th>Total_Bilirubin</th>\n",
       "      <td>0.011763</td>\n",
       "      <td>-0.089291</td>\n",
       "      <td>1.000000</td>\n",
       "      <td>0.874618</td>\n",
       "      <td>0.206669</td>\n",
       "      <td>0.214065</td>\n",
       "      <td>0.237831</td>\n",
       "      <td>-0.008099</td>\n",
       "      <td>-0.222250</td>\n",
       "      <td>-0.206267</td>\n",
       "      <td>0.220208</td>\n",
       "    </tr>\n",
       "    <tr>\n",
       "      <th>Direct_Bilirubin</th>\n",
       "      <td>0.007529</td>\n",
       "      <td>-0.100436</td>\n",
       "      <td>0.874618</td>\n",
       "      <td>1.000000</td>\n",
       "      <td>0.234939</td>\n",
       "      <td>0.233894</td>\n",
       "      <td>0.257544</td>\n",
       "      <td>-0.000139</td>\n",
       "      <td>-0.228531</td>\n",
       "      <td>-0.200125</td>\n",
       "      <td>0.246046</td>\n",
       "    </tr>\n",
       "    <tr>\n",
       "      <th>Alkaline_Phosphotase</th>\n",
       "      <td>0.080425</td>\n",
       "      <td>0.027496</td>\n",
       "      <td>0.206669</td>\n",
       "      <td>0.234939</td>\n",
       "      <td>1.000000</td>\n",
       "      <td>0.125680</td>\n",
       "      <td>0.167196</td>\n",
       "      <td>-0.028514</td>\n",
       "      <td>-0.165453</td>\n",
       "      <td>-0.234166</td>\n",
       "      <td>0.184866</td>\n",
       "    </tr>\n",
       "    <tr>\n",
       "      <th>Alamine_Aminotransferase</th>\n",
       "      <td>-0.086883</td>\n",
       "      <td>-0.082332</td>\n",
       "      <td>0.214065</td>\n",
       "      <td>0.233894</td>\n",
       "      <td>0.125680</td>\n",
       "      <td>1.000000</td>\n",
       "      <td>0.791966</td>\n",
       "      <td>-0.042518</td>\n",
       "      <td>-0.029742</td>\n",
       "      <td>-0.002375</td>\n",
       "      <td>0.163416</td>\n",
       "    </tr>\n",
       "    <tr>\n",
       "      <th>Aspartate_Aminotransferase</th>\n",
       "      <td>-0.019910</td>\n",
       "      <td>-0.080336</td>\n",
       "      <td>0.237831</td>\n",
       "      <td>0.257544</td>\n",
       "      <td>0.167196</td>\n",
       "      <td>0.791966</td>\n",
       "      <td>1.000000</td>\n",
       "      <td>-0.025645</td>\n",
       "      <td>-0.085290</td>\n",
       "      <td>-0.070040</td>\n",
       "      <td>0.151934</td>\n",
       "    </tr>\n",
       "    <tr>\n",
       "      <th>Total_Protiens</th>\n",
       "      <td>-0.187461</td>\n",
       "      <td>0.089121</td>\n",
       "      <td>-0.008099</td>\n",
       "      <td>-0.000139</td>\n",
       "      <td>-0.028514</td>\n",
       "      <td>-0.042518</td>\n",
       "      <td>-0.025645</td>\n",
       "      <td>1.000000</td>\n",
       "      <td>0.784053</td>\n",
       "      <td>0.234887</td>\n",
       "      <td>-0.035008</td>\n",
       "    </tr>\n",
       "    <tr>\n",
       "      <th>Albumin</th>\n",
       "      <td>-0.265924</td>\n",
       "      <td>0.093799</td>\n",
       "      <td>-0.222250</td>\n",
       "      <td>-0.228531</td>\n",
       "      <td>-0.165453</td>\n",
       "      <td>-0.029742</td>\n",
       "      <td>-0.085290</td>\n",
       "      <td>0.784053</td>\n",
       "      <td>1.000000</td>\n",
       "      <td>0.689632</td>\n",
       "      <td>-0.161388</td>\n",
       "    </tr>\n",
       "    <tr>\n",
       "      <th>Albumin_and_Globulin_Ratio</th>\n",
       "      <td>-0.216408</td>\n",
       "      <td>0.003424</td>\n",
       "      <td>-0.206267</td>\n",
       "      <td>-0.200125</td>\n",
       "      <td>-0.234166</td>\n",
       "      <td>-0.002375</td>\n",
       "      <td>-0.070040</td>\n",
       "      <td>0.234887</td>\n",
       "      <td>0.689632</td>\n",
       "      <td>1.000000</td>\n",
       "      <td>-0.163131</td>\n",
       "    </tr>\n",
       "    <tr>\n",
       "      <th>Dataset</th>\n",
       "      <td>0.137351</td>\n",
       "      <td>-0.082416</td>\n",
       "      <td>0.220208</td>\n",
       "      <td>0.246046</td>\n",
       "      <td>0.184866</td>\n",
       "      <td>0.163416</td>\n",
       "      <td>0.151934</td>\n",
       "      <td>-0.035008</td>\n",
       "      <td>-0.161388</td>\n",
       "      <td>-0.163131</td>\n",
       "      <td>1.000000</td>\n",
       "    </tr>\n",
       "  </tbody>\n",
       "</table>\n",
       "</div>"
      ],
      "text/plain": [
       "                                 Age    Gender  Total_Bilirubin  \\\n",
       "Age                         1.000000 -0.056560         0.011763   \n",
       "Gender                     -0.056560  1.000000        -0.089291   \n",
       "Total_Bilirubin             0.011763 -0.089291         1.000000   \n",
       "Direct_Bilirubin            0.007529 -0.100436         0.874618   \n",
       "Alkaline_Phosphotase        0.080425  0.027496         0.206669   \n",
       "Alamine_Aminotransferase   -0.086883 -0.082332         0.214065   \n",
       "Aspartate_Aminotransferase -0.019910 -0.080336         0.237831   \n",
       "Total_Protiens             -0.187461  0.089121        -0.008099   \n",
       "Albumin                    -0.265924  0.093799        -0.222250   \n",
       "Albumin_and_Globulin_Ratio -0.216408  0.003424        -0.206267   \n",
       "Dataset                     0.137351 -0.082416         0.220208   \n",
       "\n",
       "                            Direct_Bilirubin  Alkaline_Phosphotase  \\\n",
       "Age                                 0.007529              0.080425   \n",
       "Gender                             -0.100436              0.027496   \n",
       "Total_Bilirubin                     0.874618              0.206669   \n",
       "Direct_Bilirubin                    1.000000              0.234939   \n",
       "Alkaline_Phosphotase                0.234939              1.000000   \n",
       "Alamine_Aminotransferase            0.233894              0.125680   \n",
       "Aspartate_Aminotransferase          0.257544              0.167196   \n",
       "Total_Protiens                     -0.000139             -0.028514   \n",
       "Albumin                            -0.228531             -0.165453   \n",
       "Albumin_and_Globulin_Ratio         -0.200125             -0.234166   \n",
       "Dataset                             0.246046              0.184866   \n",
       "\n",
       "                            Alamine_Aminotransferase  \\\n",
       "Age                                        -0.086883   \n",
       "Gender                                     -0.082332   \n",
       "Total_Bilirubin                             0.214065   \n",
       "Direct_Bilirubin                            0.233894   \n",
       "Alkaline_Phosphotase                        0.125680   \n",
       "Alamine_Aminotransferase                    1.000000   \n",
       "Aspartate_Aminotransferase                  0.791966   \n",
       "Total_Protiens                             -0.042518   \n",
       "Albumin                                    -0.029742   \n",
       "Albumin_and_Globulin_Ratio                 -0.002375   \n",
       "Dataset                                     0.163416   \n",
       "\n",
       "                            Aspartate_Aminotransferase  Total_Protiens  \\\n",
       "Age                                          -0.019910       -0.187461   \n",
       "Gender                                       -0.080336        0.089121   \n",
       "Total_Bilirubin                               0.237831       -0.008099   \n",
       "Direct_Bilirubin                              0.257544       -0.000139   \n",
       "Alkaline_Phosphotase                          0.167196       -0.028514   \n",
       "Alamine_Aminotransferase                      0.791966       -0.042518   \n",
       "Aspartate_Aminotransferase                    1.000000       -0.025645   \n",
       "Total_Protiens                               -0.025645        1.000000   \n",
       "Albumin                                      -0.085290        0.784053   \n",
       "Albumin_and_Globulin_Ratio                   -0.070040        0.234887   \n",
       "Dataset                                       0.151934       -0.035008   \n",
       "\n",
       "                             Albumin  Albumin_and_Globulin_Ratio   Dataset  \n",
       "Age                        -0.265924                   -0.216408  0.137351  \n",
       "Gender                      0.093799                    0.003424 -0.082416  \n",
       "Total_Bilirubin            -0.222250                   -0.206267  0.220208  \n",
       "Direct_Bilirubin           -0.228531                   -0.200125  0.246046  \n",
       "Alkaline_Phosphotase       -0.165453                   -0.234166  0.184866  \n",
       "Alamine_Aminotransferase   -0.029742                   -0.002375  0.163416  \n",
       "Aspartate_Aminotransferase -0.085290                   -0.070040  0.151934  \n",
       "Total_Protiens              0.784053                    0.234887 -0.035008  \n",
       "Albumin                     1.000000                    0.689632 -0.161388  \n",
       "Albumin_and_Globulin_Ratio  0.689632                    1.000000 -0.163131  \n",
       "Dataset                    -0.161388                   -0.163131  1.000000  "
      ]
     },
     "execution_count": 495,
     "metadata": {},
     "output_type": "execute_result"
    }
   ],
   "source": [
    "df.corr()"
   ]
  },
  {
   "cell_type": "code",
   "execution_count": 496,
   "metadata": {},
   "outputs": [
    {
     "data": {
      "text/plain": [
       "<AxesSubplot: >"
      ]
     },
     "execution_count": 496,
     "metadata": {},
     "output_type": "execute_result"
    },
    {
     "data": {
      "image/png": "[encoded data removed]",
      "text/plain": [
       "<Figure size 720x720 with 2 Axes>"
      ]
     },
     "metadata": {},
     "output_type": "display_data"
    }
   ],
   "source": [
    "plt.figure(figsize=(10,10))\n",
    "sns.heatmap(df.corr())"
   ]
  },
  {
   "cell_type": "code",
   "execution_count": 497,
   "metadata": {},
   "outputs": [
    {
     "data": {
      "image/png": "[encoded data removed]",
      "text/plain": [
       "<Figure size 720x720 with 2 Axes>"
      ]
     },
     "metadata": {},
     "output_type": "display_data"
    }
   ],
   "source": [
    "mask=np.zeros_like(df.corr())\n",
    "mask[np.triu_indices_from(mask)] = True\n",
    "plt.figure(figsize=(10,10))\n",
    "with sns.axes_style(\"white\"):\n",
    "    ax = sns.heatmap(df.corr()*100, mask=mask, fmt='.0f', annot=True, lw=1, cmap=ListedColormap(['green', 'yellow', 'red','blue']))"
   ]
  },
  {
   "cell_type": "markdown",
   "metadata": {},
   "source": [
    "## Data Cleaning"
   ]
  },
  {
   "cell_type": "code",
   "execution_count": 498,
   "metadata": {},
   "outputs": [
    {
     "name": "stdout",
     "output_type": "stream",
     "text": [
      "(570, 11)\n"
     ]
    }
   ],
   "source": [
    "df = df.drop_duplicates()\n",
    "print( df.shape )"
   ]
  },
  {
   "cell_type": "markdown",
   "metadata": {},
   "source": [
    "There were 13 duplicates"
   ]
  },
  {
   "cell_type": "markdown",
   "metadata": {},
   "source": [
    "## Removing Outliers"
   ]
  },
  {
   "cell_type": "code",
   "execution_count": 499,
   "metadata": {},
   "outputs": [
    {
     "data": {
      "text/plain": [
       "<AxesSubplot: >"
      ]
     },
     "execution_count": 499,
     "metadata": {},
     "output_type": "execute_result"
    },
    {
     "data": {
      "image/png": "[encoded data removed]",
      "text/plain": [
       "<Figure size 432x288 with 1 Axes>"
      ]
     },
     "metadata": {},
     "output_type": "display_data"
    }
   ],
   "source": [
    "sns.boxplot(df.Aspartate_Aminotransferase)"
   ]
  },
  {
   "cell_type": "code",
   "execution_count": 500,
   "metadata": {},
   "outputs": [
    {
     "data": {
      "text/plain": [
       "135    4929\n",
       "117    2946\n",
       "118    1600\n",
       "207    1500\n",
       "199    1050\n",
       "Name: Aspartate_Aminotransferase, dtype: int64"
      ]
     },
     "execution_count": 500,
     "metadata": {},
     "output_type": "execute_result"
    }
   ],
   "source": [
    "df.Aspartate_Aminotransferase.sort_values(ascending=False).head()"
   ]
  },
  {
   "cell_type": "code",
   "execution_count": 501,
   "metadata": {},
   "outputs": [
    {
     "data": {
      "text/plain": [
       "(569, 11)"
      ]
     },
     "execution_count": 501,
     "metadata": {},
     "output_type": "execute_result"
    }
   ],
   "source": [
    "df = df[df.Aspartate_Aminotransferase <=3000 ]\n",
    "df.shape"
   ]
  },
  {
   "cell_type": "code",
   "execution_count": 502,
   "metadata": {},
   "outputs": [
    {
     "data": {
      "text/plain": [
       "<AxesSubplot: >"
      ]
     },
     "execution_count": 502,
     "metadata": {},
     "output_type": "execute_result"
    },
    {
     "data": {
      "image/png": "[encoded data removed]",
      "text/plain": [
       "<Figure size 432x288 with 1 Axes>"
      ]
     },
     "metadata": {},
     "output_type": "display_data"
    }
   ],
   "source": [
    "sns.boxplot(df.Aspartate_Aminotransferase)"
   ]
  },
  {
   "cell_type": "code",
   "execution_count": 503,
   "metadata": {},
   "outputs": [
    {
     "data": {
      "text/plain": [
       "117    2946\n",
       "118    1600\n",
       "207    1500\n",
       "119    1050\n",
       "199    1050\n",
       "Name: Aspartate_Aminotransferase, dtype: int64"
      ]
     },
     "execution_count": 503,
     "metadata": {},
     "output_type": "execute_result"
    }
   ],
   "source": [
    "df.Aspartate_Aminotransferase.sort_values(ascending=False).head()"
   ]
  },
  {
   "cell_type": "code",
   "execution_count": 504,
   "metadata": {},
   "outputs": [
    {
     "data": {
      "text/plain": [
       "(568, 11)"
      ]
     },
     "execution_count": 504,
     "metadata": {},
     "output_type": "execute_result"
    }
   ],
   "source": [
    "df = df[df.Aspartate_Aminotransferase <=2500 ]\n",
    "df.shape"
   ]
  },
  {
   "cell_type": "code",
   "execution_count": 505,
   "metadata": {},
   "outputs": [
    {
     "data": {
      "text/plain": [
       "True"
      ]
     },
     "execution_count": 505,
     "metadata": {},
     "output_type": "execute_result"
    }
   ],
   "source": [
    "df.isnull().values.any()"
   ]
  },
  {
   "cell_type": "code",
   "execution_count": 506,
   "metadata": {
    "collapsed": true
   },
   "outputs": [],
   "source": [
    "df=df.dropna(how='any')  "
   ]
  },
  {
   "cell_type": "code",
   "execution_count": 507,
   "metadata": {},
   "outputs": [
    {
     "data": {
      "text/plain": [
       "(564, 11)"
      ]
     },
     "execution_count": 507,
     "metadata": {},
     "output_type": "execute_result"
    }
   ],
   "source": [
    "df.shape"
   ]
  },
  {
   "cell_type": "code",
   "execution_count": 508,
   "metadata": {},
   "outputs": [
    {
     "data": {
      "text/html": [
       "<div>\n",
       "<style scoped>\n",
       "    .dataframe tbody tr th:only-of-type {\n",
       "        vertical-align: middle;\n",
       "    }\n",
       "\n",
       "    .dataframe tbody tr th {\n",
       "        vertical-align: top;\n",
       "    }\n",
       "\n",
       "    .dataframe thead th {\n",
       "        text-align: right;\n",
       "    }\n",
       "</style>\n",
       "<table border=\"1\" class=\"dataframe\">\n",
       "  <thead>\n",
       "    <tr style=\"text-align: right;\">\n",
       "      <th></th>\n",
       "      <th>Age</th>\n",
       "      <th>Gender</th>\n",
       "      <th>Total_Bilirubin</th>\n",
       "      <th>Direct_Bilirubin</th>\n",
       "      <th>Alkaline_Phosphotase</th>\n",
       "      <th>Alamine_Aminotransferase</th>\n",
       "      <th>Aspartate_Aminotransferase</th>\n",
       "      <th>Total_Protiens</th>\n",
       "      <th>Albumin</th>\n",
       "      <th>Albumin_and_Globulin_Ratio</th>\n",
       "      <th>Dataset</th>\n",
       "    </tr>\n",
       "  </thead>\n",
       "  <tbody>\n",
       "    <tr>\n",
       "      <th>0</th>\n",
       "      <td>65</td>\n",
       "      <td>1</td>\n",
       "      <td>0.7</td>\n",
       "      <td>0.1</td>\n",
       "      <td>187</td>\n",
       "      <td>16</td>\n",
       "      <td>18</td>\n",
       "      <td>6.8</td>\n",
       "      <td>3.3</td>\n",
       "      <td>0.90</td>\n",
       "      <td>1</td>\n",
       "    </tr>\n",
       "    <tr>\n",
       "      <th>1</th>\n",
       "      <td>62</td>\n",
       "      <td>0</td>\n",
       "      <td>10.9</td>\n",
       "      <td>5.5</td>\n",
       "      <td>699</td>\n",
       "      <td>64</td>\n",
       "      <td>100</td>\n",
       "      <td>7.5</td>\n",
       "      <td>3.2</td>\n",
       "      <td>0.74</td>\n",
       "      <td>1</td>\n",
       "    </tr>\n",
       "    <tr>\n",
       "      <th>2</th>\n",
       "      <td>62</td>\n",
       "      <td>0</td>\n",
       "      <td>7.3</td>\n",
       "      <td>4.1</td>\n",
       "      <td>490</td>\n",
       "      <td>60</td>\n",
       "      <td>68</td>\n",
       "      <td>7.0</td>\n",
       "      <td>3.3</td>\n",
       "      <td>0.89</td>\n",
       "      <td>1</td>\n",
       "    </tr>\n",
       "    <tr>\n",
       "      <th>3</th>\n",
       "      <td>58</td>\n",
       "      <td>0</td>\n",
       "      <td>1.0</td>\n",
       "      <td>0.4</td>\n",
       "      <td>182</td>\n",
       "      <td>14</td>\n",
       "      <td>20</td>\n",
       "      <td>6.8</td>\n",
       "      <td>3.4</td>\n",
       "      <td>1.00</td>\n",
       "      <td>1</td>\n",
       "    </tr>\n",
       "    <tr>\n",
       "      <th>4</th>\n",
       "      <td>72</td>\n",
       "      <td>0</td>\n",
       "      <td>3.9</td>\n",
       "      <td>2.0</td>\n",
       "      <td>195</td>\n",
       "      <td>27</td>\n",
       "      <td>59</td>\n",
       "      <td>7.3</td>\n",
       "      <td>2.4</td>\n",
       "      <td>0.40</td>\n",
       "      <td>1</td>\n",
       "    </tr>\n",
       "  </tbody>\n",
       "</table>\n",
       "</div>"
      ],
      "text/plain": [
       "   Age  Gender  Total_Bilirubin  Direct_Bilirubin  Alkaline_Phosphotase  \\\n",
       "0   65       1              0.7               0.1                   187   \n",
       "1   62       0             10.9               5.5                   699   \n",
       "2   62       0              7.3               4.1                   490   \n",
       "3   58       0              1.0               0.4                   182   \n",
       "4   72       0              3.9               2.0                   195   \n",
       "\n",
       "   Alamine_Aminotransferase  Aspartate_Aminotransferase  Total_Protiens  \\\n",
       "0                        16                          18             6.8   \n",
       "1                        64                         100             7.5   \n",
       "2                        60                          68             7.0   \n",
       "3                        14                          20             6.8   \n",
       "4                        27                          59             7.3   \n",
       "\n",
       "   Albumin  Albumin_and_Globulin_Ratio  Dataset  \n",
       "0      3.3                        0.90        1  \n",
       "1      3.2                        0.74        1  \n",
       "2      3.3                        0.89        1  \n",
       "3      3.4                        1.00        1  \n",
       "4      2.4                        0.40        1  "
      ]
     },
     "execution_count": 508,
     "metadata": {},
     "output_type": "execute_result"
    }
   ],
   "source": [
    "df.head()"
   ]
  },
  {
   "cell_type": "markdown",
   "metadata": {},
   "source": [
    "## Machine Learning Models"
   ]
  },
  {
   "cell_type": "markdown",
   "metadata": {},
   "source": [
    "### Data Preparation"
   ]
  },
  {
   "cell_type": "code",
   "execution_count": 509,
   "metadata": {
    "collapsed": true
   },
   "outputs": [],
   "source": [
    "# Create separate object for target variable\n",
    "y = df.Dataset\n",
    "\n",
    "# Create separate object for input features\n",
    "X = df.drop('Dataset', axis=1)"
   ]
  },
  {
   "cell_type": "code",
   "execution_count": 510,
   "metadata": {
    "collapsed": true
   },
   "outputs": [],
   "source": [
    "# Split X and y into train and test sets\n",
    "X_train, X_test, y_train, y_test = train_test_split(X, y, \n",
    "                                                    test_size=0.2, \n",
    "                                                    random_state=1234,\n",
    "                                                    stratify=df.Dataset)\n",
    "\n"
   ]
  },
  {
   "cell_type": "code",
   "execution_count": 511,
   "metadata": {},
   "outputs": [
    {
     "name": "stdout",
     "output_type": "stream",
     "text": [
      "(451, 10) (113, 10) (451,) (113,)\n"
     ]
    }
   ],
   "source": [
    "# Print number of observations in X_train, X_test, y_train, and y_test\n",
    "print(X_train.shape, X_test.shape, y_train.shape, y_test.shape)"
   ]
  },
  {
   "cell_type": "markdown",
   "metadata": {},
   "source": [
    "### Data standardization\n",
    "* In Data Standardization we perform zero mean centring and unit scaling; i.e. we make the mean of all the features as zero and the standard deviation as 1.\n",
    "* Thus we use **mean** and **standard deviation** of each feature.\n",
    "* It is very important to save the **mean** and **standard deviation** for each of the feature from the **training set**, because we use the same mean and standard deviation in the test set."
   ]
  },
  {
   "cell_type": "code",
   "execution_count": 512,
   "metadata": {
    "collapsed": true
   },
   "outputs": [],
   "source": [
    "train_mean = X_train.mean()\n",
    "train_std = X_train.std()"
   ]
  },
  {
   "cell_type": "code",
   "execution_count": 621,
   "metadata": {},
   "outputs": [
    {
     "data": {
      "text/plain": [
       "Age                            44.509978\n",
       "Gender                          0.263858\n",
       "Total_Bilirubin                 3.388692\n",
       "Direct_Bilirubin                1.509091\n",
       "Alkaline_Phosphotase          293.767184\n",
       "Alamine_Aminotransferase       75.235033\n",
       "Aspartate_Aminotransferase     96.042129\n",
       "Total_Protiens                  6.513525\n",
       "Albumin                         3.174945\n",
       "Albumin_and_Globulin_Ratio      0.962506\n",
       "dtype: float64"
      ]
     },
     "execution_count": 621,
     "metadata": {},
     "output_type": "execute_result"
    }
   ],
   "source": [
    "train_mean"
   ]
  },
  {
   "cell_type": "code",
   "execution_count": 622,
   "metadata": {},
   "outputs": [
    {
     "data": {
      "text/plain": [
       "Age                            16.469413\n",
       "Gender                          0.441213\n",
       "Total_Bilirubin                 6.477900\n",
       "Direct_Bilirubin                2.810327\n",
       "Alkaline_Phosphotase          256.134455\n",
       "Alamine_Aminotransferase      165.412784\n",
       "Aspartate_Aminotransferase    176.837152\n",
       "Total_Protiens                  1.097074\n",
       "Albumin                         0.807282\n",
       "Albumin_and_Globulin_Ratio      0.327399\n",
       "dtype: float64"
      ]
     },
     "execution_count": 622,
     "metadata": {},
     "output_type": "execute_result"
    }
   ],
   "source": [
    "train_std"
   ]
  },
  {
   "cell_type": "code",
   "execution_count": 513,
   "metadata": {
    "collapsed": true
   },
   "outputs": [],
   "source": [
    "## Standardize the train data set\n",
    "X_train = (X_train - train_mean) / train_std"
   ]
  },
  {
   "cell_type": "code",
   "execution_count": 514,
   "metadata": {},
   "outputs": [
    {
     "data": {
      "text/html": [
       "<div>\n",
       "<style scoped>\n",
       "    .dataframe tbody tr th:only-of-type {\n",
       "        vertical-align: middle;\n",
       "    }\n",
       "\n",
       "    .dataframe tbody tr th {\n",
       "        vertical-align: top;\n",
       "    }\n",
       "\n",
       "    .dataframe thead th {\n",
       "        text-align: right;\n",
       "    }\n",
       "</style>\n",
       "<table border=\"1\" class=\"dataframe\">\n",
       "  <thead>\n",
       "    <tr style=\"text-align: right;\">\n",
       "      <th></th>\n",
       "      <th>Age</th>\n",
       "      <th>Gender</th>\n",
       "      <th>Total_Bilirubin</th>\n",
       "      <th>Direct_Bilirubin</th>\n",
       "      <th>Alkaline_Phosphotase</th>\n",
       "      <th>Alamine_Aminotransferase</th>\n",
       "      <th>Aspartate_Aminotransferase</th>\n",
       "      <th>Total_Protiens</th>\n",
       "      <th>Albumin</th>\n",
       "      <th>Albumin_and_Globulin_Ratio</th>\n",
       "    </tr>\n",
       "  </thead>\n",
       "  <tbody>\n",
       "    <tr>\n",
       "      <th>count</th>\n",
       "      <td>4.510000e+02</td>\n",
       "      <td>4.510000e+02</td>\n",
       "      <td>4.510000e+02</td>\n",
       "      <td>4.510000e+02</td>\n",
       "      <td>4.510000e+02</td>\n",
       "      <td>4.510000e+02</td>\n",
       "      <td>4.510000e+02</td>\n",
       "      <td>4.510000e+02</td>\n",
       "      <td>4.510000e+02</td>\n",
       "      <td>4.510000e+02</td>\n",
       "    </tr>\n",
       "    <tr>\n",
       "      <th>mean</th>\n",
       "      <td>1.378547e-16</td>\n",
       "      <td>-8.271285e-17</td>\n",
       "      <td>-3.938707e-18</td>\n",
       "      <td>1.772418e-17</td>\n",
       "      <td>6.301931e-17</td>\n",
       "      <td>-7.877414e-18</td>\n",
       "      <td>-2.363224e-17</td>\n",
       "      <td>1.486862e-15</td>\n",
       "      <td>1.417935e-16</td>\n",
       "      <td>-3.150966e-17</td>\n",
       "    </tr>\n",
       "    <tr>\n",
       "      <th>std</th>\n",
       "      <td>1.000000e+00</td>\n",
       "      <td>1.000000e+00</td>\n",
       "      <td>1.000000e+00</td>\n",
       "      <td>1.000000e+00</td>\n",
       "      <td>1.000000e+00</td>\n",
       "      <td>1.000000e+00</td>\n",
       "      <td>1.000000e+00</td>\n",
       "      <td>1.000000e+00</td>\n",
       "      <td>1.000000e+00</td>\n",
       "      <td>1.000000e+00</td>\n",
       "    </tr>\n",
       "    <tr>\n",
       "      <th>min</th>\n",
       "      <td>-2.459710e+00</td>\n",
       "      <td>-5.980292e-01</td>\n",
       "      <td>-4.613674e-01</td>\n",
       "      <td>-5.013974e-01</td>\n",
       "      <td>-9.009611e-01</td>\n",
       "      <td>-3.943772e-01</td>\n",
       "      <td>-4.865614e-01</td>\n",
       "      <td>-3.476087e+00</td>\n",
       "      <td>-2.818030e+00</td>\n",
       "      <td>-2.023543e+00</td>\n",
       "    </tr>\n",
       "    <tr>\n",
       "      <th>25%</th>\n",
       "      <td>-7.595886e-01</td>\n",
       "      <td>-5.980292e-01</td>\n",
       "      <td>-3.996190e-01</td>\n",
       "      <td>-4.658144e-01</td>\n",
       "      <td>-4.636908e-01</td>\n",
       "      <td>-3.157860e-01</td>\n",
       "      <td>-4.017376e-01</td>\n",
       "      <td>-6.503894e-01</td>\n",
       "      <td>-7.121980e-01</td>\n",
       "      <td>-6.338007e-01</td>\n",
       "    </tr>\n",
       "    <tr>\n",
       "      <th>50%</th>\n",
       "      <td>2.975347e-02</td>\n",
       "      <td>-5.980292e-01</td>\n",
       "      <td>-3.687448e-01</td>\n",
       "      <td>-4.302314e-01</td>\n",
       "      <td>-3.270438e-01</td>\n",
       "      <td>-2.432402e-01</td>\n",
       "      <td>-3.056039e-01</td>\n",
       "      <td>7.882282e-02</td>\n",
       "      <td>3.103678e-02</td>\n",
       "      <td>1.145223e-01</td>\n",
       "    </tr>\n",
       "    <tr>\n",
       "      <th>75%</th>\n",
       "      <td>7.583769e-01</td>\n",
       "      <td>1.668451e+00</td>\n",
       "      <td>-1.063141e-01</td>\n",
       "      <td>-7.440091e-02</td>\n",
       "      <td>2.042996e-02</td>\n",
       "      <td>-9.814860e-02</td>\n",
       "      <td>-7.092474e-02</td>\n",
       "      <td>6.257320e-01</td>\n",
       "      <td>8.362078e-01</td>\n",
       "      <td>4.199603e-01</td>\n",
       "    </tr>\n",
       "    <tr>\n",
       "      <th>max</th>\n",
       "      <td>2.762091e+00</td>\n",
       "      <td>1.668451e+00</td>\n",
       "      <td>1.105471e+01</td>\n",
       "      <td>6.472879e+00</td>\n",
       "      <td>7.090935e+00</td>\n",
       "      <td>9.701578e+00</td>\n",
       "      <td>8.504762e+00</td>\n",
       "      <td>2.813368e+00</td>\n",
       "      <td>2.880103e+00</td>\n",
       "      <td>5.612406e+00</td>\n",
       "    </tr>\n",
       "  </tbody>\n",
       "</table>\n",
       "</div>"
      ],
      "text/plain": [
       "                Age        Gender  Total_Bilirubin  Direct_Bilirubin  \\\n",
       "count  4.510000e+02  4.510000e+02     4.510000e+02      4.510000e+02   \n",
       "mean   1.378547e-16 -8.271285e-17    -3.938707e-18      1.772418e-17   \n",
       "std    1.000000e+00  1.000000e+00     1.000000e+00      1.000000e+00   \n",
       "min   -2.459710e+00 -5.980292e-01    -4.613674e-01     -5.013974e-01   \n",
       "25%   -7.595886e-01 -5.980292e-01    -3.996190e-01     -4.658144e-01   \n",
       "50%    2.975347e-02 -5.980292e-01    -3.687448e-01     -4.302314e-01   \n",
       "75%    7.583769e-01  1.668451e+00    -1.063141e-01     -7.440091e-02   \n",
       "max    2.762091e+00  1.668451e+00     1.105471e+01      6.472879e+00   \n",
       "\n",
       "       Alkaline_Phosphotase  Alamine_Aminotransferase  \\\n",
       "count          4.510000e+02              4.510000e+02   \n",
       "mean           6.301931e-17             -7.877414e-18   \n",
       "std            1.000000e+00              1.000000e+00   \n",
       "min           -9.009611e-01             -3.943772e-01   \n",
       "25%           -4.636908e-01             -3.157860e-01   \n",
       "50%           -3.270438e-01             -2.432402e-01   \n",
       "75%            2.042996e-02             -9.814860e-02   \n",
       "max            7.090935e+00              9.701578e+00   \n",
       "\n",
       "       Aspartate_Aminotransferase  Total_Protiens       Albumin  \\\n",
       "count                4.510000e+02    4.510000e+02  4.510000e+02   \n",
       "mean                -2.363224e-17    1.486862e-15  1.417935e-16   \n",
       "std                  1.000000e+00    1.000000e+00  1.000000e+00   \n",
       "min                 -4.865614e-01   -3.476087e+00 -2.818030e+00   \n",
       "25%                 -4.017376e-01   -6.503894e-01 -7.121980e-01   \n",
       "50%                 -3.056039e-01    7.882282e-02  3.103678e-02   \n",
       "75%                 -7.092474e-02    6.257320e-01  8.362078e-01   \n",
       "max                  8.504762e+00    2.813368e+00  2.880103e+00   \n",
       "\n",
       "       Albumin_and_Globulin_Ratio  \n",
       "count                4.510000e+02  \n",
       "mean                -3.150966e-17  \n",
       "std                  1.000000e+00  \n",
       "min                 -2.023543e+00  \n",
       "25%                 -6.338007e-01  \n",
       "50%                  1.145223e-01  \n",
       "75%                  4.199603e-01  \n",
       "max                  5.612406e+00  "
      ]
     },
     "execution_count": 514,
     "metadata": {},
     "output_type": "execute_result"
    }
   ],
   "source": [
    "## Check for mean and std dev.\n",
    "X_train.describe()"
   ]
  },
  {
   "cell_type": "code",
   "execution_count": 515,
   "metadata": {
    "collapsed": true
   },
   "outputs": [],
   "source": [
    "## Note: We use train_mean and train_std_dev to standardize test data set\n",
    "X_test = (X_test - train_mean) / train_std"
   ]
  },
  {
   "cell_type": "code",
   "execution_count": 516,
   "metadata": {},
   "outputs": [
    {
     "data": {
      "text/html": [
       "<div>\n",
       "<style scoped>\n",
       "    .dataframe tbody tr th:only-of-type {\n",
       "        vertical-align: middle;\n",
       "    }\n",
       "\n",
       "    .dataframe tbody tr th {\n",
       "        vertical-align: top;\n",
       "    }\n",
       "\n",
       "    .dataframe thead th {\n",
       "        text-align: right;\n",
       "    }\n",
       "</style>\n",
       "<table border=\"1\" class=\"dataframe\">\n",
       "  <thead>\n",
       "    <tr style=\"text-align: right;\">\n",
       "      <th></th>\n",
       "      <th>Age</th>\n",
       "      <th>Gender</th>\n",
       "      <th>Total_Bilirubin</th>\n",
       "      <th>Direct_Bilirubin</th>\n",
       "      <th>Alkaline_Phosphotase</th>\n",
       "      <th>Alamine_Aminotransferase</th>\n",
       "      <th>Aspartate_Aminotransferase</th>\n",
       "      <th>Total_Protiens</th>\n",
       "      <th>Albumin</th>\n",
       "      <th>Albumin_and_Globulin_Ratio</th>\n",
       "    </tr>\n",
       "  </thead>\n",
       "  <tbody>\n",
       "    <tr>\n",
       "      <th>count</th>\n",
       "      <td>113.000000</td>\n",
       "      <td>113.000000</td>\n",
       "      <td>113.000000</td>\n",
       "      <td>113.000000</td>\n",
       "      <td>113.000000</td>\n",
       "      <td>113.000000</td>\n",
       "      <td>113.000000</td>\n",
       "      <td>113.000000</td>\n",
       "      <td>113.000000</td>\n",
       "      <td>113.000000</td>\n",
       "    </tr>\n",
       "    <tr>\n",
       "      <th>mean</th>\n",
       "      <td>0.109816</td>\n",
       "      <td>-0.216940</td>\n",
       "      <td>-0.062052</td>\n",
       "      <td>-0.033465</td>\n",
       "      <td>-0.048222</td>\n",
       "      <td>-0.017203</td>\n",
       "      <td>0.007819</td>\n",
       "      <td>-0.082507</td>\n",
       "      <td>-0.175052</td>\n",
       "      <td>-0.218486</td>\n",
       "    </tr>\n",
       "    <tr>\n",
       "      <th>std</th>\n",
       "      <td>0.937258</td>\n",
       "      <td>0.851421</td>\n",
       "      <td>0.835512</td>\n",
       "      <td>1.046110</td>\n",
       "      <td>0.734043</td>\n",
       "      <td>0.661163</td>\n",
       "      <td>0.874507</td>\n",
       "      <td>0.962887</td>\n",
       "      <td>0.922474</td>\n",
       "      <td>0.851370</td>\n",
       "    </tr>\n",
       "    <tr>\n",
       "      <th>min</th>\n",
       "      <td>-2.338273</td>\n",
       "      <td>-0.598029</td>\n",
       "      <td>-0.445930</td>\n",
       "      <td>-0.501397</td>\n",
       "      <td>-0.768218</td>\n",
       "      <td>-0.394377</td>\n",
       "      <td>-0.469597</td>\n",
       "      <td>-2.655723</td>\n",
       "      <td>-2.198667</td>\n",
       "      <td>-1.718105</td>\n",
       "    </tr>\n",
       "    <tr>\n",
       "      <th>25%</th>\n",
       "      <td>-0.577433</td>\n",
       "      <td>-0.598029</td>\n",
       "      <td>-0.399619</td>\n",
       "      <td>-0.465814</td>\n",
       "      <td>-0.444170</td>\n",
       "      <td>-0.321831</td>\n",
       "      <td>-0.401738</td>\n",
       "      <td>-0.741541</td>\n",
       "      <td>-0.836070</td>\n",
       "      <td>-0.801792</td>\n",
       "    </tr>\n",
       "    <tr>\n",
       "      <th>50%</th>\n",
       "      <td>0.090472</td>\n",
       "      <td>-0.598029</td>\n",
       "      <td>-0.384182</td>\n",
       "      <td>-0.430231</td>\n",
       "      <td>-0.342661</td>\n",
       "      <td>-0.261377</td>\n",
       "      <td>-0.316914</td>\n",
       "      <td>-0.012329</td>\n",
       "      <td>-0.216708</td>\n",
       "      <td>-0.190916</td>\n",
       "    </tr>\n",
       "    <tr>\n",
       "      <th>75%</th>\n",
       "      <td>0.940533</td>\n",
       "      <td>-0.598029</td>\n",
       "      <td>-0.198937</td>\n",
       "      <td>-0.181150</td>\n",
       "      <td>-0.018612</td>\n",
       "      <td>-0.007466</td>\n",
       "      <td>-0.034168</td>\n",
       "      <td>0.625732</td>\n",
       "      <td>0.526527</td>\n",
       "      <td>0.114522</td>\n",
       "    </tr>\n",
       "    <tr>\n",
       "      <th>max</th>\n",
       "      <td>1.851312</td>\n",
       "      <td>1.668451</td>\n",
       "      <td>4.231512</td>\n",
       "      <td>5.974717</td>\n",
       "      <td>3.147694</td>\n",
       "      <td>4.834965</td>\n",
       "      <td>4.263572</td>\n",
       "      <td>2.175308</td>\n",
       "      <td>2.136869</td>\n",
       "      <td>2.558026</td>\n",
       "    </tr>\n",
       "  </tbody>\n",
       "</table>\n",
       "</div>"
      ],
      "text/plain": [
       "              Age      Gender  Total_Bilirubin  Direct_Bilirubin  \\\n",
       "count  113.000000  113.000000       113.000000        113.000000   \n",
       "mean     0.109816   -0.216940        -0.062052         -0.033465   \n",
       "std      0.937258    0.851421         0.835512          1.046110   \n",
       "min     -2.338273   -0.598029        -0.445930         -0.501397   \n",
       "25%     -0.577433   -0.598029        -0.399619         -0.465814   \n",
       "50%      0.090472   -0.598029        -0.384182         -0.430231   \n",
       "75%      0.940533   -0.598029        -0.198937         -0.181150   \n",
       "max      1.851312    1.668451         4.231512          5.974717   \n",
       "\n",
       "       Alkaline_Phosphotase  Alamine_Aminotransferase  \\\n",
       "count            113.000000                113.000000   \n",
       "mean              -0.048222                 -0.017203   \n",
       "std                0.734043                  0.661163   \n",
       "min               -0.768218                 -0.394377   \n",
       "25%               -0.444170                 -0.321831   \n",
       "50%               -0.342661                 -0.261377   \n",
       "75%               -0.018612                 -0.007466   \n",
       "max                3.147694                  4.834965   \n",
       "\n",
       "       Aspartate_Aminotransferase  Total_Protiens     Albumin  \\\n",
       "count                  113.000000      113.000000  113.000000   \n",
       "mean                     0.007819       -0.082507   -0.175052   \n",
       "std                      0.874507        0.962887    0.922474   \n",
       "min                     -0.469597       -2.655723   -2.198667   \n",
       "25%                     -0.401738       -0.741541   -0.836070   \n",
       "50%                     -0.316914       -0.012329   -0.216708   \n",
       "75%                     -0.034168        0.625732    0.526527   \n",
       "max                      4.263572        2.175308    2.136869   \n",
       "\n",
       "       Albumin_and_Globulin_Ratio  \n",
       "count                  113.000000  \n",
       "mean                    -0.218486  \n",
       "std                      0.851370  \n",
       "min                     -1.718105  \n",
       "25%                     -0.801792  \n",
       "50%                     -0.190916  \n",
       "75%                      0.114522  \n",
       "max                      2.558026  "
      ]
     },
     "execution_count": 516,
     "metadata": {},
     "output_type": "execute_result"
    }
   ],
   "source": [
    "## Check for mean and std dev. - not exactly 0 and 1\n",
    "X_test.describe()"
   ]
  },
  {
   "cell_type": "markdown",
   "metadata": {},
   "source": [
    "##  Model-1 Logistic Regression"
   ]
  },
  {
   "cell_type": "code",
   "execution_count": 517,
   "metadata": {},
   "outputs": [
    {
     "data": {
      "text/html": [
       "<style>#sk-container-id-43 {color: black;background-color: white;}#sk-container-id-43 pre{padding: 0;}#sk-container-id-43 div.sk-toggleable {background-color: white;}#sk-container-id-43 label.sk-toggleable__label {cursor: pointer;display: block;width: 100%;margin-bottom: 0;padding: 0.3em;box-sizing: border-box;text-align: center;}#sk-container-id-43 label.sk-toggleable__label-arrow:before {content: \"▸\";float: left;margin-right: 0.25em;color: #696969;}#sk-container-id-43 label.sk-toggleable__label-arrow:hover:before {color: black;}#sk-container-id-43 div.sk-estimator:hover label.sk-toggleable__label-arrow:before {color: black;}#sk-container-id-43 div.sk-toggleable__content {max-height: 0;max-width: 0;overflow: hidden;text-align: left;background-color: #f0f8ff;}#sk-container-id-43 div.sk-toggleable__content pre {margin: 0.2em;color: black;border-radius: 0.25em;background-color: #f0f8ff;}#sk-container-id-43 input.sk-toggleable__control:checked~div.sk-toggleable__content {max-height: 200px;max-width: 100%;overflow: auto;}#sk-container-id-43 input.sk-toggleable__control:checked~label.sk-toggleable__label-arrow:before {content: \"▾\";}#sk-container-id-43 div.sk-estimator input.sk-toggleable__control:checked~label.sk-toggleable__label {background-color: #d4ebff;}#sk-container-id-43 div.sk-label input.sk-toggleable__control:checked~label.sk-toggleable__label {background-color: #d4ebff;}#sk-container-id-43 input.sk-hidden--visually {border: 0;clip: rect(1px 1px 1px 1px);clip: rect(1px, 1px, 1px, 1px);height: 1px;margin: -1px;overflow: hidden;padding: 0;position: absolute;width: 1px;}#sk-container-id-43 div.sk-estimator {font-family: monospace;background-color: #f0f8ff;border: 1px dotted black;border-radius: 0.25em;box-sizing: border-box;margin-bottom: 0.5em;}#sk-container-id-43 div.sk-estimator:hover {background-color: #d4ebff;}#sk-container-id-43 div.sk-parallel-item::after {content: \"\";width: 100%;border-bottom: 1px solid gray;flex-grow: 1;}#sk-container-id-43 div.sk-label:hover label.sk-toggleable__label {background-color: #d4ebff;}#sk-container-id-43 div.sk-serial::before {content: \"\";position: absolute;border-left: 1px solid gray;box-sizing: border-box;top: 0;bottom: 0;left: 50%;z-index: 0;}#sk-container-id-43 div.sk-serial {display: flex;flex-direction: column;align-items: center;background-color: white;padding-right: 0.2em;padding-left: 0.2em;position: relative;}#sk-container-id-43 div.sk-item {position: relative;z-index: 1;}#sk-container-id-43 div.sk-parallel {display: flex;align-items: stretch;justify-content: center;background-color: white;position: relative;}#sk-container-id-43 div.sk-item::before, #sk-container-id-43 div.sk-parallel-item::before {content: \"\";position: absolute;border-left: 1px solid gray;box-sizing: border-box;top: 0;bottom: 0;left: 50%;z-index: -1;}#sk-container-id-43 div.sk-parallel-item {display: flex;flex-direction: column;z-index: 1;position: relative;background-color: white;}#sk-container-id-43 div.sk-parallel-item:first-child::after {align-self: flex-end;width: 50%;}#sk-container-id-43 div.sk-parallel-item:last-child::after {align-self: flex-start;width: 50%;}#sk-container-id-43 div.sk-parallel-item:only-child::after {width: 0;}#sk-container-id-43 div.sk-dashed-wrapped {border: 1px dashed gray;margin: 0 0.4em 0.5em 0.4em;box-sizing: border-box;padding-bottom: 0.4em;background-color: white;}#sk-container-id-43 div.sk-label label {font-family: monospace;font-weight: bold;display: inline-block;line-height: 1.2em;}#sk-container-id-43 div.sk-label-container {text-align: center;}#sk-container-id-43 div.sk-container {/* jupyter's `normalize.less` sets `[hidden] { display: none; }` but bootstrap.min.css set `[hidden] { display: none !important; }` so we also need the `!important` here to be able to override the default hidden behavior on the sphinx rendered scikit-learn.org. See: https://github.com/scikit-learn/scikit-learn/issues/21755 */display: inline-block !important;position: relative;}#sk-container-id-43 div.sk-text-repr-fallback {display: none;}</style><div id=\"sk-container-id-43\" class=\"sk-top-container\"><div class=\"sk-text-repr-fallback\"><pre>GridSearchCV(estimator=LogisticRegression(), n_jobs=-1,\n",
       "             param_grid={&#x27;C&#x27;: [0.0001, 0.001, 0.01, 0.1, 1, 10, 100, 1000,\n",
       "                               10000],\n",
       "                         &#x27;penalty&#x27;: [&#x27;l1&#x27;, &#x27;l2&#x27;]},\n",
       "             scoring=&#x27;roc_auc&#x27;)</pre><b>In a Jupyter environment, please rerun this cell to show the HTML representation or trust the notebook. <br />On GitHub, the HTML representation is unable to render, please try loading this page with nbviewer.org.</b></div><div class=\"sk-container\" hidden><div class=\"sk-item sk-dashed-wrapped\"><div class=\"sk-label-container\"><div class=\"sk-label sk-toggleable\"><input class=\"sk-toggleable__control sk-hidden--visually\" id=\"sk-estimator-id-65\" type=\"checkbox\" ><label for=\"sk-estimator-id-65\" class=\"sk-toggleable__label sk-toggleable__label-arrow\">GridSearchCV</label><div class=\"sk-toggleable__content\"><pre>GridSearchCV(estimator=LogisticRegression(), n_jobs=-1,\n",
       "             param_grid={&#x27;C&#x27;: [0.0001, 0.001, 0.01, 0.1, 1, 10, 100, 1000,\n",
       "                               10000],\n",
       "                         &#x27;penalty&#x27;: [&#x27;l1&#x27;, &#x27;l2&#x27;]},\n",
       "             scoring=&#x27;roc_auc&#x27;)</pre></div></div></div><div class=\"sk-parallel\"><div class=\"sk-parallel-item\"><div class=\"sk-item\"><div class=\"sk-label-container\"><div class=\"sk-label sk-toggleable\"><input class=\"sk-toggleable__control sk-hidden--visually\" id=\"sk-estimator-id-66\" type=\"checkbox\" ><label for=\"sk-estimator-id-66\" class=\"sk-toggleable__label sk-toggleable__label-arrow\">estimator: LogisticRegression</label><div class=\"sk-toggleable__content\"><pre>LogisticRegression()</pre></div></div></div><div class=\"sk-serial\"><div class=\"sk-item\"><div class=\"sk-estimator sk-toggleable\"><input class=\"sk-toggleable__control sk-hidden--visually\" id=\"sk-estimator-id-67\" type=\"checkbox\" ><label for=\"sk-estimator-id-67\" class=\"sk-toggleable__label sk-toggleable__label-arrow\">LogisticRegression</label><div class=\"sk-toggleable__content\"><pre>LogisticRegression()</pre></div></div></div></div></div></div></div></div></div></div>"
      ],
      "text/plain": [
       "GridSearchCV(estimator=LogisticRegression(), n_jobs=-1,\n",
       "             param_grid={'C': [0.0001, 0.001, 0.01, 0.1, 1, 10, 100, 1000,\n",
       "                               10000],\n",
       "                         'penalty': ['l1', 'l2']},\n",
       "             scoring='roc_auc')"
      ]
     },
     "execution_count": 517,
     "metadata": {},
     "output_type": "execute_result"
    }
   ],
   "source": [
    "tuned_params = {'C': [0.0001, 0.001, 0.01, 0.1, 1, 10, 100, 1000, 10000], 'penalty': ['l1', 'l2']}\n",
    "model = GridSearchCV(LogisticRegression(), tuned_params, scoring = 'roc_auc', n_jobs=-1)\n",
    "model.fit(X_train, y_train)"
   ]
  },
  {
   "cell_type": "code",
   "execution_count": 518,
   "metadata": {},
   "outputs": [
    {
     "data": {
      "text/plain": [
       "['train_std.pkl']"
      ]
     },
     "execution_count": 518,
     "metadata": {},
     "output_type": "execute_result"
    }
   ],
   "source": [
    "import joblib\n",
    "joblib.dump(train_mean, \"train_mean.pkl\")\n",
    "joblib.dump(train_std, \"train_std.pkl\")"
   ]
  },
  {
   "cell_type": "code",
   "execution_count": 519,
   "metadata": {},
   "outputs": [
    {
     "data": {
      "text/html": [
       "<style>#sk-container-id-44 {color: black;background-color: white;}#sk-container-id-44 pre{padding: 0;}#sk-container-id-44 div.sk-toggleable {background-color: white;}#sk-container-id-44 label.sk-toggleable__label {cursor: pointer;display: block;width: 100%;margin-bottom: 0;padding: 0.3em;box-sizing: border-box;text-align: center;}#sk-container-id-44 label.sk-toggleable__label-arrow:before {content: \"▸\";float: left;margin-right: 0.25em;color: #696969;}#sk-container-id-44 label.sk-toggleable__label-arrow:hover:before {color: black;}#sk-container-id-44 div.sk-estimator:hover label.sk-toggleable__label-arrow:before {color: black;}#sk-container-id-44 div.sk-toggleable__content {max-height: 0;max-width: 0;overflow: hidden;text-align: left;background-color: #f0f8ff;}#sk-container-id-44 div.sk-toggleable__content pre {margin: 0.2em;color: black;border-radius: 0.25em;background-color: #f0f8ff;}#sk-container-id-44 input.sk-toggleable__control:checked~div.sk-toggleable__content {max-height: 200px;max-width: 100%;overflow: auto;}#sk-container-id-44 input.sk-toggleable__control:checked~label.sk-toggleable__label-arrow:before {content: \"▾\";}#sk-container-id-44 div.sk-estimator input.sk-toggleable__control:checked~label.sk-toggleable__label {background-color: #d4ebff;}#sk-container-id-44 div.sk-label input.sk-toggleable__control:checked~label.sk-toggleable__label {background-color: #d4ebff;}#sk-container-id-44 input.sk-hidden--visually {border: 0;clip: rect(1px 1px 1px 1px);clip: rect(1px, 1px, 1px, 1px);height: 1px;margin: -1px;overflow: hidden;padding: 0;position: absolute;width: 1px;}#sk-container-id-44 div.sk-estimator {font-family: monospace;background-color: #f0f8ff;border: 1px dotted black;border-radius: 0.25em;box-sizing: border-box;margin-bottom: 0.5em;}#sk-container-id-44 div.sk-estimator:hover {background-color: #d4ebff;}#sk-container-id-44 div.sk-parallel-item::after {content: \"\";width: 100%;border-bottom: 1px solid gray;flex-grow: 1;}#sk-container-id-44 div.sk-label:hover label.sk-toggleable__label {background-color: #d4ebff;}#sk-container-id-44 div.sk-serial::before {content: \"\";position: absolute;border-left: 1px solid gray;box-sizing: border-box;top: 0;bottom: 0;left: 50%;z-index: 0;}#sk-container-id-44 div.sk-serial {display: flex;flex-direction: column;align-items: center;background-color: white;padding-right: 0.2em;padding-left: 0.2em;position: relative;}#sk-container-id-44 div.sk-item {position: relative;z-index: 1;}#sk-container-id-44 div.sk-parallel {display: flex;align-items: stretch;justify-content: center;background-color: white;position: relative;}#sk-container-id-44 div.sk-item::before, #sk-container-id-44 div.sk-parallel-item::before {content: \"\";position: absolute;border-left: 1px solid gray;box-sizing: border-box;top: 0;bottom: 0;left: 50%;z-index: -1;}#sk-container-id-44 div.sk-parallel-item {display: flex;flex-direction: column;z-index: 1;position: relative;background-color: white;}#sk-container-id-44 div.sk-parallel-item:first-child::after {align-self: flex-end;width: 50%;}#sk-container-id-44 div.sk-parallel-item:last-child::after {align-self: flex-start;width: 50%;}#sk-container-id-44 div.sk-parallel-item:only-child::after {width: 0;}#sk-container-id-44 div.sk-dashed-wrapped {border: 1px dashed gray;margin: 0 0.4em 0.5em 0.4em;box-sizing: border-box;padding-bottom: 0.4em;background-color: white;}#sk-container-id-44 div.sk-label label {font-family: monospace;font-weight: bold;display: inline-block;line-height: 1.2em;}#sk-container-id-44 div.sk-label-container {text-align: center;}#sk-container-id-44 div.sk-container {/* jupyter's `normalize.less` sets `[hidden] { display: none; }` but bootstrap.min.css set `[hidden] { display: none !important; }` so we also need the `!important` here to be able to override the default hidden behavior on the sphinx rendered scikit-learn.org. See: https://github.com/scikit-learn/scikit-learn/issues/21755 */display: inline-block !important;position: relative;}#sk-container-id-44 div.sk-text-repr-fallback {display: none;}</style><div id=\"sk-container-id-44\" class=\"sk-top-container\"><div class=\"sk-text-repr-fallback\"><pre>LogisticRegression(C=0.1)</pre><b>In a Jupyter environment, please rerun this cell to show the HTML representation or trust the notebook. <br />On GitHub, the HTML representation is unable to render, please try loading this page with nbviewer.org.</b></div><div class=\"sk-container\" hidden><div class=\"sk-item\"><div class=\"sk-estimator sk-toggleable\"><input class=\"sk-toggleable__control sk-hidden--visually\" id=\"sk-estimator-id-68\" type=\"checkbox\" checked><label for=\"sk-estimator-id-68\" class=\"sk-toggleable__label sk-toggleable__label-arrow\">LogisticRegression</label><div class=\"sk-toggleable__content\"><pre>LogisticRegression(C=0.1)</pre></div></div></div></div></div>"
      ],
      "text/plain": [
       "LogisticRegression(C=0.1)"
      ]
     },
     "execution_count": 519,
     "metadata": {},
     "output_type": "execute_result"
    }
   ],
   "source": [
    "model.best_estimator_"
   ]
  },
  {
   "cell_type": "code",
   "execution_count": 520,
   "metadata": {
    "collapsed": true
   },
   "outputs": [],
   "source": [
    "## Predict Train set results\n",
    "y_train_pred = model.predict(X_train)"
   ]
  },
  {
   "cell_type": "code",
   "execution_count": 521,
   "metadata": {
    "collapsed": true
   },
   "outputs": [],
   "source": [
    "## Predict Test set results\n",
    "y_pred = model.predict(X_test)"
   ]
  },
  {
   "cell_type": "code",
   "execution_count": 522,
   "metadata": {
    "collapsed": true
   },
   "outputs": [],
   "source": [
    "# Get just the prediction for the positive class (1)\n",
    "y_pred_proba = model.predict_proba(X_test)[:,1]"
   ]
  },
  {
   "cell_type": "code",
   "execution_count": 523,
   "metadata": {},
   "outputs": [
    {
     "data": {
      "text/plain": [
       "array([0.62886101, 0.60635075, 0.65628802, 0.69577814, 0.45236153,\n",
       "       0.97879646, 0.56694329, 0.67530199, 0.79401715, 0.50727069])"
      ]
     },
     "execution_count": 523,
     "metadata": {},
     "output_type": "execute_result"
    }
   ],
   "source": [
    "# Display first 10 predictions\n",
    "y_pred_proba[:10]"
   ]
  },
  {
   "cell_type": "code",
   "execution_count": 524,
   "metadata": {},
   "outputs": [
    {
     "name": "stdout",
     "output_type": "stream",
     "text": [
      "For test point 28, actual class = 1, precited class = 1, predicted probability = 0.8175521111565488\n"
     ]
    }
   ],
   "source": [
    "i=28  ## Change the value of i to get the details of any point (56, 213, etc.)\n",
    "print('For test point {}, actual class = {}, precited class = {}, predicted probability = {}'.\n",
    "      format(i, y_test.iloc[i], y_pred[i], y_pred_proba[i]))"
   ]
  },
  {
   "cell_type": "code",
   "execution_count": 525,
   "metadata": {},
   "outputs": [
    {
     "data": {
      "text/plain": [
       "array([[ 1,  4],\n",
       "       [31, 77]], dtype=int64)"
      ]
     },
     "execution_count": 525,
     "metadata": {},
     "output_type": "execute_result"
    }
   ],
   "source": [
    "confusion_matrix(y_test, y_pred).T"
   ]
  },
  {
   "cell_type": "code",
   "execution_count": 526,
   "metadata": {
    "collapsed": true
   },
   "outputs": [],
   "source": [
    "# Calculate ROC curve from y_test and pred\n",
    "fpr, tpr, thresholds = roc_curve(y_test, y_pred_proba)"
   ]
  },
  {
   "cell_type": "code",
   "execution_count": 527,
   "metadata": {},
   "outputs": [
    {
     "data": {
      "image/png": "[encoded data removed]",
      "text/plain": [
       "<Figure size 576x576 with 1 Axes>"
      ]
     },
     "metadata": {},
     "output_type": "display_data"
    }
   ],
   "source": [
    "# Plot the ROC curve\n",
    "fig = plt.figure(figsize=(8,8))\n",
    "plt.title('Receiver Operating Characteristic')\n",
    "\n",
    "# Plot ROC curve\n",
    "plt.plot(fpr, tpr, label='l1')\n",
    "plt.legend(loc='lower right')\n",
    "\n",
    "# Diagonal 45 degree line\n",
    "plt.plot([0,1],[0,1],'k--')\n",
    "\n",
    "# Axes limits and labels\n",
    "plt.xlim([-0.1,1.1])\n",
    "plt.ylim([-0.1,1.1])\n",
    "plt.ylabel('True Positive Rate')\n",
    "plt.xlabel('False Positive Rate')\n",
    "plt.show()"
   ]
  },
  {
   "cell_type": "code",
   "execution_count": 528,
   "metadata": {},
   "outputs": [
    {
     "name": "stdout",
     "output_type": "stream",
     "text": [
      "0.5380781212556913\n"
     ]
    }
   ],
   "source": [
    "# Calculate AUC for Train set\n",
    "print(roc_auc_score(y_train, y_train_pred))"
   ]
  },
  {
   "cell_type": "code",
   "execution_count": 529,
   "metadata": {},
   "outputs": [
    {
     "name": "stdout",
     "output_type": "stream",
     "text": [
      "0.6940586419753086\n"
     ]
    }
   ],
   "source": [
    "# Calculate AUC for Test set\n",
    "print(auc(fpr, tpr))"
   ]
  },
  {
   "cell_type": "markdown",
   "metadata": {},
   "source": [
    "#### Feature Importance"
   ]
  },
  {
   "cell_type": "code",
   "execution_count": 530,
   "metadata": {},
   "outputs": [
    {
     "data": {
      "text/html": [
       "<style>#sk-container-id-45 {color: black;background-color: white;}#sk-container-id-45 pre{padding: 0;}#sk-container-id-45 div.sk-toggleable {background-color: white;}#sk-container-id-45 label.sk-toggleable__label {cursor: pointer;display: block;width: 100%;margin-bottom: 0;padding: 0.3em;box-sizing: border-box;text-align: center;}#sk-container-id-45 label.sk-toggleable__label-arrow:before {content: \"▸\";float: left;margin-right: 0.25em;color: #696969;}#sk-container-id-45 label.sk-toggleable__label-arrow:hover:before {color: black;}#sk-container-id-45 div.sk-estimator:hover label.sk-toggleable__label-arrow:before {color: black;}#sk-container-id-45 div.sk-toggleable__content {max-height: 0;max-width: 0;overflow: hidden;text-align: left;background-color: #f0f8ff;}#sk-container-id-45 div.sk-toggleable__content pre {margin: 0.2em;color: black;border-radius: 0.25em;background-color: #f0f8ff;}#sk-container-id-45 input.sk-toggleable__control:checked~div.sk-toggleable__content {max-height: 200px;max-width: 100%;overflow: auto;}#sk-container-id-45 input.sk-toggleable__control:checked~label.sk-toggleable__label-arrow:before {content: \"▾\";}#sk-container-id-45 div.sk-estimator input.sk-toggleable__control:checked~label.sk-toggleable__label {background-color: #d4ebff;}#sk-container-id-45 div.sk-label input.sk-toggleable__control:checked~label.sk-toggleable__label {background-color: #d4ebff;}#sk-container-id-45 input.sk-hidden--visually {border: 0;clip: rect(1px 1px 1px 1px);clip: rect(1px, 1px, 1px, 1px);height: 1px;margin: -1px;overflow: hidden;padding: 0;position: absolute;width: 1px;}#sk-container-id-45 div.sk-estimator {font-family: monospace;background-color: #f0f8ff;border: 1px dotted black;border-radius: 0.25em;box-sizing: border-box;margin-bottom: 0.5em;}#sk-container-id-45 div.sk-estimator:hover {background-color: #d4ebff;}#sk-container-id-45 div.sk-parallel-item::after {content: \"\";width: 100%;border-bottom: 1px solid gray;flex-grow: 1;}#sk-container-id-45 div.sk-label:hover label.sk-toggleable__label {background-color: #d4ebff;}#sk-container-id-45 div.sk-serial::before {content: \"\";position: absolute;border-left: 1px solid gray;box-sizing: border-box;top: 0;bottom: 0;left: 50%;z-index: 0;}#sk-container-id-45 div.sk-serial {display: flex;flex-direction: column;align-items: center;background-color: white;padding-right: 0.2em;padding-left: 0.2em;position: relative;}#sk-container-id-45 div.sk-item {position: relative;z-index: 1;}#sk-container-id-45 div.sk-parallel {display: flex;align-items: stretch;justify-content: center;background-color: white;position: relative;}#sk-container-id-45 div.sk-item::before, #sk-container-id-45 div.sk-parallel-item::before {content: \"\";position: absolute;border-left: 1px solid gray;box-sizing: border-box;top: 0;bottom: 0;left: 50%;z-index: -1;}#sk-container-id-45 div.sk-parallel-item {display: flex;flex-direction: column;z-index: 1;position: relative;background-color: white;}#sk-container-id-45 div.sk-parallel-item:first-child::after {align-self: flex-end;width: 50%;}#sk-container-id-45 div.sk-parallel-item:last-child::after {align-self: flex-start;width: 50%;}#sk-container-id-45 div.sk-parallel-item:only-child::after {width: 0;}#sk-container-id-45 div.sk-dashed-wrapped {border: 1px dashed gray;margin: 0 0.4em 0.5em 0.4em;box-sizing: border-box;padding-bottom: 0.4em;background-color: white;}#sk-container-id-45 div.sk-label label {font-family: monospace;font-weight: bold;display: inline-block;line-height: 1.2em;}#sk-container-id-45 div.sk-label-container {text-align: center;}#sk-container-id-45 div.sk-container {/* jupyter's `normalize.less` sets `[hidden] { display: none; }` but bootstrap.min.css set `[hidden] { display: none !important; }` so we also need the `!important` here to be able to override the default hidden behavior on the sphinx rendered scikit-learn.org. See: https://github.com/scikit-learn/scikit-learn/issues/21755 */display: inline-block !important;position: relative;}#sk-container-id-45 div.sk-text-repr-fallback {display: none;}</style><div id=\"sk-container-id-45\" class=\"sk-top-container\"><div class=\"sk-text-repr-fallback\"><pre>LogisticRegression(C=1)</pre><b>In a Jupyter environment, please rerun this cell to show the HTML representation or trust the notebook. <br />On GitHub, the HTML representation is unable to render, please try loading this page with nbviewer.org.</b></div><div class=\"sk-container\" hidden><div class=\"sk-item\"><div class=\"sk-estimator sk-toggleable\"><input class=\"sk-toggleable__control sk-hidden--visually\" id=\"sk-estimator-id-69\" type=\"checkbox\" checked><label for=\"sk-estimator-id-69\" class=\"sk-toggleable__label sk-toggleable__label-arrow\">LogisticRegression</label><div class=\"sk-toggleable__content\"><pre>LogisticRegression(C=1)</pre></div></div></div></div></div>"
      ],
      "text/plain": [
       "LogisticRegression(C=1)"
      ]
     },
     "execution_count": 530,
     "metadata": {},
     "output_type": "execute_result"
    }
   ],
   "source": [
    "## Building the model again with the best hyperparameters\n",
    "model = LogisticRegression(C=1, penalty = 'l2')\n",
    "model.fit(X_train, y_train)"
   ]
  },
  {
   "cell_type": "code",
   "execution_count": 531,
   "metadata": {},
   "outputs": [
    {
     "name": "stdout",
     "output_type": "stream",
     "text": [
      "The features in order of importance are:\n",
      "--------------------------------------------------\n",
      "Alamine_Aminotransferase\n",
      "Direct_Bilirubin\n",
      "Aspartate_Aminotransferase\n",
      "Albumin\n",
      "Total_Protiens\n",
      "Total_Bilirubin\n",
      "Alkaline_Phosphotase\n",
      "Age\n",
      "Gender\n",
      "Albumin_and_Globulin_Ratio\n"
     ]
    }
   ],
   "source": [
    "indices = np.argsort(-abs(model.coef_[0,:]))\n",
    "print(\"The features in order of importance are:\")\n",
    "print(50*'-')\n",
    "for feature in X.columns[indices]:\n",
    "    print(feature)"
   ]
  },
  {
   "cell_type": "markdown",
   "metadata": {},
   "source": [
    "## Model-2 Random Forest"
   ]
  },
  {
   "cell_type": "code",
   "execution_count": 532,
   "metadata": {},
   "outputs": [
    {
     "data": {
      "text/html": [
       "<style>#sk-container-id-46 {color: black;background-color: white;}#sk-container-id-46 pre{padding: 0;}#sk-container-id-46 div.sk-toggleable {background-color: white;}#sk-container-id-46 label.sk-toggleable__label {cursor: pointer;display: block;width: 100%;margin-bottom: 0;padding: 0.3em;box-sizing: border-box;text-align: center;}#sk-container-id-46 label.sk-toggleable__label-arrow:before {content: \"▸\";float: left;margin-right: 0.25em;color: #696969;}#sk-container-id-46 label.sk-toggleable__label-arrow:hover:before {color: black;}#sk-container-id-46 div.sk-estimator:hover label.sk-toggleable__label-arrow:before {color: black;}#sk-container-id-46 div.sk-toggleable__content {max-height: 0;max-width: 0;overflow: hidden;text-align: left;background-color: #f0f8ff;}#sk-container-id-46 div.sk-toggleable__content pre {margin: 0.2em;color: black;border-radius: 0.25em;background-color: #f0f8ff;}#sk-container-id-46 input.sk-toggleable__control:checked~div.sk-toggleable__content {max-height: 200px;max-width: 100%;overflow: auto;}#sk-container-id-46 input.sk-toggleable__control:checked~label.sk-toggleable__label-arrow:before {content: \"▾\";}#sk-container-id-46 div.sk-estimator input.sk-toggleable__control:checked~label.sk-toggleable__label {background-color: #d4ebff;}#sk-container-id-46 div.sk-label input.sk-toggleable__control:checked~label.sk-toggleable__label {background-color: #d4ebff;}#sk-container-id-46 input.sk-hidden--visually {border: 0;clip: rect(1px 1px 1px 1px);clip: rect(1px, 1px, 1px, 1px);height: 1px;margin: -1px;overflow: hidden;padding: 0;position: absolute;width: 1px;}#sk-container-id-46 div.sk-estimator {font-family: monospace;background-color: #f0f8ff;border: 1px dotted black;border-radius: 0.25em;box-sizing: border-box;margin-bottom: 0.5em;}#sk-container-id-46 div.sk-estimator:hover {background-color: #d4ebff;}#sk-container-id-46 div.sk-parallel-item::after {content: \"\";width: 100%;border-bottom: 1px solid gray;flex-grow: 1;}#sk-container-id-46 div.sk-label:hover label.sk-toggleable__label {background-color: #d4ebff;}#sk-container-id-46 div.sk-serial::before {content: \"\";position: absolute;border-left: 1px solid gray;box-sizing: border-box;top: 0;bottom: 0;left: 50%;z-index: 0;}#sk-container-id-46 div.sk-serial {display: flex;flex-direction: column;align-items: center;background-color: white;padding-right: 0.2em;padding-left: 0.2em;position: relative;}#sk-container-id-46 div.sk-item {position: relative;z-index: 1;}#sk-container-id-46 div.sk-parallel {display: flex;align-items: stretch;justify-content: center;background-color: white;position: relative;}#sk-container-id-46 div.sk-item::before, #sk-container-id-46 div.sk-parallel-item::before {content: \"\";position: absolute;border-left: 1px solid gray;box-sizing: border-box;top: 0;bottom: 0;left: 50%;z-index: -1;}#sk-container-id-46 div.sk-parallel-item {display: flex;flex-direction: column;z-index: 1;position: relative;background-color: white;}#sk-container-id-46 div.sk-parallel-item:first-child::after {align-self: flex-end;width: 50%;}#sk-container-id-46 div.sk-parallel-item:last-child::after {align-self: flex-start;width: 50%;}#sk-container-id-46 div.sk-parallel-item:only-child::after {width: 0;}#sk-container-id-46 div.sk-dashed-wrapped {border: 1px dashed gray;margin: 0 0.4em 0.5em 0.4em;box-sizing: border-box;padding-bottom: 0.4em;background-color: white;}#sk-container-id-46 div.sk-label label {font-family: monospace;font-weight: bold;display: inline-block;line-height: 1.2em;}#sk-container-id-46 div.sk-label-container {text-align: center;}#sk-container-id-46 div.sk-container {/* jupyter's `normalize.less` sets `[hidden] { display: none; }` but bootstrap.min.css set `[hidden] { display: none !important; }` so we also need the `!important` here to be able to override the default hidden behavior on the sphinx rendered scikit-learn.org. See: https://github.com/scikit-learn/scikit-learn/issues/21755 */display: inline-block !important;position: relative;}#sk-container-id-46 div.sk-text-repr-fallback {display: none;}</style><div id=\"sk-container-id-46\" class=\"sk-top-container\"><div class=\"sk-text-repr-fallback\"><pre>RandomizedSearchCV(estimator=RandomForestClassifier(), n_iter=15, n_jobs=-1,\n",
       "                   param_distributions={&#x27;min_samples_leaf&#x27;: [1, 2, 4],\n",
       "                                        &#x27;min_samples_split&#x27;: [2, 5, 10],\n",
       "                                        &#x27;n_estimators&#x27;: [100, 200, 300, 400,\n",
       "                                                         500]},\n",
       "                   scoring=&#x27;roc_auc&#x27;)</pre><b>In a Jupyter environment, please rerun this cell to show the HTML representation or trust the notebook. <br />On GitHub, the HTML representation is unable to render, please try loading this page with nbviewer.org.</b></div><div class=\"sk-container\" hidden><div class=\"sk-item sk-dashed-wrapped\"><div class=\"sk-label-container\"><div class=\"sk-label sk-toggleable\"><input class=\"sk-toggleable__control sk-hidden--visually\" id=\"sk-estimator-id-70\" type=\"checkbox\" ><label for=\"sk-estimator-id-70\" class=\"sk-toggleable__label sk-toggleable__label-arrow\">RandomizedSearchCV</label><div class=\"sk-toggleable__content\"><pre>RandomizedSearchCV(estimator=RandomForestClassifier(), n_iter=15, n_jobs=-1,\n",
       "                   param_distributions={&#x27;min_samples_leaf&#x27;: [1, 2, 4],\n",
       "                                        &#x27;min_samples_split&#x27;: [2, 5, 10],\n",
       "                                        &#x27;n_estimators&#x27;: [100, 200, 300, 400,\n",
       "                                                         500]},\n",
       "                   scoring=&#x27;roc_auc&#x27;)</pre></div></div></div><div class=\"sk-parallel\"><div class=\"sk-parallel-item\"><div class=\"sk-item\"><div class=\"sk-label-container\"><div class=\"sk-label sk-toggleable\"><input class=\"sk-toggleable__control sk-hidden--visually\" id=\"sk-estimator-id-71\" type=\"checkbox\" ><label for=\"sk-estimator-id-71\" class=\"sk-toggleable__label sk-toggleable__label-arrow\">estimator: RandomForestClassifier</label><div class=\"sk-toggleable__content\"><pre>RandomForestClassifier()</pre></div></div></div><div class=\"sk-serial\"><div class=\"sk-item\"><div class=\"sk-estimator sk-toggleable\"><input class=\"sk-toggleable__control sk-hidden--visually\" id=\"sk-estimator-id-72\" type=\"checkbox\" ><label for=\"sk-estimator-id-72\" class=\"sk-toggleable__label sk-toggleable__label-arrow\">RandomForestClassifier</label><div class=\"sk-toggleable__content\"><pre>RandomForestClassifier()</pre></div></div></div></div></div></div></div></div></div></div>"
      ],
      "text/plain": [
       "RandomizedSearchCV(estimator=RandomForestClassifier(), n_iter=15, n_jobs=-1,\n",
       "                   param_distributions={'min_samples_leaf': [1, 2, 4],\n",
       "                                        'min_samples_split': [2, 5, 10],\n",
       "                                        'n_estimators': [100, 200, 300, 400,\n",
       "                                                         500]},\n",
       "                   scoring='roc_auc')"
      ]
     },
     "execution_count": 532,
     "metadata": {},
     "output_type": "execute_result"
    }
   ],
   "source": [
    "tuned_params = {'n_estimators': [100, 200, 300, 400, 500], 'min_samples_split': [2, 5, 10], 'min_samples_leaf': [1, 2, 4]}\n",
    "model = RandomizedSearchCV(RandomForestClassifier(), tuned_params, n_iter=15, scoring = 'roc_auc', n_jobs=-1)\n",
    "model.fit(X_train, y_train)"
   ]
  },
  {
   "cell_type": "code",
   "execution_count": 533,
   "metadata": {},
   "outputs": [
    {
     "data": {
      "text/html": [
       "<style>#sk-container-id-47 {color: black;background-color: white;}#sk-container-id-47 pre{padding: 0;}#sk-container-id-47 div.sk-toggleable {background-color: white;}#sk-container-id-47 label.sk-toggleable__label {cursor: pointer;display: block;width: 100%;margin-bottom: 0;padding: 0.3em;box-sizing: border-box;text-align: center;}#sk-container-id-47 label.sk-toggleable__label-arrow:before {content: \"▸\";float: left;margin-right: 0.25em;color: #696969;}#sk-container-id-47 label.sk-toggleable__label-arrow:hover:before {color: black;}#sk-container-id-47 div.sk-estimator:hover label.sk-toggleable__label-arrow:before {color: black;}#sk-container-id-47 div.sk-toggleable__content {max-height: 0;max-width: 0;overflow: hidden;text-align: left;background-color: #f0f8ff;}#sk-container-id-47 div.sk-toggleable__content pre {margin: 0.2em;color: black;border-radius: 0.25em;background-color: #f0f8ff;}#sk-container-id-47 input.sk-toggleable__control:checked~div.sk-toggleable__content {max-height: 200px;max-width: 100%;overflow: auto;}#sk-container-id-47 input.sk-toggleable__control:checked~label.sk-toggleable__label-arrow:before {content: \"▾\";}#sk-container-id-47 div.sk-estimator input.sk-toggleable__control:checked~label.sk-toggleable__label {background-color: #d4ebff;}#sk-container-id-47 div.sk-label input.sk-toggleable__control:checked~label.sk-toggleable__label {background-color: #d4ebff;}#sk-container-id-47 input.sk-hidden--visually {border: 0;clip: rect(1px 1px 1px 1px);clip: rect(1px, 1px, 1px, 1px);height: 1px;margin: -1px;overflow: hidden;padding: 0;position: absolute;width: 1px;}#sk-container-id-47 div.sk-estimator {font-family: monospace;background-color: #f0f8ff;border: 1px dotted black;border-radius: 0.25em;box-sizing: border-box;margin-bottom: 0.5em;}#sk-container-id-47 div.sk-estimator:hover {background-color: #d4ebff;}#sk-container-id-47 div.sk-parallel-item::after {content: \"\";width: 100%;border-bottom: 1px solid gray;flex-grow: 1;}#sk-container-id-47 div.sk-label:hover label.sk-toggleable__label {background-color: #d4ebff;}#sk-container-id-47 div.sk-serial::before {content: \"\";position: absolute;border-left: 1px solid gray;box-sizing: border-box;top: 0;bottom: 0;left: 50%;z-index: 0;}#sk-container-id-47 div.sk-serial {display: flex;flex-direction: column;align-items: center;background-color: white;padding-right: 0.2em;padding-left: 0.2em;position: relative;}#sk-container-id-47 div.sk-item {position: relative;z-index: 1;}#sk-container-id-47 div.sk-parallel {display: flex;align-items: stretch;justify-content: center;background-color: white;position: relative;}#sk-container-id-47 div.sk-item::before, #sk-container-id-47 div.sk-parallel-item::before {content: \"\";position: absolute;border-left: 1px solid gray;box-sizing: border-box;top: 0;bottom: 0;left: 50%;z-index: -1;}#sk-container-id-47 div.sk-parallel-item {display: flex;flex-direction: column;z-index: 1;position: relative;background-color: white;}#sk-container-id-47 div.sk-parallel-item:first-child::after {align-self: flex-end;width: 50%;}#sk-container-id-47 div.sk-parallel-item:last-child::after {align-self: flex-start;width: 50%;}#sk-container-id-47 div.sk-parallel-item:only-child::after {width: 0;}#sk-container-id-47 div.sk-dashed-wrapped {border: 1px dashed gray;margin: 0 0.4em 0.5em 0.4em;box-sizing: border-box;padding-bottom: 0.4em;background-color: white;}#sk-container-id-47 div.sk-label label {font-family: monospace;font-weight: bold;display: inline-block;line-height: 1.2em;}#sk-container-id-47 div.sk-label-container {text-align: center;}#sk-container-id-47 div.sk-container {/* jupyter's `normalize.less` sets `[hidden] { display: none; }` but bootstrap.min.css set `[hidden] { display: none !important; }` so we also need the `!important` here to be able to override the default hidden behavior on the sphinx rendered scikit-learn.org. See: https://github.com/scikit-learn/scikit-learn/issues/21755 */display: inline-block !important;position: relative;}#sk-container-id-47 div.sk-text-repr-fallback {display: none;}</style><div id=\"sk-container-id-47\" class=\"sk-top-container\"><div class=\"sk-text-repr-fallback\"><pre>RandomForestClassifier(min_samples_leaf=4)</pre><b>In a Jupyter environment, please rerun this cell to show the HTML representation or trust the notebook. <br />On GitHub, the HTML representation is unable to render, please try loading this page with nbviewer.org.</b></div><div class=\"sk-container\" hidden><div class=\"sk-item\"><div class=\"sk-estimator sk-toggleable\"><input class=\"sk-toggleable__control sk-hidden--visually\" id=\"sk-estimator-id-73\" type=\"checkbox\" checked><label for=\"sk-estimator-id-73\" class=\"sk-toggleable__label sk-toggleable__label-arrow\">RandomForestClassifier</label><div class=\"sk-toggleable__content\"><pre>RandomForestClassifier(min_samples_leaf=4)</pre></div></div></div></div></div>"
      ],
      "text/plain": [
       "RandomForestClassifier(min_samples_leaf=4)"
      ]
     },
     "execution_count": 533,
     "metadata": {},
     "output_type": "execute_result"
    }
   ],
   "source": [
    "model.best_estimator_"
   ]
  },
  {
   "cell_type": "code",
   "execution_count": 534,
   "metadata": {
    "collapsed": true
   },
   "outputs": [],
   "source": [
    "y_train_pred = model.predict(X_train)"
   ]
  },
  {
   "cell_type": "code",
   "execution_count": 535,
   "metadata": {
    "collapsed": true
   },
   "outputs": [],
   "source": [
    "y_pred = model.predict(X_test)"
   ]
  },
  {
   "cell_type": "code",
   "execution_count": 536,
   "metadata": {
    "collapsed": true
   },
   "outputs": [],
   "source": [
    "# Get just the prediction for the positive class (1)\n",
    "y_pred_proba = model.predict_proba(X_test)[:,1]"
   ]
  },
  {
   "cell_type": "code",
   "execution_count": 537,
   "metadata": {},
   "outputs": [
    {
     "data": {
      "text/plain": [
       "array([0.58276696, 0.59687038, 0.65517802, 0.64101024, 0.34082898,\n",
       "       0.98983333, 0.48618239, 0.40146831, 0.95361255, 0.38513444])"
      ]
     },
     "execution_count": 537,
     "metadata": {},
     "output_type": "execute_result"
    }
   ],
   "source": [
    "# Display first 10 predictions\n",
    "y_pred_proba[:10]"
   ]
  },
  {
   "cell_type": "code",
   "execution_count": 538,
   "metadata": {},
   "outputs": [
    {
     "data": {
      "text/plain": [
       "array([[ 6, 14],\n",
       "       [26, 67]], dtype=int64)"
      ]
     },
     "execution_count": 538,
     "metadata": {},
     "output_type": "execute_result"
    }
   ],
   "source": [
    "confusion_matrix(y_test, y_pred).T"
   ]
  },
  {
   "cell_type": "code",
   "execution_count": 539,
   "metadata": {
    "collapsed": true
   },
   "outputs": [],
   "source": [
    "# Calculate ROC curve from y_test and pred\n",
    "fpr, tpr, thresholds = roc_curve(y_test, y_pred_proba)"
   ]
  },
  {
   "cell_type": "code",
   "execution_count": 540,
   "metadata": {},
   "outputs": [
    {
     "data": {
      "image/png": "[encoded data removed]",
      "text/plain": [
       "<Figure size 576x576 with 1 Axes>"
      ]
     },
     "metadata": {},
     "output_type": "display_data"
    }
   ],
   "source": [
    "# Plot the ROC curve\n",
    "fig = plt.figure(figsize=(8,8))\n",
    "plt.title('Receiver Operating Characteristic')\n",
    "\n",
    "# Plot ROC curve\n",
    "plt.plot(fpr, tpr, label='l1')\n",
    "plt.legend(loc='lower right')\n",
    "\n",
    "# Diagonal 45 degree line\n",
    "plt.plot([0,1],[0,1],'k--')\n",
    "\n",
    "# Axes limits and labels\n",
    "plt.xlim([-0.1,1.1])\n",
    "plt.ylim([-0.1,1.1])\n",
    "plt.ylabel('True Positive Rate')\n",
    "plt.xlabel('False Positive Rate')\n",
    "plt.show()"
   ]
  },
  {
   "cell_type": "code",
   "execution_count": 541,
   "metadata": {},
   "outputs": [
    {
     "data": {
      "text/plain": [
       "0.8799424874191228"
      ]
     },
     "execution_count": 541,
     "metadata": {},
     "output_type": "execute_result"
    }
   ],
   "source": [
    "# Calculate AUC for Train set\n",
    "roc_auc_score(y_train, y_train_pred)"
   ]
  },
  {
   "cell_type": "code",
   "execution_count": 542,
   "metadata": {},
   "outputs": [
    {
     "name": "stdout",
     "output_type": "stream",
     "text": [
      "0.7334104938271605\n"
     ]
    }
   ],
   "source": [
    "# Calculate AUC for Test set\n",
    "print(auc(fpr, tpr))"
   ]
  },
  {
   "cell_type": "markdown",
   "metadata": {},
   "source": [
    "#### Feature Importance"
   ]
  },
  {
   "cell_type": "code",
   "execution_count": 543,
   "metadata": {},
   "outputs": [
    {
     "data": {
      "text/html": [
       "<style>#sk-container-id-48 {color: black;background-color: white;}#sk-container-id-48 pre{padding: 0;}#sk-container-id-48 div.sk-toggleable {background-color: white;}#sk-container-id-48 label.sk-toggleable__label {cursor: pointer;display: block;width: 100%;margin-bottom: 0;padding: 0.3em;box-sizing: border-box;text-align: center;}#sk-container-id-48 label.sk-toggleable__label-arrow:before {content: \"▸\";float: left;margin-right: 0.25em;color: #696969;}#sk-container-id-48 label.sk-toggleable__label-arrow:hover:before {color: black;}#sk-container-id-48 div.sk-estimator:hover label.sk-toggleable__label-arrow:before {color: black;}#sk-container-id-48 div.sk-toggleable__content {max-height: 0;max-width: 0;overflow: hidden;text-align: left;background-color: #f0f8ff;}#sk-container-id-48 div.sk-toggleable__content pre {margin: 0.2em;color: black;border-radius: 0.25em;background-color: #f0f8ff;}#sk-container-id-48 input.sk-toggleable__control:checked~div.sk-toggleable__content {max-height: 200px;max-width: 100%;overflow: auto;}#sk-container-id-48 input.sk-toggleable__control:checked~label.sk-toggleable__label-arrow:before {content: \"▾\";}#sk-container-id-48 div.sk-estimator input.sk-toggleable__control:checked~label.sk-toggleable__label {background-color: #d4ebff;}#sk-container-id-48 div.sk-label input.sk-toggleable__control:checked~label.sk-toggleable__label {background-color: #d4ebff;}#sk-container-id-48 input.sk-hidden--visually {border: 0;clip: rect(1px 1px 1px 1px);clip: rect(1px, 1px, 1px, 1px);height: 1px;margin: -1px;overflow: hidden;padding: 0;position: absolute;width: 1px;}#sk-container-id-48 div.sk-estimator {font-family: monospace;background-color: #f0f8ff;border: 1px dotted black;border-radius: 0.25em;box-sizing: border-box;margin-bottom: 0.5em;}#sk-container-id-48 div.sk-estimator:hover {background-color: #d4ebff;}#sk-container-id-48 div.sk-parallel-item::after {content: \"\";width: 100%;border-bottom: 1px solid gray;flex-grow: 1;}#sk-container-id-48 div.sk-label:hover label.sk-toggleable__label {background-color: #d4ebff;}#sk-container-id-48 div.sk-serial::before {content: \"\";position: absolute;border-left: 1px solid gray;box-sizing: border-box;top: 0;bottom: 0;left: 50%;z-index: 0;}#sk-container-id-48 div.sk-serial {display: flex;flex-direction: column;align-items: center;background-color: white;padding-right: 0.2em;padding-left: 0.2em;position: relative;}#sk-container-id-48 div.sk-item {position: relative;z-index: 1;}#sk-container-id-48 div.sk-parallel {display: flex;align-items: stretch;justify-content: center;background-color: white;position: relative;}#sk-container-id-48 div.sk-item::before, #sk-container-id-48 div.sk-parallel-item::before {content: \"\";position: absolute;border-left: 1px solid gray;box-sizing: border-box;top: 0;bottom: 0;left: 50%;z-index: -1;}#sk-container-id-48 div.sk-parallel-item {display: flex;flex-direction: column;z-index: 1;position: relative;background-color: white;}#sk-container-id-48 div.sk-parallel-item:first-child::after {align-self: flex-end;width: 50%;}#sk-container-id-48 div.sk-parallel-item:last-child::after {align-self: flex-start;width: 50%;}#sk-container-id-48 div.sk-parallel-item:only-child::after {width: 0;}#sk-container-id-48 div.sk-dashed-wrapped {border: 1px dashed gray;margin: 0 0.4em 0.5em 0.4em;box-sizing: border-box;padding-bottom: 0.4em;background-color: white;}#sk-container-id-48 div.sk-label label {font-family: monospace;font-weight: bold;display: inline-block;line-height: 1.2em;}#sk-container-id-48 div.sk-label-container {text-align: center;}#sk-container-id-48 div.sk-container {/* jupyter's `normalize.less` sets `[hidden] { display: none; }` but bootstrap.min.css set `[hidden] { display: none !important; }` so we also need the `!important` here to be able to override the default hidden behavior on the sphinx rendered scikit-learn.org. See: https://github.com/scikit-learn/scikit-learn/issues/21755 */display: inline-block !important;position: relative;}#sk-container-id-48 div.sk-text-repr-fallback {display: none;}</style><div id=\"sk-container-id-48\" class=\"sk-top-container\"><div class=\"sk-text-repr-fallback\"><pre>RandomForestClassifier(min_samples_leaf=4, n_estimators=500)</pre><b>In a Jupyter environment, please rerun this cell to show the HTML representation or trust the notebook. <br />On GitHub, the HTML representation is unable to render, please try loading this page with nbviewer.org.</b></div><div class=\"sk-container\" hidden><div class=\"sk-item\"><div class=\"sk-estimator sk-toggleable\"><input class=\"sk-toggleable__control sk-hidden--visually\" id=\"sk-estimator-id-74\" type=\"checkbox\" checked><label for=\"sk-estimator-id-74\" class=\"sk-toggleable__label sk-toggleable__label-arrow\">RandomForestClassifier</label><div class=\"sk-toggleable__content\"><pre>RandomForestClassifier(min_samples_leaf=4, n_estimators=500)</pre></div></div></div></div></div>"
      ],
      "text/plain": [
       "RandomForestClassifier(min_samples_leaf=4, n_estimators=500)"
      ]
     },
     "execution_count": 543,
     "metadata": {},
     "output_type": "execute_result"
    }
   ],
   "source": [
    "## Building the model again with the best hyperparameters\n",
    "model = RandomForestClassifier(n_estimators=500, min_samples_split=2, min_samples_leaf=4)\n",
    "model.fit(X_train, y_train)"
   ]
  },
  {
   "cell_type": "code",
   "execution_count": 544,
   "metadata": {},
   "outputs": [
    {
     "name": "stdout",
     "output_type": "stream",
     "text": [
      "The features in order of importance are:\n",
      "--------------------------------------------------\n",
      "Alkaline_Phosphotase\n",
      "Total_Bilirubin\n",
      "Aspartate_Aminotransferase\n",
      "Alamine_Aminotransferase\n",
      "Age\n",
      "Direct_Bilirubin\n",
      "Albumin\n",
      "Albumin_and_Globulin_Ratio\n",
      "Total_Protiens\n",
      "Gender\n"
     ]
    }
   ],
   "source": [
    "indices = np.argsort(-model.feature_importances_)\n",
    "print(\"The features in order of importance are:\")\n",
    "print(50*'-')\n",
    "for feature in X.columns[indices]:\n",
    "    print(feature)"
   ]
  },
  {
   "cell_type": "markdown",
   "metadata": {},
   "source": [
    "## Model-3 XGBoost"
   ]
  },
  {
   "cell_type": "code",
   "execution_count": 545,
   "metadata": {},
   "outputs": [
    {
     "data": {
      "text/html": [
       "<style>#sk-container-id-49 {color: black;background-color: white;}#sk-container-id-49 pre{padding: 0;}#sk-container-id-49 div.sk-toggleable {background-color: white;}#sk-container-id-49 label.sk-toggleable__label {cursor: pointer;display: block;width: 100%;margin-bottom: 0;padding: 0.3em;box-sizing: border-box;text-align: center;}#sk-container-id-49 label.sk-toggleable__label-arrow:before {content: \"▸\";float: left;margin-right: 0.25em;color: #696969;}#sk-container-id-49 label.sk-toggleable__label-arrow:hover:before {color: black;}#sk-container-id-49 div.sk-estimator:hover label.sk-toggleable__label-arrow:before {color: black;}#sk-container-id-49 div.sk-toggleable__content {max-height: 0;max-width: 0;overflow: hidden;text-align: left;background-color: #f0f8ff;}#sk-container-id-49 div.sk-toggleable__content pre {margin: 0.2em;color: black;border-radius: 0.25em;background-color: #f0f8ff;}#sk-container-id-49 input.sk-toggleable__control:checked~div.sk-toggleable__content {max-height: 200px;max-width: 100%;overflow: auto;}#sk-container-id-49 input.sk-toggleable__control:checked~label.sk-toggleable__label-arrow:before {content: \"▾\";}#sk-container-id-49 div.sk-estimator input.sk-toggleable__control:checked~label.sk-toggleable__label {background-color: #d4ebff;}#sk-container-id-49 div.sk-label input.sk-toggleable__control:checked~label.sk-toggleable__label {background-color: #d4ebff;}#sk-container-id-49 input.sk-hidden--visually {border: 0;clip: rect(1px 1px 1px 1px);clip: rect(1px, 1px, 1px, 1px);height: 1px;margin: -1px;overflow: hidden;padding: 0;position: absolute;width: 1px;}#sk-container-id-49 div.sk-estimator {font-family: monospace;background-color: #f0f8ff;border: 1px dotted black;border-radius: 0.25em;box-sizing: border-box;margin-bottom: 0.5em;}#sk-container-id-49 div.sk-estimator:hover {background-color: #d4ebff;}#sk-container-id-49 div.sk-parallel-item::after {content: \"\";width: 100%;border-bottom: 1px solid gray;flex-grow: 1;}#sk-container-id-49 div.sk-label:hover label.sk-toggleable__label {background-color: #d4ebff;}#sk-container-id-49 div.sk-serial::before {content: \"\";position: absolute;border-left: 1px solid gray;box-sizing: border-box;top: 0;bottom: 0;left: 50%;z-index: 0;}#sk-container-id-49 div.sk-serial {display: flex;flex-direction: column;align-items: center;background-color: white;padding-right: 0.2em;padding-left: 0.2em;position: relative;}#sk-container-id-49 div.sk-item {position: relative;z-index: 1;}#sk-container-id-49 div.sk-parallel {display: flex;align-items: stretch;justify-content: center;background-color: white;position: relative;}#sk-container-id-49 div.sk-item::before, #sk-container-id-49 div.sk-parallel-item::before {content: \"\";position: absolute;border-left: 1px solid gray;box-sizing: border-box;top: 0;bottom: 0;left: 50%;z-index: -1;}#sk-container-id-49 div.sk-parallel-item {display: flex;flex-direction: column;z-index: 1;position: relative;background-color: white;}#sk-container-id-49 div.sk-parallel-item:first-child::after {align-self: flex-end;width: 50%;}#sk-container-id-49 div.sk-parallel-item:last-child::after {align-self: flex-start;width: 50%;}#sk-container-id-49 div.sk-parallel-item:only-child::after {width: 0;}#sk-container-id-49 div.sk-dashed-wrapped {border: 1px dashed gray;margin: 0 0.4em 0.5em 0.4em;box-sizing: border-box;padding-bottom: 0.4em;background-color: white;}#sk-container-id-49 div.sk-label label {font-family: monospace;font-weight: bold;display: inline-block;line-height: 1.2em;}#sk-container-id-49 div.sk-label-container {text-align: center;}#sk-container-id-49 div.sk-container {/* jupyter's `normalize.less` sets `[hidden] { display: none; }` but bootstrap.min.css set `[hidden] { display: none !important; }` so we also need the `!important` here to be able to override the default hidden behavior on the sphinx rendered scikit-learn.org. See: https://github.com/scikit-learn/scikit-learn/issues/21755 */display: inline-block !important;position: relative;}#sk-container-id-49 div.sk-text-repr-fallback {display: none;}</style><div id=\"sk-container-id-49\" class=\"sk-top-container\"><div class=\"sk-text-repr-fallback\"><pre>RandomizedSearchCV(estimator=XGBClassifier(base_score=None, booster=None,\n",
       "                                           callbacks=None,\n",
       "                                           colsample_bylevel=None,\n",
       "                                           colsample_bynode=None,\n",
       "                                           colsample_bytree=None, device=None,\n",
       "                                           early_stopping_rounds=None,\n",
       "                                           enable_categorical=False,\n",
       "                                           eval_metric=None, feature_types=None,\n",
       "                                           gamma=None, grow_policy=None,\n",
       "                                           importance_type=None,\n",
       "                                           interaction_constraints=None,\n",
       "                                           learning_rate=None...\n",
       "                                           max_leaves=None,\n",
       "                                           min_child_weight=None, missing=nan,\n",
       "                                           monotone_constraints=None,\n",
       "                                           multi_strategy=None,\n",
       "                                           n_estimators=None, n_jobs=None,\n",
       "                                           num_parallel_tree=None,\n",
       "                                           random_state=None, ...),\n",
       "                   n_iter=15, n_jobs=-1,\n",
       "                   param_distributions={&#x27;learning_rate&#x27;: [0.01, 0.05, 0.1],\n",
       "                                        &#x27;max_depth&#x27;: [1, 2, 3, 4, 5],\n",
       "                                        &#x27;n_estimators&#x27;: [100, 200, 300, 400,\n",
       "                                                         500],\n",
       "                                        &#x27;reg_lambda&#x27;: [0.001, 0.1, 1.0, 10.0,\n",
       "                                                       100.0]},\n",
       "                   scoring=&#x27;roc_auc&#x27;)</pre><b>In a Jupyter environment, please rerun this cell to show the HTML representation or trust the notebook. <br />On GitHub, the HTML representation is unable to render, please try loading this page with nbviewer.org.</b></div><div class=\"sk-container\" hidden><div class=\"sk-item sk-dashed-wrapped\"><div class=\"sk-label-container\"><div class=\"sk-label sk-toggleable\"><input class=\"sk-toggleable__control sk-hidden--visually\" id=\"sk-estimator-id-75\" type=\"checkbox\" ><label for=\"sk-estimator-id-75\" class=\"sk-toggleable__label sk-toggleable__label-arrow\">RandomizedSearchCV</label><div class=\"sk-toggleable__content\"><pre>RandomizedSearchCV(estimator=XGBClassifier(base_score=None, booster=None,\n",
       "                                           callbacks=None,\n",
       "                                           colsample_bylevel=None,\n",
       "                                           colsample_bynode=None,\n",
       "                                           colsample_bytree=None, device=None,\n",
       "                                           early_stopping_rounds=None,\n",
       "                                           enable_categorical=False,\n",
       "                                           eval_metric=None, feature_types=None,\n",
       "                                           gamma=None, grow_policy=None,\n",
       "                                           importance_type=None,\n",
       "                                           interaction_constraints=None,\n",
       "                                           learning_rate=None...\n",
       "                                           max_leaves=None,\n",
       "                                           min_child_weight=None, missing=nan,\n",
       "                                           monotone_constraints=None,\n",
       "                                           multi_strategy=None,\n",
       "                                           n_estimators=None, n_jobs=None,\n",
       "                                           num_parallel_tree=None,\n",
       "                                           random_state=None, ...),\n",
       "                   n_iter=15, n_jobs=-1,\n",
       "                   param_distributions={&#x27;learning_rate&#x27;: [0.01, 0.05, 0.1],\n",
       "                                        &#x27;max_depth&#x27;: [1, 2, 3, 4, 5],\n",
       "                                        &#x27;n_estimators&#x27;: [100, 200, 300, 400,\n",
       "                                                         500],\n",
       "                                        &#x27;reg_lambda&#x27;: [0.001, 0.1, 1.0, 10.0,\n",
       "                                                       100.0]},\n",
       "                   scoring=&#x27;roc_auc&#x27;)</pre></div></div></div><div class=\"sk-parallel\"><div class=\"sk-parallel-item\"><div class=\"sk-item\"><div class=\"sk-label-container\"><div class=\"sk-label sk-toggleable\"><input class=\"sk-toggleable__control sk-hidden--visually\" id=\"sk-estimator-id-76\" type=\"checkbox\" ><label for=\"sk-estimator-id-76\" class=\"sk-toggleable__label sk-toggleable__label-arrow\">estimator: XGBClassifier</label><div class=\"sk-toggleable__content\"><pre>XGBClassifier(base_score=None, booster=None, callbacks=None,\n",
       "              colsample_bylevel=None, colsample_bynode=None,\n",
       "              colsample_bytree=None, device=None, early_stopping_rounds=None,\n",
       "              enable_categorical=False, eval_metric=None, feature_types=None,\n",
       "              gamma=None, grow_policy=None, importance_type=None,\n",
       "              interaction_constraints=None, learning_rate=None, max_bin=None,\n",
       "              max_cat_threshold=None, max_cat_to_onehot=None,\n",
       "              max_delta_step=None, max_depth=None, max_leaves=None,\n",
       "              min_child_weight=None, missing=nan, monotone_constraints=None,\n",
       "              multi_strategy=None, n_estimators=None, n_jobs=None,\n",
       "              num_parallel_tree=None, random_state=None, ...)</pre></div></div></div><div class=\"sk-serial\"><div class=\"sk-item\"><div class=\"sk-estimator sk-toggleable\"><input class=\"sk-toggleable__control sk-hidden--visually\" id=\"sk-estimator-id-77\" type=\"checkbox\" ><label for=\"sk-estimator-id-77\" class=\"sk-toggleable__label sk-toggleable__label-arrow\">XGBClassifier</label><div class=\"sk-toggleable__content\"><pre>XGBClassifier(base_score=None, booster=None, callbacks=None,\n",
       "              colsample_bylevel=None, colsample_bynode=None,\n",
       "              colsample_bytree=None, device=None, early_stopping_rounds=None,\n",
       "              enable_categorical=False, eval_metric=None, feature_types=None,\n",
       "              gamma=None, grow_policy=None, importance_type=None,\n",
       "              interaction_constraints=None, learning_rate=None, max_bin=None,\n",
       "              max_cat_threshold=None, max_cat_to_onehot=None,\n",
       "              max_delta_step=None, max_depth=None, max_leaves=None,\n",
       "              min_child_weight=None, missing=nan, monotone_constraints=None,\n",
       "              multi_strategy=None, n_estimators=None, n_jobs=None,\n",
       "              num_parallel_tree=None, random_state=None, ...)</pre></div></div></div></div></div></div></div></div></div></div>"
      ],
      "text/plain": [
       "RandomizedSearchCV(estimator=XGBClassifier(base_score=None, booster=None,\n",
       "                                           callbacks=None,\n",
       "                                           colsample_bylevel=None,\n",
       "                                           colsample_bynode=None,\n",
       "                                           colsample_bytree=None, device=None,\n",
       "                                           early_stopping_rounds=None,\n",
       "                                           enable_categorical=False,\n",
       "                                           eval_metric=None, feature_types=None,\n",
       "                                           gamma=None, grow_policy=None,\n",
       "                                           importance_type=None,\n",
       "                                           interaction_constraints=None,\n",
       "                                           learning_rate=None...\n",
       "                                           max_leaves=None,\n",
       "                                           min_child_weight=None, missing=nan,\n",
       "                                           monotone_constraints=None,\n",
       "                                           multi_strategy=None,\n",
       "                                           n_estimators=None, n_jobs=None,\n",
       "                                           num_parallel_tree=None,\n",
       "                                           random_state=None, ...),\n",
       "                   n_iter=15, n_jobs=-1,\n",
       "                   param_distributions={'learning_rate': [0.01, 0.05, 0.1],\n",
       "                                        'max_depth': [1, 2, 3, 4, 5],\n",
       "                                        'n_estimators': [100, 200, 300, 400,\n",
       "                                                         500],\n",
       "                                        'reg_lambda': [0.001, 0.1, 1.0, 10.0,\n",
       "                                                       100.0]},\n",
       "                   scoring='roc_auc')"
      ]
     },
     "execution_count": 545,
     "metadata": {},
     "output_type": "execute_result"
    }
   ],
   "source": [
    "tuned_params = {'max_depth': [1, 2, 3, 4, 5], 'learning_rate': [0.01, 0.05, 0.1], 'n_estimators': [100, 200, 300, 400, 500], 'reg_lambda': [0.001, 0.1, 1.0, 10.0, 100.0]}\n",
    "model = RandomizedSearchCV(XGBClassifier(), tuned_params, n_iter=15, scoring = 'roc_auc', n_jobs=-1)\n",
    "model.fit(X_train, y_train)"
   ]
  },
  {
   "cell_type": "code",
   "execution_count": 546,
   "metadata": {},
   "outputs": [
    {
     "data": {
      "text/html": [
       "<style>#sk-container-id-50 {color: black;background-color: white;}#sk-container-id-50 pre{padding: 0;}#sk-container-id-50 div.sk-toggleable {background-color: white;}#sk-container-id-50 label.sk-toggleable__label {cursor: pointer;display: block;width: 100%;margin-bottom: 0;padding: 0.3em;box-sizing: border-box;text-align: center;}#sk-container-id-50 label.sk-toggleable__label-arrow:before {content: \"▸\";float: left;margin-right: 0.25em;color: #696969;}#sk-container-id-50 label.sk-toggleable__label-arrow:hover:before {color: black;}#sk-container-id-50 div.sk-estimator:hover label.sk-toggleable__label-arrow:before {color: black;}#sk-container-id-50 div.sk-toggleable__content {max-height: 0;max-width: 0;overflow: hidden;text-align: left;background-color: #f0f8ff;}#sk-container-id-50 div.sk-toggleable__content pre {margin: 0.2em;color: black;border-radius: 0.25em;background-color: #f0f8ff;}#sk-container-id-50 input.sk-toggleable__control:checked~div.sk-toggleable__content {max-height: 200px;max-width: 100%;overflow: auto;}#sk-container-id-50 input.sk-toggleable__control:checked~label.sk-toggleable__label-arrow:before {content: \"▾\";}#sk-container-id-50 div.sk-estimator input.sk-toggleable__control:checked~label.sk-toggleable__label {background-color: #d4ebff;}#sk-container-id-50 div.sk-label input.sk-toggleable__control:checked~label.sk-toggleable__label {background-color: #d4ebff;}#sk-container-id-50 input.sk-hidden--visually {border: 0;clip: rect(1px 1px 1px 1px);clip: rect(1px, 1px, 1px, 1px);height: 1px;margin: -1px;overflow: hidden;padding: 0;position: absolute;width: 1px;}#sk-container-id-50 div.sk-estimator {font-family: monospace;background-color: #f0f8ff;border: 1px dotted black;border-radius: 0.25em;box-sizing: border-box;margin-bottom: 0.5em;}#sk-container-id-50 div.sk-estimator:hover {background-color: #d4ebff;}#sk-container-id-50 div.sk-parallel-item::after {content: \"\";width: 100%;border-bottom: 1px solid gray;flex-grow: 1;}#sk-container-id-50 div.sk-label:hover label.sk-toggleable__label {background-color: #d4ebff;}#sk-container-id-50 div.sk-serial::before {content: \"\";position: absolute;border-left: 1px solid gray;box-sizing: border-box;top: 0;bottom: 0;left: 50%;z-index: 0;}#sk-container-id-50 div.sk-serial {display: flex;flex-direction: column;align-items: center;background-color: white;padding-right: 0.2em;padding-left: 0.2em;position: relative;}#sk-container-id-50 div.sk-item {position: relative;z-index: 1;}#sk-container-id-50 div.sk-parallel {display: flex;align-items: stretch;justify-content: center;background-color: white;position: relative;}#sk-container-id-50 div.sk-item::before, #sk-container-id-50 div.sk-parallel-item::before {content: \"\";position: absolute;border-left: 1px solid gray;box-sizing: border-box;top: 0;bottom: 0;left: 50%;z-index: -1;}#sk-container-id-50 div.sk-parallel-item {display: flex;flex-direction: column;z-index: 1;position: relative;background-color: white;}#sk-container-id-50 div.sk-parallel-item:first-child::after {align-self: flex-end;width: 50%;}#sk-container-id-50 div.sk-parallel-item:last-child::after {align-self: flex-start;width: 50%;}#sk-container-id-50 div.sk-parallel-item:only-child::after {width: 0;}#sk-container-id-50 div.sk-dashed-wrapped {border: 1px dashed gray;margin: 0 0.4em 0.5em 0.4em;box-sizing: border-box;padding-bottom: 0.4em;background-color: white;}#sk-container-id-50 div.sk-label label {font-family: monospace;font-weight: bold;display: inline-block;line-height: 1.2em;}#sk-container-id-50 div.sk-label-container {text-align: center;}#sk-container-id-50 div.sk-container {/* jupyter's `normalize.less` sets `[hidden] { display: none; }` but bootstrap.min.css set `[hidden] { display: none !important; }` so we also need the `!important` here to be able to override the default hidden behavior on the sphinx rendered scikit-learn.org. See: https://github.com/scikit-learn/scikit-learn/issues/21755 */display: inline-block !important;position: relative;}#sk-container-id-50 div.sk-text-repr-fallback {display: none;}</style><div id=\"sk-container-id-50\" class=\"sk-top-container\"><div class=\"sk-text-repr-fallback\"><pre>XGBClassifier(base_score=None, booster=None, callbacks=None,\n",
       "              colsample_bylevel=None, colsample_bynode=None,\n",
       "              colsample_bytree=None, device=None, early_stopping_rounds=None,\n",
       "              enable_categorical=False, eval_metric=None, feature_types=None,\n",
       "              gamma=None, grow_policy=None, importance_type=None,\n",
       "              interaction_constraints=None, learning_rate=0.01, max_bin=None,\n",
       "              max_cat_threshold=None, max_cat_to_onehot=None,\n",
       "              max_delta_step=None, max_depth=2, max_leaves=None,\n",
       "              min_child_weight=None, missing=nan, monotone_constraints=None,\n",
       "              multi_strategy=None, n_estimators=400, n_jobs=None,\n",
       "              num_parallel_tree=None, random_state=None, ...)</pre><b>In a Jupyter environment, please rerun this cell to show the HTML representation or trust the notebook. <br />On GitHub, the HTML representation is unable to render, please try loading this page with nbviewer.org.</b></div><div class=\"sk-container\" hidden><div class=\"sk-item\"><div class=\"sk-estimator sk-toggleable\"><input class=\"sk-toggleable__control sk-hidden--visually\" id=\"sk-estimator-id-78\" type=\"checkbox\" checked><label for=\"sk-estimator-id-78\" class=\"sk-toggleable__label sk-toggleable__label-arrow\">XGBClassifier</label><div class=\"sk-toggleable__content\"><pre>XGBClassifier(base_score=None, booster=None, callbacks=None,\n",
       "              colsample_bylevel=None, colsample_bynode=None,\n",
       "              colsample_bytree=None, device=None, early_stopping_rounds=None,\n",
       "              enable_categorical=False, eval_metric=None, feature_types=None,\n",
       "              gamma=None, grow_policy=None, importance_type=None,\n",
       "              interaction_constraints=None, learning_rate=0.01, max_bin=None,\n",
       "              max_cat_threshold=None, max_cat_to_onehot=None,\n",
       "              max_delta_step=None, max_depth=2, max_leaves=None,\n",
       "              min_child_weight=None, missing=nan, monotone_constraints=None,\n",
       "              multi_strategy=None, n_estimators=400, n_jobs=None,\n",
       "              num_parallel_tree=None, random_state=None, ...)</pre></div></div></div></div></div>"
      ],
      "text/plain": [
       "XGBClassifier(base_score=None, booster=None, callbacks=None,\n",
       "              colsample_bylevel=None, colsample_bynode=None,\n",
       "              colsample_bytree=None, device=None, early_stopping_rounds=None,\n",
       "              enable_categorical=False, eval_metric=None, feature_types=None,\n",
       "              gamma=None, grow_policy=None, importance_type=None,\n",
       "              interaction_constraints=None, learning_rate=0.01, max_bin=None,\n",
       "              max_cat_threshold=None, max_cat_to_onehot=None,\n",
       "              max_delta_step=None, max_depth=2, max_leaves=None,\n",
       "              min_child_weight=None, missing=nan, monotone_constraints=None,\n",
       "              multi_strategy=None, n_estimators=400, n_jobs=None,\n",
       "              num_parallel_tree=None, random_state=None, ...)"
      ]
     },
     "execution_count": 546,
     "metadata": {},
     "output_type": "execute_result"
    }
   ],
   "source": [
    "model.best_estimator_"
   ]
  },
  {
   "cell_type": "code",
   "execution_count": 547,
   "metadata": {
    "collapsed": true
   },
   "outputs": [],
   "source": [
    "y_train_pred = model.predict(X_train)"
   ]
  },
  {
   "cell_type": "code",
   "execution_count": 548,
   "metadata": {
    "collapsed": true
   },
   "outputs": [],
   "source": [
    "y_pred = model.predict(X_test)"
   ]
  },
  {
   "cell_type": "code",
   "execution_count": 549,
   "metadata": {
    "collapsed": true
   },
   "outputs": [],
   "source": [
    "# Get just the prediction for the positive class (1)\n",
    "y_pred_proba = model.predict_proba(X_test)[:,1]"
   ]
  },
  {
   "cell_type": "code",
   "execution_count": 550,
   "metadata": {},
   "outputs": [
    {
     "data": {
      "text/plain": [
       "array([0.7016213 , 0.5254185 , 0.5212157 , 0.5236931 , 0.3563474 ,\n",
       "       0.96565765, 0.69501776, 0.58994406, 0.9107272 , 0.5078977 ],\n",
       "      dtype=float32)"
      ]
     },
     "execution_count": 550,
     "metadata": {},
     "output_type": "execute_result"
    }
   ],
   "source": [
    "# Display first 10 predictions\n",
    "y_pred_proba[:10]"
   ]
  },
  {
   "cell_type": "markdown",
   "metadata": {},
   "source": [
    "**Note:** Just as above we can use these probabilities to get model interpretation"
   ]
  },
  {
   "cell_type": "code",
   "execution_count": 551,
   "metadata": {},
   "outputs": [
    {
     "data": {
      "text/plain": [
       "array([[ 1,  7],\n",
       "       [31, 74]], dtype=int64)"
      ]
     },
     "execution_count": 551,
     "metadata": {},
     "output_type": "execute_result"
    }
   ],
   "source": [
    "confusion_matrix(y_test, y_pred).T"
   ]
  },
  {
   "cell_type": "code",
   "execution_count": 552,
   "metadata": {
    "collapsed": true
   },
   "outputs": [],
   "source": [
    "# Calculate ROC curve from y_test and pred\n",
    "fpr, tpr, thresholds = roc_curve(y_test, y_pred_proba)"
   ]
  },
  {
   "cell_type": "code",
   "execution_count": 553,
   "metadata": {},
   "outputs": [
    {
     "data": {
      "image/png": "[encoded data removed]",
      "text/plain": [
       "<Figure size 576x576 with 1 Axes>"
      ]
     },
     "metadata": {},
     "output_type": "display_data"
    }
   ],
   "source": [
    "# Plot the ROC curve\n",
    "fig = plt.figure(figsize=(8,8))\n",
    "plt.title('Receiver Operating Characteristic')\n",
    "\n",
    "# Plot ROC curve\n",
    "plt.plot(fpr, tpr, label='l1')\n",
    "plt.legend(loc='lower right')\n",
    "\n",
    "# Diagonal 45 degree line\n",
    "plt.plot([0,1],[0,1],'k--')\n",
    "\n",
    "# Axes limits and labels\n",
    "plt.xlim([-0.1,1.1])\n",
    "plt.ylim([-0.1,1.1])\n",
    "plt.ylabel('True Positive Rate')\n",
    "plt.xlabel('False Positive Rate')\n",
    "plt.show()"
   ]
  },
  {
   "cell_type": "code",
   "execution_count": 554,
   "metadata": {},
   "outputs": [
    {
     "data": {
      "text/plain": [
       "0.6290198897675533"
      ]
     },
     "execution_count": 554,
     "metadata": {},
     "output_type": "execute_result"
    }
   ],
   "source": [
    "# Calculate AUC for Train\n",
    "roc_auc_score(y_train, y_train_pred)"
   ]
  },
  {
   "cell_type": "code",
   "execution_count": 555,
   "metadata": {},
   "outputs": [
    {
     "name": "stdout",
     "output_type": "stream",
     "text": [
      "0.6878858024691358\n"
     ]
    }
   ],
   "source": [
    "# Calculate AUC for Test\n",
    "print(auc(fpr, tpr))"
   ]
  },
  {
   "cell_type": "markdown",
   "metadata": {},
   "source": [
    "#### Feature Importance"
   ]
  },
  {
   "cell_type": "code",
   "execution_count": 556,
   "metadata": {},
   "outputs": [
    {
     "data": {
      "text/html": [
       "<style>#sk-container-id-51 {color: black;background-color: white;}#sk-container-id-51 pre{padding: 0;}#sk-container-id-51 div.sk-toggleable {background-color: white;}#sk-container-id-51 label.sk-toggleable__label {cursor: pointer;display: block;width: 100%;margin-bottom: 0;padding: 0.3em;box-sizing: border-box;text-align: center;}#sk-container-id-51 label.sk-toggleable__label-arrow:before {content: \"▸\";float: left;margin-right: 0.25em;color: #696969;}#sk-container-id-51 label.sk-toggleable__label-arrow:hover:before {color: black;}#sk-container-id-51 div.sk-estimator:hover label.sk-toggleable__label-arrow:before {color: black;}#sk-container-id-51 div.sk-toggleable__content {max-height: 0;max-width: 0;overflow: hidden;text-align: left;background-color: #f0f8ff;}#sk-container-id-51 div.sk-toggleable__content pre {margin: 0.2em;color: black;border-radius: 0.25em;background-color: #f0f8ff;}#sk-container-id-51 input.sk-toggleable__control:checked~div.sk-toggleable__content {max-height: 200px;max-width: 100%;overflow: auto;}#sk-container-id-51 input.sk-toggleable__control:checked~label.sk-toggleable__label-arrow:before {content: \"▾\";}#sk-container-id-51 div.sk-estimator input.sk-toggleable__control:checked~label.sk-toggleable__label {background-color: #d4ebff;}#sk-container-id-51 div.sk-label input.sk-toggleable__control:checked~label.sk-toggleable__label {background-color: #d4ebff;}#sk-container-id-51 input.sk-hidden--visually {border: 0;clip: rect(1px 1px 1px 1px);clip: rect(1px, 1px, 1px, 1px);height: 1px;margin: -1px;overflow: hidden;padding: 0;position: absolute;width: 1px;}#sk-container-id-51 div.sk-estimator {font-family: monospace;background-color: #f0f8ff;border: 1px dotted black;border-radius: 0.25em;box-sizing: border-box;margin-bottom: 0.5em;}#sk-container-id-51 div.sk-estimator:hover {background-color: #d4ebff;}#sk-container-id-51 div.sk-parallel-item::after {content: \"\";width: 100%;border-bottom: 1px solid gray;flex-grow: 1;}#sk-container-id-51 div.sk-label:hover label.sk-toggleable__label {background-color: #d4ebff;}#sk-container-id-51 div.sk-serial::before {content: \"\";position: absolute;border-left: 1px solid gray;box-sizing: border-box;top: 0;bottom: 0;left: 50%;z-index: 0;}#sk-container-id-51 div.sk-serial {display: flex;flex-direction: column;align-items: center;background-color: white;padding-right: 0.2em;padding-left: 0.2em;position: relative;}#sk-container-id-51 div.sk-item {position: relative;z-index: 1;}#sk-container-id-51 div.sk-parallel {display: flex;align-items: stretch;justify-content: center;background-color: white;position: relative;}#sk-container-id-51 div.sk-item::before, #sk-container-id-51 div.sk-parallel-item::before {content: \"\";position: absolute;border-left: 1px solid gray;box-sizing: border-box;top: 0;bottom: 0;left: 50%;z-index: -1;}#sk-container-id-51 div.sk-parallel-item {display: flex;flex-direction: column;z-index: 1;position: relative;background-color: white;}#sk-container-id-51 div.sk-parallel-item:first-child::after {align-self: flex-end;width: 50%;}#sk-container-id-51 div.sk-parallel-item:last-child::after {align-self: flex-start;width: 50%;}#sk-container-id-51 div.sk-parallel-item:only-child::after {width: 0;}#sk-container-id-51 div.sk-dashed-wrapped {border: 1px dashed gray;margin: 0 0.4em 0.5em 0.4em;box-sizing: border-box;padding-bottom: 0.4em;background-color: white;}#sk-container-id-51 div.sk-label label {font-family: monospace;font-weight: bold;display: inline-block;line-height: 1.2em;}#sk-container-id-51 div.sk-label-container {text-align: center;}#sk-container-id-51 div.sk-container {/* jupyter's `normalize.less` sets `[hidden] { display: none; }` but bootstrap.min.css set `[hidden] { display: none !important; }` so we also need the `!important` here to be able to override the default hidden behavior on the sphinx rendered scikit-learn.org. See: https://github.com/scikit-learn/scikit-learn/issues/21755 */display: inline-block !important;position: relative;}#sk-container-id-51 div.sk-text-repr-fallback {display: none;}</style><div id=\"sk-container-id-51\" class=\"sk-top-container\"><div class=\"sk-text-repr-fallback\"><pre>XGBClassifier(base_score=None, booster=None, callbacks=None,\n",
       "              colsample_bylevel=None, colsample_bynode=None,\n",
       "              colsample_bytree=None, device=None, early_stopping_rounds=None,\n",
       "              enable_categorical=False, eval_metric=None, feature_types=None,\n",
       "              gamma=None, grow_policy=None, importance_type=None,\n",
       "              interaction_constraints=None, learning_rate=0.05, max_bin=None,\n",
       "              max_cat_threshold=None, max_cat_to_onehot=None,\n",
       "              max_delta_step=None, max_depth=1, max_leaves=None,\n",
       "              min_child_weight=None, missing=nan, monotone_constraints=None,\n",
       "              multi_strategy=None, n_estimators=500, n_jobs=None,\n",
       "              num_parallel_tree=None, random_state=None, ...)</pre><b>In a Jupyter environment, please rerun this cell to show the HTML representation or trust the notebook. <br />On GitHub, the HTML representation is unable to render, please try loading this page with nbviewer.org.</b></div><div class=\"sk-container\" hidden><div class=\"sk-item\"><div class=\"sk-estimator sk-toggleable\"><input class=\"sk-toggleable__control sk-hidden--visually\" id=\"sk-estimator-id-79\" type=\"checkbox\" checked><label for=\"sk-estimator-id-79\" class=\"sk-toggleable__label sk-toggleable__label-arrow\">XGBClassifier</label><div class=\"sk-toggleable__content\"><pre>XGBClassifier(base_score=None, booster=None, callbacks=None,\n",
       "              colsample_bylevel=None, colsample_bynode=None,\n",
       "              colsample_bytree=None, device=None, early_stopping_rounds=None,\n",
       "              enable_categorical=False, eval_metric=None, feature_types=None,\n",
       "              gamma=None, grow_policy=None, importance_type=None,\n",
       "              interaction_constraints=None, learning_rate=0.05, max_bin=None,\n",
       "              max_cat_threshold=None, max_cat_to_onehot=None,\n",
       "              max_delta_step=None, max_depth=1, max_leaves=None,\n",
       "              min_child_weight=None, missing=nan, monotone_constraints=None,\n",
       "              multi_strategy=None, n_estimators=500, n_jobs=None,\n",
       "              num_parallel_tree=None, random_state=None, ...)</pre></div></div></div></div></div>"
      ],
      "text/plain": [
       "XGBClassifier(base_score=None, booster=None, callbacks=None,\n",
       "              colsample_bylevel=None, colsample_bynode=None,\n",
       "              colsample_bytree=None, device=None, early_stopping_rounds=None,\n",
       "              enable_categorical=False, eval_metric=None, feature_types=None,\n",
       "              gamma=None, grow_policy=None, importance_type=None,\n",
       "              interaction_constraints=None, learning_rate=0.05, max_bin=None,\n",
       "              max_cat_threshold=None, max_cat_to_onehot=None,\n",
       "              max_delta_step=None, max_depth=1, max_leaves=None,\n",
       "              min_child_weight=None, missing=nan, monotone_constraints=None,\n",
       "              multi_strategy=None, n_estimators=500, n_jobs=None,\n",
       "              num_parallel_tree=None, random_state=None, ...)"
      ]
     },
     "execution_count": 556,
     "metadata": {},
     "output_type": "execute_result"
    }
   ],
   "source": [
    "model = XGBClassifier(max_depth=1,learning_rate=0.05,n_estimators=500, reg_lambda=1)\n",
    "model.fit(X_train, y_train)"
   ]
  },
  {
   "cell_type": "code",
   "execution_count": 557,
   "metadata": {
    "collapsed": true
   },
   "outputs": [],
   "source": [
    "def my_plot_importance(booster, figsize, **kwargs): \n",
    "    from matplotlib import pyplot as plt\n",
    "    from xgboost import plot_importance\n",
    "    fig, ax = plt.subplots(1,1,figsize=figsize)\n",
    "    return plot_importance(booster=booster, ax=ax, **kwargs)"
   ]
  },
  {
   "cell_type": "code",
   "execution_count": 558,
   "metadata": {},
   "outputs": [
    {
     "data": {
      "text/plain": [
       "<AxesSubplot: title={'center': 'Feature importance'}, xlabel='F score', ylabel='Features'>"
      ]
     },
     "execution_count": 558,
     "metadata": {},
     "output_type": "execute_result"
    },
    {
     "data": {
      "image/png": "[encoded data removed]",
      "text/plain": [
       "<Figure size 720x720 with 1 Axes>"
      ]
     },
     "metadata": {},
     "output_type": "display_data"
    }
   ],
   "source": [
    "my_plot_importance(model, (10,10))"
   ]
  },
  {
   "cell_type": "markdown",
   "metadata": {},
   "source": [
    "## Model-4 KNN"
   ]
  },
  {
   "cell_type": "code",
   "execution_count": 559,
   "metadata": {},
   "outputs": [
    {
     "name": "stdout",
     "output_type": "stream",
     "text": [
      "\n",
      "The optimal number of neighbors is 17.\n"
     ]
    }
   ],
   "source": [
    "from sklearn.model_selection import cross_val_score\n",
    "# creating odd list of K for KNN\n",
    "neighbors = list(range(1,20,2))\n",
    "# empty list that will hold cv scores\n",
    "cv_scores = []\n",
    "\n",
    "#  10-fold cross validation , 9 datapoints will be considered for training and 1 for cross validation (turn by turn) to determine value of k\n",
    "for k in neighbors:\n",
    "    knn = KNeighborsClassifier(n_neighbors=k)\n",
    "    scores = cross_val_score(knn, X_train, y_train, cv=5, scoring='accuracy')\n",
    "    cv_scores.append(scores.mean())   \n",
    "\n",
    "# changing to misclassification error\n",
    "MSE = [1 - x for x in cv_scores]\n",
    "\n",
    "# determining best k\n",
    "optimal_k = neighbors[MSE.index(min(MSE))]\n",
    "print('\\nThe optimal number of neighbors is %d.' % optimal_k)"
   ]
  },
  {
   "cell_type": "code",
   "execution_count": 560,
   "metadata": {},
   "outputs": [
    {
     "data": {
      "text/plain": [
       "8"
      ]
     },
     "execution_count": 560,
     "metadata": {},
     "output_type": "execute_result"
    }
   ],
   "source": [
    "MSE.index(min(MSE))"
   ]
  },
  {
   "cell_type": "code",
   "execution_count": 561,
   "metadata": {},
   "outputs": [
    {
     "data": {
      "image/png": "[encoded data removed]",
      "text/plain": [
       "<Figure size 432x288 with 1 Axes>"
      ]
     },
     "metadata": {},
     "output_type": "display_data"
    }
   ],
   "source": [
    "# plot misclassification error vs k \n",
    "plt.plot(neighbors, MSE)\n",
    "plt.xlabel('Number of Neighbors K')\n",
    "plt.ylabel('Misclassification Error')\n",
    "plt.show()"
   ]
  },
  {
   "cell_type": "code",
   "execution_count": 562,
   "metadata": {},
   "outputs": [
    {
     "data": {
      "text/html": [
       "<style>#sk-container-id-52 {color: black;background-color: white;}#sk-container-id-52 pre{padding: 0;}#sk-container-id-52 div.sk-toggleable {background-color: white;}#sk-container-id-52 label.sk-toggleable__label {cursor: pointer;display: block;width: 100%;margin-bottom: 0;padding: 0.3em;box-sizing: border-box;text-align: center;}#sk-container-id-52 label.sk-toggleable__label-arrow:before {content: \"▸\";float: left;margin-right: 0.25em;color: #696969;}#sk-container-id-52 label.sk-toggleable__label-arrow:hover:before {color: black;}#sk-container-id-52 div.sk-estimator:hover label.sk-toggleable__label-arrow:before {color: black;}#sk-container-id-52 div.sk-toggleable__content {max-height: 0;max-width: 0;overflow: hidden;text-align: left;background-color: #f0f8ff;}#sk-container-id-52 div.sk-toggleable__content pre {margin: 0.2em;color: black;border-radius: 0.25em;background-color: #f0f8ff;}#sk-container-id-52 input.sk-toggleable__control:checked~div.sk-toggleable__content {max-height: 200px;max-width: 100%;overflow: auto;}#sk-container-id-52 input.sk-toggleable__control:checked~label.sk-toggleable__label-arrow:before {content: \"▾\";}#sk-container-id-52 div.sk-estimator input.sk-toggleable__control:checked~label.sk-toggleable__label {background-color: #d4ebff;}#sk-container-id-52 div.sk-label input.sk-toggleable__control:checked~label.sk-toggleable__label {background-color: #d4ebff;}#sk-container-id-52 input.sk-hidden--visually {border: 0;clip: rect(1px 1px 1px 1px);clip: rect(1px, 1px, 1px, 1px);height: 1px;margin: -1px;overflow: hidden;padding: 0;position: absolute;width: 1px;}#sk-container-id-52 div.sk-estimator {font-family: monospace;background-color: #f0f8ff;border: 1px dotted black;border-radius: 0.25em;box-sizing: border-box;margin-bottom: 0.5em;}#sk-container-id-52 div.sk-estimator:hover {background-color: #d4ebff;}#sk-container-id-52 div.sk-parallel-item::after {content: \"\";width: 100%;border-bottom: 1px solid gray;flex-grow: 1;}#sk-container-id-52 div.sk-label:hover label.sk-toggleable__label {background-color: #d4ebff;}#sk-container-id-52 div.sk-serial::before {content: \"\";position: absolute;border-left: 1px solid gray;box-sizing: border-box;top: 0;bottom: 0;left: 50%;z-index: 0;}#sk-container-id-52 div.sk-serial {display: flex;flex-direction: column;align-items: center;background-color: white;padding-right: 0.2em;padding-left: 0.2em;position: relative;}#sk-container-id-52 div.sk-item {position: relative;z-index: 1;}#sk-container-id-52 div.sk-parallel {display: flex;align-items: stretch;justify-content: center;background-color: white;position: relative;}#sk-container-id-52 div.sk-item::before, #sk-container-id-52 div.sk-parallel-item::before {content: \"\";position: absolute;border-left: 1px solid gray;box-sizing: border-box;top: 0;bottom: 0;left: 50%;z-index: -1;}#sk-container-id-52 div.sk-parallel-item {display: flex;flex-direction: column;z-index: 1;position: relative;background-color: white;}#sk-container-id-52 div.sk-parallel-item:first-child::after {align-self: flex-end;width: 50%;}#sk-container-id-52 div.sk-parallel-item:last-child::after {align-self: flex-start;width: 50%;}#sk-container-id-52 div.sk-parallel-item:only-child::after {width: 0;}#sk-container-id-52 div.sk-dashed-wrapped {border: 1px dashed gray;margin: 0 0.4em 0.5em 0.4em;box-sizing: border-box;padding-bottom: 0.4em;background-color: white;}#sk-container-id-52 div.sk-label label {font-family: monospace;font-weight: bold;display: inline-block;line-height: 1.2em;}#sk-container-id-52 div.sk-label-container {text-align: center;}#sk-container-id-52 div.sk-container {/* jupyter's `normalize.less` sets `[hidden] { display: none; }` but bootstrap.min.css set `[hidden] { display: none !important; }` so we also need the `!important` here to be able to override the default hidden behavior on the sphinx rendered scikit-learn.org. See: https://github.com/scikit-learn/scikit-learn/issues/21755 */display: inline-block !important;position: relative;}#sk-container-id-52 div.sk-text-repr-fallback {display: none;}</style><div id=\"sk-container-id-52\" class=\"sk-top-container\"><div class=\"sk-text-repr-fallback\"><pre>KNeighborsClassifier(n_neighbors=17)</pre><b>In a Jupyter environment, please rerun this cell to show the HTML representation or trust the notebook. <br />On GitHub, the HTML representation is unable to render, please try loading this page with nbviewer.org.</b></div><div class=\"sk-container\" hidden><div class=\"sk-item\"><div class=\"sk-estimator sk-toggleable\"><input class=\"sk-toggleable__control sk-hidden--visually\" id=\"sk-estimator-id-80\" type=\"checkbox\" checked><label for=\"sk-estimator-id-80\" class=\"sk-toggleable__label sk-toggleable__label-arrow\">KNeighborsClassifier</label><div class=\"sk-toggleable__content\"><pre>KNeighborsClassifier(n_neighbors=17)</pre></div></div></div></div></div>"
      ],
      "text/plain": [
       "KNeighborsClassifier(n_neighbors=17)"
      ]
     },
     "execution_count": 562,
     "metadata": {},
     "output_type": "execute_result"
    }
   ],
   "source": [
    "classifier = KNeighborsClassifier(n_neighbors = optimal_k)\n",
    "classifier.fit(X_train, y_train)"
   ]
  },
  {
   "cell_type": "code",
   "execution_count": 563,
   "metadata": {
    "collapsed": true
   },
   "outputs": [],
   "source": [
    "y_pred = classifier.predict(X_test)\n"
   ]
  },
  {
   "cell_type": "code",
   "execution_count": 564,
   "metadata": {
    "collapsed": true
   },
   "outputs": [],
   "source": [
    "y_train_pred = classifier.predict(X_train)"
   ]
  },
  {
   "cell_type": "code",
   "execution_count": 565,
   "metadata": {},
   "outputs": [
    {
     "data": {
      "text/plain": [
       "69.91150442477876"
      ]
     },
     "execution_count": 565,
     "metadata": {},
     "output_type": "execute_result"
    }
   ],
   "source": [
    "acc = accuracy_score(y_test, y_pred, normalize=True) * float(100)  ## get the accuracy on testing data\n",
    "acc"
   ]
  },
  {
   "cell_type": "code",
   "execution_count": 566,
   "metadata": {},
   "outputs": [
    {
     "data": {
      "text/plain": [
       "array([[ 4,  6],\n",
       "       [28, 75]], dtype=int64)"
      ]
     },
     "execution_count": 566,
     "metadata": {},
     "output_type": "execute_result"
    }
   ],
   "source": [
    "cnf=confusion_matrix(y_test,y_pred).T\n",
    "cnf"
   ]
  },
  {
   "cell_type": "code",
   "execution_count": 567,
   "metadata": {
    "collapsed": true
   },
   "outputs": [],
   "source": [
    "# Get just the prediction for the positive class (1)\n",
    "y_pred_proba = classifier.predict_proba(X_test)[:,1]"
   ]
  },
  {
   "cell_type": "code",
   "execution_count": 568,
   "metadata": {},
   "outputs": [
    {
     "data": {
      "text/plain": [
       "array([0.76470588, 0.64705882, 0.94117647, 0.64705882, 0.41176471,\n",
       "       1.        , 0.41176471, 0.52941176, 0.64705882, 0.52941176])"
      ]
     },
     "execution_count": 568,
     "metadata": {},
     "output_type": "execute_result"
    }
   ],
   "source": [
    "# Display first 10 predictions\n",
    "y_pred_proba[:10]"
   ]
  },
  {
   "cell_type": "code",
   "execution_count": 569,
   "metadata": {
    "collapsed": true
   },
   "outputs": [],
   "source": [
    "# Calculate ROC curve from y_test and pred\n",
    "fpr, tpr, thresholds = roc_curve(y_test, y_pred_proba)"
   ]
  },
  {
   "cell_type": "code",
   "execution_count": 570,
   "metadata": {},
   "outputs": [
    {
     "data": {
      "image/png": "[encoded data removed]",
      "text/plain": [
       "<Figure size 576x576 with 1 Axes>"
      ]
     },
     "metadata": {},
     "output_type": "display_data"
    }
   ],
   "source": [
    "# Plot the ROC curve\n",
    "fig = plt.figure(figsize=(8,8))\n",
    "plt.title('Receiver Operating Characteristic')\n",
    "\n",
    "# Plot ROC curve\n",
    "plt.plot(fpr, tpr, label='l1')\n",
    "plt.legend(loc='lower right')\n",
    "\n",
    "# Diagonal 45 degree line\n",
    "plt.plot([0,1],[0,1],'k--')\n",
    "\n",
    "# Axes limits and labels\n",
    "plt.xlim([-0.1,1.1])\n",
    "plt.ylim([-0.1,1.1])\n",
    "plt.ylabel('True Positive Rate')\n",
    "plt.xlabel('False Positive Rate')\n",
    "plt.show()"
   ]
  },
  {
   "cell_type": "code",
   "execution_count": 571,
   "metadata": {},
   "outputs": [
    {
     "data": {
      "text/plain": [
       "0.6376947040498442"
      ]
     },
     "execution_count": 571,
     "metadata": {},
     "output_type": "execute_result"
    }
   ],
   "source": [
    "# Calculate AUC for Train\n",
    "roc_auc_score(y_train, y_train_pred)"
   ]
  },
  {
   "cell_type": "code",
   "execution_count": 572,
   "metadata": {},
   "outputs": [
    {
     "name": "stdout",
     "output_type": "stream",
     "text": [
      "0.6282793209876544\n"
     ]
    }
   ],
   "source": [
    "# Calculate AUC for Test\n",
    "print(auc(fpr, tpr))"
   ]
  },
  {
   "cell_type": "markdown",
   "metadata": {},
   "source": [
    "## Model-5 Descision Trees"
   ]
  },
  {
   "cell_type": "code",
   "execution_count": 573,
   "metadata": {},
   "outputs": [
    {
     "data": {
      "text/html": [
       "<style>#sk-container-id-53 {color: black;background-color: white;}#sk-container-id-53 pre{padding: 0;}#sk-container-id-53 div.sk-toggleable {background-color: white;}#sk-container-id-53 label.sk-toggleable__label {cursor: pointer;display: block;width: 100%;margin-bottom: 0;padding: 0.3em;box-sizing: border-box;text-align: center;}#sk-container-id-53 label.sk-toggleable__label-arrow:before {content: \"▸\";float: left;margin-right: 0.25em;color: #696969;}#sk-container-id-53 label.sk-toggleable__label-arrow:hover:before {color: black;}#sk-container-id-53 div.sk-estimator:hover label.sk-toggleable__label-arrow:before {color: black;}#sk-container-id-53 div.sk-toggleable__content {max-height: 0;max-width: 0;overflow: hidden;text-align: left;background-color: #f0f8ff;}#sk-container-id-53 div.sk-toggleable__content pre {margin: 0.2em;color: black;border-radius: 0.25em;background-color: #f0f8ff;}#sk-container-id-53 input.sk-toggleable__control:checked~div.sk-toggleable__content {max-height: 200px;max-width: 100%;overflow: auto;}#sk-container-id-53 input.sk-toggleable__control:checked~label.sk-toggleable__label-arrow:before {content: \"▾\";}#sk-container-id-53 div.sk-estimator input.sk-toggleable__control:checked~label.sk-toggleable__label {background-color: #d4ebff;}#sk-container-id-53 div.sk-label input.sk-toggleable__control:checked~label.sk-toggleable__label {background-color: #d4ebff;}#sk-container-id-53 input.sk-hidden--visually {border: 0;clip: rect(1px 1px 1px 1px);clip: rect(1px, 1px, 1px, 1px);height: 1px;margin: -1px;overflow: hidden;padding: 0;position: absolute;width: 1px;}#sk-container-id-53 div.sk-estimator {font-family: monospace;background-color: #f0f8ff;border: 1px dotted black;border-radius: 0.25em;box-sizing: border-box;margin-bottom: 0.5em;}#sk-container-id-53 div.sk-estimator:hover {background-color: #d4ebff;}#sk-container-id-53 div.sk-parallel-item::after {content: \"\";width: 100%;border-bottom: 1px solid gray;flex-grow: 1;}#sk-container-id-53 div.sk-label:hover label.sk-toggleable__label {background-color: #d4ebff;}#sk-container-id-53 div.sk-serial::before {content: \"\";position: absolute;border-left: 1px solid gray;box-sizing: border-box;top: 0;bottom: 0;left: 50%;z-index: 0;}#sk-container-id-53 div.sk-serial {display: flex;flex-direction: column;align-items: center;background-color: white;padding-right: 0.2em;padding-left: 0.2em;position: relative;}#sk-container-id-53 div.sk-item {position: relative;z-index: 1;}#sk-container-id-53 div.sk-parallel {display: flex;align-items: stretch;justify-content: center;background-color: white;position: relative;}#sk-container-id-53 div.sk-item::before, #sk-container-id-53 div.sk-parallel-item::before {content: \"\";position: absolute;border-left: 1px solid gray;box-sizing: border-box;top: 0;bottom: 0;left: 50%;z-index: -1;}#sk-container-id-53 div.sk-parallel-item {display: flex;flex-direction: column;z-index: 1;position: relative;background-color: white;}#sk-container-id-53 div.sk-parallel-item:first-child::after {align-self: flex-end;width: 50%;}#sk-container-id-53 div.sk-parallel-item:last-child::after {align-self: flex-start;width: 50%;}#sk-container-id-53 div.sk-parallel-item:only-child::after {width: 0;}#sk-container-id-53 div.sk-dashed-wrapped {border: 1px dashed gray;margin: 0 0.4em 0.5em 0.4em;box-sizing: border-box;padding-bottom: 0.4em;background-color: white;}#sk-container-id-53 div.sk-label label {font-family: monospace;font-weight: bold;display: inline-block;line-height: 1.2em;}#sk-container-id-53 div.sk-label-container {text-align: center;}#sk-container-id-53 div.sk-container {/* jupyter's `normalize.less` sets `[hidden] { display: none; }` but bootstrap.min.css set `[hidden] { display: none !important; }` so we also need the `!important` here to be able to override the default hidden behavior on the sphinx rendered scikit-learn.org. See: https://github.com/scikit-learn/scikit-learn/issues/21755 */display: inline-block !important;position: relative;}#sk-container-id-53 div.sk-text-repr-fallback {display: none;}</style><div id=\"sk-container-id-53\" class=\"sk-top-container\"><div class=\"sk-text-repr-fallback\"><pre>RandomizedSearchCV(estimator=DecisionTreeClassifier(), n_iter=15, n_jobs=-1,\n",
       "                   param_distributions={&#x27;max_depth&#x27;: [2, 3, 4, 5, 6, 7],\n",
       "                                        &#x27;min_samples_leaf&#x27;: [1, 2, 3, 4, 6],\n",
       "                                        &#x27;min_samples_split&#x27;: [2, 3, 4, 5, 7]},\n",
       "                   scoring=&#x27;roc_auc&#x27;)</pre><b>In a Jupyter environment, please rerun this cell to show the HTML representation or trust the notebook. <br />On GitHub, the HTML representation is unable to render, please try loading this page with nbviewer.org.</b></div><div class=\"sk-container\" hidden><div class=\"sk-item sk-dashed-wrapped\"><div class=\"sk-label-container\"><div class=\"sk-label sk-toggleable\"><input class=\"sk-toggleable__control sk-hidden--visually\" id=\"sk-estimator-id-81\" type=\"checkbox\" ><label for=\"sk-estimator-id-81\" class=\"sk-toggleable__label sk-toggleable__label-arrow\">RandomizedSearchCV</label><div class=\"sk-toggleable__content\"><pre>RandomizedSearchCV(estimator=DecisionTreeClassifier(), n_iter=15, n_jobs=-1,\n",
       "                   param_distributions={&#x27;max_depth&#x27;: [2, 3, 4, 5, 6, 7],\n",
       "                                        &#x27;min_samples_leaf&#x27;: [1, 2, 3, 4, 6],\n",
       "                                        &#x27;min_samples_split&#x27;: [2, 3, 4, 5, 7]},\n",
       "                   scoring=&#x27;roc_auc&#x27;)</pre></div></div></div><div class=\"sk-parallel\"><div class=\"sk-parallel-item\"><div class=\"sk-item\"><div class=\"sk-label-container\"><div class=\"sk-label sk-toggleable\"><input class=\"sk-toggleable__control sk-hidden--visually\" id=\"sk-estimator-id-82\" type=\"checkbox\" ><label for=\"sk-estimator-id-82\" class=\"sk-toggleable__label sk-toggleable__label-arrow\">estimator: DecisionTreeClassifier</label><div class=\"sk-toggleable__content\"><pre>DecisionTreeClassifier()</pre></div></div></div><div class=\"sk-serial\"><div class=\"sk-item\"><div class=\"sk-estimator sk-toggleable\"><input class=\"sk-toggleable__control sk-hidden--visually\" id=\"sk-estimator-id-83\" type=\"checkbox\" ><label for=\"sk-estimator-id-83\" class=\"sk-toggleable__label sk-toggleable__label-arrow\">DecisionTreeClassifier</label><div class=\"sk-toggleable__content\"><pre>DecisionTreeClassifier()</pre></div></div></div></div></div></div></div></div></div></div>"
      ],
      "text/plain": [
       "RandomizedSearchCV(estimator=DecisionTreeClassifier(), n_iter=15, n_jobs=-1,\n",
       "                   param_distributions={'max_depth': [2, 3, 4, 5, 6, 7],\n",
       "                                        'min_samples_leaf': [1, 2, 3, 4, 6],\n",
       "                                        'min_samples_split': [2, 3, 4, 5, 7]},\n",
       "                   scoring='roc_auc')"
      ]
     },
     "execution_count": 573,
     "metadata": {},
     "output_type": "execute_result"
    }
   ],
   "source": [
    "tuned_params = {'min_samples_split': [2, 3, 4, 5, 7], 'min_samples_leaf': [1, 2, 3, 4, 6], 'max_depth': [2, 3, 4, 5, 6, 7]}\n",
    "model = RandomizedSearchCV(DecisionTreeClassifier(), tuned_params, n_iter=15, scoring = 'roc_auc', n_jobs=-1)\n",
    "model.fit(X_train, y_train)"
   ]
  },
  {
   "cell_type": "code",
   "execution_count": 574,
   "metadata": {},
   "outputs": [
    {
     "data": {
      "text/html": [
       "<style>#sk-container-id-54 {color: black;background-color: white;}#sk-container-id-54 pre{padding: 0;}#sk-container-id-54 div.sk-toggleable {background-color: white;}#sk-container-id-54 label.sk-toggleable__label {cursor: pointer;display: block;width: 100%;margin-bottom: 0;padding: 0.3em;box-sizing: border-box;text-align: center;}#sk-container-id-54 label.sk-toggleable__label-arrow:before {content: \"▸\";float: left;margin-right: 0.25em;color: #696969;}#sk-container-id-54 label.sk-toggleable__label-arrow:hover:before {color: black;}#sk-container-id-54 div.sk-estimator:hover label.sk-toggleable__label-arrow:before {color: black;}#sk-container-id-54 div.sk-toggleable__content {max-height: 0;max-width: 0;overflow: hidden;text-align: left;background-color: #f0f8ff;}#sk-container-id-54 div.sk-toggleable__content pre {margin: 0.2em;color: black;border-radius: 0.25em;background-color: #f0f8ff;}#sk-container-id-54 input.sk-toggleable__control:checked~div.sk-toggleable__content {max-height: 200px;max-width: 100%;overflow: auto;}#sk-container-id-54 input.sk-toggleable__control:checked~label.sk-toggleable__label-arrow:before {content: \"▾\";}#sk-container-id-54 div.sk-estimator input.sk-toggleable__control:checked~label.sk-toggleable__label {background-color: #d4ebff;}#sk-container-id-54 div.sk-label input.sk-toggleable__control:checked~label.sk-toggleable__label {background-color: #d4ebff;}#sk-container-id-54 input.sk-hidden--visually {border: 0;clip: rect(1px 1px 1px 1px);clip: rect(1px, 1px, 1px, 1px);height: 1px;margin: -1px;overflow: hidden;padding: 0;position: absolute;width: 1px;}#sk-container-id-54 div.sk-estimator {font-family: monospace;background-color: #f0f8ff;border: 1px dotted black;border-radius: 0.25em;box-sizing: border-box;margin-bottom: 0.5em;}#sk-container-id-54 div.sk-estimator:hover {background-color: #d4ebff;}#sk-container-id-54 div.sk-parallel-item::after {content: \"\";width: 100%;border-bottom: 1px solid gray;flex-grow: 1;}#sk-container-id-54 div.sk-label:hover label.sk-toggleable__label {background-color: #d4ebff;}#sk-container-id-54 div.sk-serial::before {content: \"\";position: absolute;border-left: 1px solid gray;box-sizing: border-box;top: 0;bottom: 0;left: 50%;z-index: 0;}#sk-container-id-54 div.sk-serial {display: flex;flex-direction: column;align-items: center;background-color: white;padding-right: 0.2em;padding-left: 0.2em;position: relative;}#sk-container-id-54 div.sk-item {position: relative;z-index: 1;}#sk-container-id-54 div.sk-parallel {display: flex;align-items: stretch;justify-content: center;background-color: white;position: relative;}#sk-container-id-54 div.sk-item::before, #sk-container-id-54 div.sk-parallel-item::before {content: \"\";position: absolute;border-left: 1px solid gray;box-sizing: border-box;top: 0;bottom: 0;left: 50%;z-index: -1;}#sk-container-id-54 div.sk-parallel-item {display: flex;flex-direction: column;z-index: 1;position: relative;background-color: white;}#sk-container-id-54 div.sk-parallel-item:first-child::after {align-self: flex-end;width: 50%;}#sk-container-id-54 div.sk-parallel-item:last-child::after {align-self: flex-start;width: 50%;}#sk-container-id-54 div.sk-parallel-item:only-child::after {width: 0;}#sk-container-id-54 div.sk-dashed-wrapped {border: 1px dashed gray;margin: 0 0.4em 0.5em 0.4em;box-sizing: border-box;padding-bottom: 0.4em;background-color: white;}#sk-container-id-54 div.sk-label label {font-family: monospace;font-weight: bold;display: inline-block;line-height: 1.2em;}#sk-container-id-54 div.sk-label-container {text-align: center;}#sk-container-id-54 div.sk-container {/* jupyter's `normalize.less` sets `[hidden] { display: none; }` but bootstrap.min.css set `[hidden] { display: none !important; }` so we also need the `!important` here to be able to override the default hidden behavior on the sphinx rendered scikit-learn.org. See: https://github.com/scikit-learn/scikit-learn/issues/21755 */display: inline-block !important;position: relative;}#sk-container-id-54 div.sk-text-repr-fallback {display: none;}</style><div id=\"sk-container-id-54\" class=\"sk-top-container\"><div class=\"sk-text-repr-fallback\"><pre>DecisionTreeClassifier(max_depth=4, min_samples_leaf=2)</pre><b>In a Jupyter environment, please rerun this cell to show the HTML representation or trust the notebook. <br />On GitHub, the HTML representation is unable to render, please try loading this page with nbviewer.org.</b></div><div class=\"sk-container\" hidden><div class=\"sk-item\"><div class=\"sk-estimator sk-toggleable\"><input class=\"sk-toggleable__control sk-hidden--visually\" id=\"sk-estimator-id-84\" type=\"checkbox\" checked><label for=\"sk-estimator-id-84\" class=\"sk-toggleable__label sk-toggleable__label-arrow\">DecisionTreeClassifier</label><div class=\"sk-toggleable__content\"><pre>DecisionTreeClassifier(max_depth=4, min_samples_leaf=2)</pre></div></div></div></div></div>"
      ],
      "text/plain": [
       "DecisionTreeClassifier(max_depth=4, min_samples_leaf=2)"
      ]
     },
     "execution_count": 574,
     "metadata": {},
     "output_type": "execute_result"
    }
   ],
   "source": [
    "model.best_estimator_"
   ]
  },
  {
   "cell_type": "code",
   "execution_count": 575,
   "metadata": {
    "collapsed": true
   },
   "outputs": [],
   "source": [
    "y_train_pred = model.predict(X_train)"
   ]
  },
  {
   "cell_type": "code",
   "execution_count": 576,
   "metadata": {
    "collapsed": true
   },
   "outputs": [],
   "source": [
    "y_pred = model.predict(X_test)"
   ]
  },
  {
   "cell_type": "code",
   "execution_count": 577,
   "metadata": {
    "collapsed": true
   },
   "outputs": [],
   "source": [
    "y_pred_proba = model.predict_proba(X_test)[:,1]"
   ]
  },
  {
   "cell_type": "code",
   "execution_count": 578,
   "metadata": {},
   "outputs": [
    {
     "data": {
      "text/plain": [
       "array([0.74698795, 0.54193548, 0.54193548, 0.54193548, 0.        ,\n",
       "       0.97560976, 0.74698795, 0.54193548, 0.97560976, 0.        ])"
      ]
     },
     "execution_count": 578,
     "metadata": {},
     "output_type": "execute_result"
    }
   ],
   "source": [
    "y_pred_proba[:10]"
   ]
  },
  {
   "cell_type": "code",
   "execution_count": 579,
   "metadata": {},
   "outputs": [
    {
     "data": {
      "text/plain": [
       "array([[ 1,  3],\n",
       "       [31, 78]], dtype=int64)"
      ]
     },
     "execution_count": 579,
     "metadata": {},
     "output_type": "execute_result"
    }
   ],
   "source": [
    "confusion_matrix(y_test, y_pred).T"
   ]
  },
  {
   "cell_type": "code",
   "execution_count": 580,
   "metadata": {
    "collapsed": true
   },
   "outputs": [],
   "source": [
    "fpr, tpr, thresholds = roc_curve(y_test, y_pred_proba)"
   ]
  },
  {
   "cell_type": "code",
   "execution_count": 581,
   "metadata": {},
   "outputs": [
    {
     "data": {
      "image/png": "[encoded data removed]",
      "text/plain": [
       "<Figure size 576x576 with 1 Axes>"
      ]
     },
     "metadata": {},
     "output_type": "display_data"
    }
   ],
   "source": [
    "# Plot the ROC curve\n",
    "fig = plt.figure(figsize=(8,8))\n",
    "plt.title('Receiver Operating Characteristic')\n",
    "\n",
    "# Plot ROC curve\n",
    "plt.plot(fpr, tpr, label='l1')\n",
    "plt.legend(loc='lower right')\n",
    "\n",
    "# Diagonal 45 degree line\n",
    "plt.plot([0,1],[0,1],'k--')\n",
    "\n",
    "# Axes limits and labels\n",
    "plt.xlim([-0.1,1.1])\n",
    "plt.ylim([-0.1,1.1])\n",
    "plt.ylabel('True Positive Rate')\n",
    "plt.xlabel('False Positive Rate')\n",
    "plt.show()"
   ]
  },
  {
   "cell_type": "code",
   "execution_count": 582,
   "metadata": {},
   "outputs": [
    {
     "data": {
      "text/plain": [
       "0.6013659237958303"
      ]
     },
     "execution_count": 582,
     "metadata": {},
     "output_type": "execute_result"
    }
   ],
   "source": [
    "# Calculate AUC for Train\n",
    "roc_auc_score(y_train, y_train_pred)"
   ]
  },
  {
   "cell_type": "code",
   "execution_count": 583,
   "metadata": {},
   "outputs": [
    {
     "name": "stdout",
     "output_type": "stream",
     "text": [
      "0.6738040123456791\n"
     ]
    }
   ],
   "source": [
    "print(auc(fpr, tpr))"
   ]
  },
  {
   "cell_type": "markdown",
   "metadata": {},
   "source": [
    "#### Feature Importance"
   ]
  },
  {
   "cell_type": "code",
   "execution_count": 584,
   "metadata": {},
   "outputs": [
    {
     "data": {
      "text/html": [
       "<style>#sk-container-id-55 {color: black;background-color: white;}#sk-container-id-55 pre{padding: 0;}#sk-container-id-55 div.sk-toggleable {background-color: white;}#sk-container-id-55 label.sk-toggleable__label {cursor: pointer;display: block;width: 100%;margin-bottom: 0;padding: 0.3em;box-sizing: border-box;text-align: center;}#sk-container-id-55 label.sk-toggleable__label-arrow:before {content: \"▸\";float: left;margin-right: 0.25em;color: #696969;}#sk-container-id-55 label.sk-toggleable__label-arrow:hover:before {color: black;}#sk-container-id-55 div.sk-estimator:hover label.sk-toggleable__label-arrow:before {color: black;}#sk-container-id-55 div.sk-toggleable__content {max-height: 0;max-width: 0;overflow: hidden;text-align: left;background-color: #f0f8ff;}#sk-container-id-55 div.sk-toggleable__content pre {margin: 0.2em;color: black;border-radius: 0.25em;background-color: #f0f8ff;}#sk-container-id-55 input.sk-toggleable__control:checked~div.sk-toggleable__content {max-height: 200px;max-width: 100%;overflow: auto;}#sk-container-id-55 input.sk-toggleable__control:checked~label.sk-toggleable__label-arrow:before {content: \"▾\";}#sk-container-id-55 div.sk-estimator input.sk-toggleable__control:checked~label.sk-toggleable__label {background-color: #d4ebff;}#sk-container-id-55 div.sk-label input.sk-toggleable__control:checked~label.sk-toggleable__label {background-color: #d4ebff;}#sk-container-id-55 input.sk-hidden--visually {border: 0;clip: rect(1px 1px 1px 1px);clip: rect(1px, 1px, 1px, 1px);height: 1px;margin: -1px;overflow: hidden;padding: 0;position: absolute;width: 1px;}#sk-container-id-55 div.sk-estimator {font-family: monospace;background-color: #f0f8ff;border: 1px dotted black;border-radius: 0.25em;box-sizing: border-box;margin-bottom: 0.5em;}#sk-container-id-55 div.sk-estimator:hover {background-color: #d4ebff;}#sk-container-id-55 div.sk-parallel-item::after {content: \"\";width: 100%;border-bottom: 1px solid gray;flex-grow: 1;}#sk-container-id-55 div.sk-label:hover label.sk-toggleable__label {background-color: #d4ebff;}#sk-container-id-55 div.sk-serial::before {content: \"\";position: absolute;border-left: 1px solid gray;box-sizing: border-box;top: 0;bottom: 0;left: 50%;z-index: 0;}#sk-container-id-55 div.sk-serial {display: flex;flex-direction: column;align-items: center;background-color: white;padding-right: 0.2em;padding-left: 0.2em;position: relative;}#sk-container-id-55 div.sk-item {position: relative;z-index: 1;}#sk-container-id-55 div.sk-parallel {display: flex;align-items: stretch;justify-content: center;background-color: white;position: relative;}#sk-container-id-55 div.sk-item::before, #sk-container-id-55 div.sk-parallel-item::before {content: \"\";position: absolute;border-left: 1px solid gray;box-sizing: border-box;top: 0;bottom: 0;left: 50%;z-index: -1;}#sk-container-id-55 div.sk-parallel-item {display: flex;flex-direction: column;z-index: 1;position: relative;background-color: white;}#sk-container-id-55 div.sk-parallel-item:first-child::after {align-self: flex-end;width: 50%;}#sk-container-id-55 div.sk-parallel-item:last-child::after {align-self: flex-start;width: 50%;}#sk-container-id-55 div.sk-parallel-item:only-child::after {width: 0;}#sk-container-id-55 div.sk-dashed-wrapped {border: 1px dashed gray;margin: 0 0.4em 0.5em 0.4em;box-sizing: border-box;padding-bottom: 0.4em;background-color: white;}#sk-container-id-55 div.sk-label label {font-family: monospace;font-weight: bold;display: inline-block;line-height: 1.2em;}#sk-container-id-55 div.sk-label-container {text-align: center;}#sk-container-id-55 div.sk-container {/* jupyter's `normalize.less` sets `[hidden] { display: none; }` but bootstrap.min.css set `[hidden] { display: none !important; }` so we also need the `!important` here to be able to override the default hidden behavior on the sphinx rendered scikit-learn.org. See: https://github.com/scikit-learn/scikit-learn/issues/21755 */display: inline-block !important;position: relative;}#sk-container-id-55 div.sk-text-repr-fallback {display: none;}</style><div id=\"sk-container-id-55\" class=\"sk-top-container\"><div class=\"sk-text-repr-fallback\"><pre>DecisionTreeClassifier(max_depth=4, min_samples_leaf=6)</pre><b>In a Jupyter environment, please rerun this cell to show the HTML representation or trust the notebook. <br />On GitHub, the HTML representation is unable to render, please try loading this page with nbviewer.org.</b></div><div class=\"sk-container\" hidden><div class=\"sk-item\"><div class=\"sk-estimator sk-toggleable\"><input class=\"sk-toggleable__control sk-hidden--visually\" id=\"sk-estimator-id-85\" type=\"checkbox\" checked><label for=\"sk-estimator-id-85\" class=\"sk-toggleable__label sk-toggleable__label-arrow\">DecisionTreeClassifier</label><div class=\"sk-toggleable__content\"><pre>DecisionTreeClassifier(max_depth=4, min_samples_leaf=6)</pre></div></div></div></div></div>"
      ],
      "text/plain": [
       "DecisionTreeClassifier(max_depth=4, min_samples_leaf=6)"
      ]
     },
     "execution_count": 584,
     "metadata": {},
     "output_type": "execute_result"
    }
   ],
   "source": [
    "## Building the model again with the best hyperparameters\n",
    "model = DecisionTreeClassifier(min_samples_split=2, min_samples_leaf=6, max_depth=4)\n",
    "model.fit(X_train, y_train)"
   ]
  },
  {
   "cell_type": "code",
   "execution_count": 585,
   "metadata": {},
   "outputs": [
    {
     "name": "stdout",
     "output_type": "stream",
     "text": [
      "The features in order of importance are:\n",
      "--------------------------------------------------\n",
      "Total_Bilirubin\n",
      "Alkaline_Phosphotase\n",
      "Age\n",
      "Albumin_and_Globulin_Ratio\n",
      "Aspartate_Aminotransferase\n",
      "Gender\n",
      "Direct_Bilirubin\n",
      "Alamine_Aminotransferase\n",
      "Total_Protiens\n",
      "Albumin\n"
     ]
    }
   ],
   "source": [
    "indices = np.argsort(-model.feature_importances_)\n",
    "print(\"The features in order of importance are:\")\n",
    "print(50*'-')\n",
    "for feature in X.columns[indices]:\n",
    "    print(feature)"
   ]
  },
  {
   "cell_type": "markdown",
   "metadata": {},
   "source": [
    "## Model-6 SVC"
   ]
  },
  {
   "cell_type": "code",
   "execution_count": 586,
   "metadata": {
    "collapsed": true
   },
   "outputs": [],
   "source": [
    "from sklearn import svm\n",
    "def svc_param_selection(X, y, nfolds):\n",
    "    Cs = [0.001, 0.01, 0.1, 1, 10]\n",
    "    gammas = [0.001, 0.01, 0.1, 1]\n",
    "    param_grid = {'C': Cs, 'gamma' : gammas}\n",
    "    grid_search = GridSearchCV(svm.SVC(kernel='rbf'), param_grid, cv=nfolds)\n",
    "    grid_search.fit(X_train, y_train)\n",
    "    grid_search.best_params_\n",
    "    return grid_search.best_params_"
   ]
  },
  {
   "cell_type": "code",
   "execution_count": 587,
   "metadata": {},
   "outputs": [
    {
     "data": {
      "text/html": [
       "<style>#sk-container-id-56 {color: black;background-color: white;}#sk-container-id-56 pre{padding: 0;}#sk-container-id-56 div.sk-toggleable {background-color: white;}#sk-container-id-56 label.sk-toggleable__label {cursor: pointer;display: block;width: 100%;margin-bottom: 0;padding: 0.3em;box-sizing: border-box;text-align: center;}#sk-container-id-56 label.sk-toggleable__label-arrow:before {content: \"▸\";float: left;margin-right: 0.25em;color: #696969;}#sk-container-id-56 label.sk-toggleable__label-arrow:hover:before {color: black;}#sk-container-id-56 div.sk-estimator:hover label.sk-toggleable__label-arrow:before {color: black;}#sk-container-id-56 div.sk-toggleable__content {max-height: 0;max-width: 0;overflow: hidden;text-align: left;background-color: #f0f8ff;}#sk-container-id-56 div.sk-toggleable__content pre {margin: 0.2em;color: black;border-radius: 0.25em;background-color: #f0f8ff;}#sk-container-id-56 input.sk-toggleable__control:checked~div.sk-toggleable__content {max-height: 200px;max-width: 100%;overflow: auto;}#sk-container-id-56 input.sk-toggleable__control:checked~label.sk-toggleable__label-arrow:before {content: \"▾\";}#sk-container-id-56 div.sk-estimator input.sk-toggleable__control:checked~label.sk-toggleable__label {background-color: #d4ebff;}#sk-container-id-56 div.sk-label input.sk-toggleable__control:checked~label.sk-toggleable__label {background-color: #d4ebff;}#sk-container-id-56 input.sk-hidden--visually {border: 0;clip: rect(1px 1px 1px 1px);clip: rect(1px, 1px, 1px, 1px);height: 1px;margin: -1px;overflow: hidden;padding: 0;position: absolute;width: 1px;}#sk-container-id-56 div.sk-estimator {font-family: monospace;background-color: #f0f8ff;border: 1px dotted black;border-radius: 0.25em;box-sizing: border-box;margin-bottom: 0.5em;}#sk-container-id-56 div.sk-estimator:hover {background-color: #d4ebff;}#sk-container-id-56 div.sk-parallel-item::after {content: \"\";width: 100%;border-bottom: 1px solid gray;flex-grow: 1;}#sk-container-id-56 div.sk-label:hover label.sk-toggleable__label {background-color: #d4ebff;}#sk-container-id-56 div.sk-serial::before {content: \"\";position: absolute;border-left: 1px solid gray;box-sizing: border-box;top: 0;bottom: 0;left: 50%;z-index: 0;}#sk-container-id-56 div.sk-serial {display: flex;flex-direction: column;align-items: center;background-color: white;padding-right: 0.2em;padding-left: 0.2em;position: relative;}#sk-container-id-56 div.sk-item {position: relative;z-index: 1;}#sk-container-id-56 div.sk-parallel {display: flex;align-items: stretch;justify-content: center;background-color: white;position: relative;}#sk-container-id-56 div.sk-item::before, #sk-container-id-56 div.sk-parallel-item::before {content: \"\";position: absolute;border-left: 1px solid gray;box-sizing: border-box;top: 0;bottom: 0;left: 50%;z-index: -1;}#sk-container-id-56 div.sk-parallel-item {display: flex;flex-direction: column;z-index: 1;position: relative;background-color: white;}#sk-container-id-56 div.sk-parallel-item:first-child::after {align-self: flex-end;width: 50%;}#sk-container-id-56 div.sk-parallel-item:last-child::after {align-self: flex-start;width: 50%;}#sk-container-id-56 div.sk-parallel-item:only-child::after {width: 0;}#sk-container-id-56 div.sk-dashed-wrapped {border: 1px dashed gray;margin: 0 0.4em 0.5em 0.4em;box-sizing: border-box;padding-bottom: 0.4em;background-color: white;}#sk-container-id-56 div.sk-label label {font-family: monospace;font-weight: bold;display: inline-block;line-height: 1.2em;}#sk-container-id-56 div.sk-label-container {text-align: center;}#sk-container-id-56 div.sk-container {/* jupyter's `normalize.less` sets `[hidden] { display: none; }` but bootstrap.min.css set `[hidden] { display: none !important; }` so we also need the `!important` here to be able to override the default hidden behavior on the sphinx rendered scikit-learn.org. See: https://github.com/scikit-learn/scikit-learn/issues/21755 */display: inline-block !important;position: relative;}#sk-container-id-56 div.sk-text-repr-fallback {display: none;}</style><div id=\"sk-container-id-56\" class=\"sk-top-container\"><div class=\"sk-text-repr-fallback\"><pre>SVC(probability=True)</pre><b>In a Jupyter environment, please rerun this cell to show the HTML representation or trust the notebook. <br />On GitHub, the HTML representation is unable to render, please try loading this page with nbviewer.org.</b></div><div class=\"sk-container\" hidden><div class=\"sk-item\"><div class=\"sk-estimator sk-toggleable\"><input class=\"sk-toggleable__control sk-hidden--visually\" id=\"sk-estimator-id-86\" type=\"checkbox\" checked><label for=\"sk-estimator-id-86\" class=\"sk-toggleable__label sk-toggleable__label-arrow\">SVC</label><div class=\"sk-toggleable__content\"><pre>SVC(probability=True)</pre></div></div></div></div></div>"
      ],
      "text/plain": [
       "SVC(probability=True)"
      ]
     },
     "execution_count": 587,
     "metadata": {},
     "output_type": "execute_result"
    }
   ],
   "source": [
    "svClassifier=SVC(kernel='rbf',probability=True)\n",
    "svClassifier.fit(X_train,y_train)"
   ]
  },
  {
   "cell_type": "code",
   "execution_count": 588,
   "metadata": {},
   "outputs": [
    {
     "data": {
      "text/plain": [
       "{'C': 1, 'gamma': 1}"
      ]
     },
     "execution_count": 588,
     "metadata": {},
     "output_type": "execute_result"
    }
   ],
   "source": [
    "svc_param_selection(X_train,y_train,5)"
   ]
  },
  {
   "cell_type": "code",
   "execution_count": 589,
   "metadata": {},
   "outputs": [
    {
     "data": {
      "text/html": [
       "<style>#sk-container-id-57 {color: black;background-color: white;}#sk-container-id-57 pre{padding: 0;}#sk-container-id-57 div.sk-toggleable {background-color: white;}#sk-container-id-57 label.sk-toggleable__label {cursor: pointer;display: block;width: 100%;margin-bottom: 0;padding: 0.3em;box-sizing: border-box;text-align: center;}#sk-container-id-57 label.sk-toggleable__label-arrow:before {content: \"▸\";float: left;margin-right: 0.25em;color: #696969;}#sk-container-id-57 label.sk-toggleable__label-arrow:hover:before {color: black;}#sk-container-id-57 div.sk-estimator:hover label.sk-toggleable__label-arrow:before {color: black;}#sk-container-id-57 div.sk-toggleable__content {max-height: 0;max-width: 0;overflow: hidden;text-align: left;background-color: #f0f8ff;}#sk-container-id-57 div.sk-toggleable__content pre {margin: 0.2em;color: black;border-radius: 0.25em;background-color: #f0f8ff;}#sk-container-id-57 input.sk-toggleable__control:checked~div.sk-toggleable__content {max-height: 200px;max-width: 100%;overflow: auto;}#sk-container-id-57 input.sk-toggleable__control:checked~label.sk-toggleable__label-arrow:before {content: \"▾\";}#sk-container-id-57 div.sk-estimator input.sk-toggleable__control:checked~label.sk-toggleable__label {background-color: #d4ebff;}#sk-container-id-57 div.sk-label input.sk-toggleable__control:checked~label.sk-toggleable__label {background-color: #d4ebff;}#sk-container-id-57 input.sk-hidden--visually {border: 0;clip: rect(1px 1px 1px 1px);clip: rect(1px, 1px, 1px, 1px);height: 1px;margin: -1px;overflow: hidden;padding: 0;position: absolute;width: 1px;}#sk-container-id-57 div.sk-estimator {font-family: monospace;background-color: #f0f8ff;border: 1px dotted black;border-radius: 0.25em;box-sizing: border-box;margin-bottom: 0.5em;}#sk-container-id-57 div.sk-estimator:hover {background-color: #d4ebff;}#sk-container-id-57 div.sk-parallel-item::after {content: \"\";width: 100%;border-bottom: 1px solid gray;flex-grow: 1;}#sk-container-id-57 div.sk-label:hover label.sk-toggleable__label {background-color: #d4ebff;}#sk-container-id-57 div.sk-serial::before {content: \"\";position: absolute;border-left: 1px solid gray;box-sizing: border-box;top: 0;bottom: 0;left: 50%;z-index: 0;}#sk-container-id-57 div.sk-serial {display: flex;flex-direction: column;align-items: center;background-color: white;padding-right: 0.2em;padding-left: 0.2em;position: relative;}#sk-container-id-57 div.sk-item {position: relative;z-index: 1;}#sk-container-id-57 div.sk-parallel {display: flex;align-items: stretch;justify-content: center;background-color: white;position: relative;}#sk-container-id-57 div.sk-item::before, #sk-container-id-57 div.sk-parallel-item::before {content: \"\";position: absolute;border-left: 1px solid gray;box-sizing: border-box;top: 0;bottom: 0;left: 50%;z-index: -1;}#sk-container-id-57 div.sk-parallel-item {display: flex;flex-direction: column;z-index: 1;position: relative;background-color: white;}#sk-container-id-57 div.sk-parallel-item:first-child::after {align-self: flex-end;width: 50%;}#sk-container-id-57 div.sk-parallel-item:last-child::after {align-self: flex-start;width: 50%;}#sk-container-id-57 div.sk-parallel-item:only-child::after {width: 0;}#sk-container-id-57 div.sk-dashed-wrapped {border: 1px dashed gray;margin: 0 0.4em 0.5em 0.4em;box-sizing: border-box;padding-bottom: 0.4em;background-color: white;}#sk-container-id-57 div.sk-label label {font-family: monospace;font-weight: bold;display: inline-block;line-height: 1.2em;}#sk-container-id-57 div.sk-label-container {text-align: center;}#sk-container-id-57 div.sk-container {/* jupyter's `normalize.less` sets `[hidden] { display: none; }` but bootstrap.min.css set `[hidden] { display: none !important; }` so we also need the `!important` here to be able to override the default hidden behavior on the sphinx rendered scikit-learn.org. See: https://github.com/scikit-learn/scikit-learn/issues/21755 */display: inline-block !important;position: relative;}#sk-container-id-57 div.sk-text-repr-fallback {display: none;}</style><div id=\"sk-container-id-57\" class=\"sk-top-container\"><div class=\"sk-text-repr-fallback\"><pre>SVC(C=1, gamma=1, probability=True)</pre><b>In a Jupyter environment, please rerun this cell to show the HTML representation or trust the notebook. <br />On GitHub, the HTML representation is unable to render, please try loading this page with nbviewer.org.</b></div><div class=\"sk-container\" hidden><div class=\"sk-item\"><div class=\"sk-estimator sk-toggleable\"><input class=\"sk-toggleable__control sk-hidden--visually\" id=\"sk-estimator-id-87\" type=\"checkbox\" checked><label for=\"sk-estimator-id-87\" class=\"sk-toggleable__label sk-toggleable__label-arrow\">SVC</label><div class=\"sk-toggleable__content\"><pre>SVC(C=1, gamma=1, probability=True)</pre></div></div></div></div></div>"
      ],
      "text/plain": [
       "SVC(C=1, gamma=1, probability=True)"
      ]
     },
     "execution_count": 589,
     "metadata": {},
     "output_type": "execute_result"
    }
   ],
   "source": [
    "###### Building the model again with the best hyperparameters\n",
    "model = SVC(C=1, gamma=1,probability=True)\n",
    "model.fit(X_train, y_train)"
   ]
  },
  {
   "cell_type": "code",
   "execution_count": 590,
   "metadata": {
    "collapsed": true
   },
   "outputs": [],
   "source": [
    "## Predict Train results\n",
    "y_train_pred = model.predict(X_train)"
   ]
  },
  {
   "cell_type": "code",
   "execution_count": 591,
   "metadata": {
    "collapsed": true
   },
   "outputs": [],
   "source": [
    "## Predict Test results\n",
    "y_pred = model.predict(X_test)"
   ]
  },
  {
   "cell_type": "code",
   "execution_count": 592,
   "metadata": {},
   "outputs": [
    {
     "data": {
      "text/plain": [
       "array([[ 3,  4],\n",
       "       [29, 77]], dtype=int64)"
      ]
     },
     "execution_count": 592,
     "metadata": {},
     "output_type": "execute_result"
    }
   ],
   "source": [
    "confusion_matrix(y_test, y_pred).T"
   ]
  },
  {
   "cell_type": "code",
   "execution_count": 593,
   "metadata": {
    "collapsed": true
   },
   "outputs": [],
   "source": [
    "y_pred_proba = model.predict_proba(X_test)[:,1]"
   ]
  },
  {
   "cell_type": "code",
   "execution_count": 594,
   "metadata": {
    "collapsed": true
   },
   "outputs": [],
   "source": [
    "# Calculate ROC curve from y_test and pred\n",
    "fpr, tpr, thresholds = roc_curve(y_test, y_pred_proba)"
   ]
  },
  {
   "cell_type": "code",
   "execution_count": 595,
   "metadata": {},
   "outputs": [
    {
     "data": {
      "image/png": "[encoded data removed]",
      "text/plain": [
       "<Figure size 576x576 with 1 Axes>"
      ]
     },
     "metadata": {},
     "output_type": "display_data"
    }
   ],
   "source": [
    "# Plot the ROC curve\n",
    "fig = plt.figure(figsize=(8,8))\n",
    "plt.title('Receiver Operating Characteristic')\n",
    "\n",
    "# Plot ROC curve\n",
    "plt.plot(fpr, tpr, label='l1')\n",
    "plt.legend(loc='lower right')\n",
    "\n",
    "# Diagonal 45 degree line\n",
    "plt.plot([0,1],[0,1],'k--')\n",
    "\n",
    "# Axes limits and labels\n",
    "plt.xlim([-0.1,1.1])\n",
    "plt.ylim([-0.1,1.1])\n",
    "plt.ylabel('True Positive Rate')\n",
    "plt.xlabel('False Positive Rate')\n",
    "plt.show()"
   ]
  },
  {
   "cell_type": "code",
   "execution_count": 596,
   "metadata": {},
   "outputs": [
    {
     "data": {
      "text/plain": [
       "0.7782890007189072"
      ]
     },
     "execution_count": 596,
     "metadata": {},
     "output_type": "execute_result"
    }
   ],
   "source": [
    "# Calculate AUC for Train\n",
    "roc_auc_score(y_train, y_train_pred)"
   ]
  },
  {
   "cell_type": "code",
   "execution_count": 597,
   "metadata": {},
   "outputs": [
    {
     "name": "stdout",
     "output_type": "stream",
     "text": [
      "0.5108024691358025\n"
     ]
    }
   ],
   "source": [
    "print(auc(fpr, tpr))"
   ]
  },
  {
   "cell_type": "markdown",
   "metadata": {},
   "source": [
    "## Model-7 Gradient Boosting"
   ]
  },
  {
   "cell_type": "code",
   "execution_count": 598,
   "metadata": {
    "collapsed": true
   },
   "outputs": [],
   "source": [
    "from sklearn.metrics import accuracy_score\n",
    "from sklearn.model_selection import train_test_split\n",
    "from sklearn.metrics import classification_report,confusion_matrix\n",
    "from sklearn.ensemble import AdaBoostClassifier, BaggingClassifier\n",
    "from sklearn.linear_model import Perceptron\n",
    "from sklearn.linear_model import SGDClassifier\n",
    "from sklearn.neural_network import MLPClassifier"
   ]
  },
  {
   "cell_type": "code",
   "execution_count": 599,
   "metadata": {},
   "outputs": [
    {
     "name": "stdout",
     "output_type": "stream",
     "text": [
      "Score: \n",
      " 100.0\n",
      "Test Score: \n",
      " 76.11\n",
      "Accuracy: \n",
      " 0.7610619469026548\n",
      "[[15 10]\n",
      " [17 71]]\n",
      "              precision    recall  f1-score   support\n",
      "\n",
      "           0       0.60      0.47      0.53        32\n",
      "           1       0.81      0.88      0.84        81\n",
      "\n",
      "    accuracy                           0.76       113\n",
      "   macro avg       0.70      0.67      0.68       113\n",
      "weighted avg       0.75      0.76      0.75       113\n",
      "\n",
      "          Age    Gender  Total_Bilirubin  Direct_Bilirubin  \\\n",
      "110 -1.245338  1.668451        -0.415056         -0.465814   \n",
      "48  -0.759589  1.668451        -0.430493         -0.501397   \n",
      "471  0.272628  1.668451        -0.430493         -0.501397   \n",
      "336  1.851312 -0.598029         0.511170          0.744009   \n",
      "441 -0.152402  1.668451        -0.168062         -0.145567   \n",
      "..        ...       ...              ...               ...   \n",
      "563  1.183407 -0.598029        -0.306996         -0.359065   \n",
      "377 -1.488212  1.668451        -0.430493         -0.465814   \n",
      "582 -0.395277 -0.598029        -0.368745         -0.430231   \n",
      "128  0.819096  1.668451        -0.260685         -0.252316   \n",
      "500  1.547719 -0.598029        -0.106314         -0.109984   \n",
      "\n",
      "     Alkaline_Phosphotase  Alamine_Aminotransferase  \\\n",
      "110             -0.412936                 -0.388332   \n",
      "48              -0.459787                 -0.219058   \n",
      "471             -0.424649                 -0.352059   \n",
      "336              0.641198                  0.742173   \n",
      "441             -0.006899                 -0.279513   \n",
      "..                    ...                       ...   \n",
      "563              0.016526                 -0.267422   \n",
      "377             -0.358277                 -0.382286   \n",
      "582             -0.303619                 -0.327877   \n",
      "128              6.255436                 -0.086058   \n",
      "500              0.278107                 -0.080012   \n",
      "\n",
      "     Aspartate_Aminotransferase  Total_Protiens   Albumin  \\\n",
      "110                   -0.486561       -0.923844 -1.083815   \n",
      "48                    -0.384773       -0.468086 -0.216708   \n",
      "471                   -0.396083        0.078823 -0.340581   \n",
      "336                    0.265543       -0.285783  0.031037   \n",
      "441                   -0.322569       -2.199965 -1.703178   \n",
      "..                          ...             ...       ...   \n",
      "563                   -0.073752        0.625732 -0.712198   \n",
      "377                   -0.469597       -0.376935 -0.216708   \n",
      "582                   -0.407392        0.716883  1.517506   \n",
      "128                   -0.073752        1.354944  0.898144   \n",
      "500                   -0.232090       -0.468086 -0.959943   \n",
      "\n",
      "     Albumin_and_Globulin_Ratio  \n",
      "110                   -0.771248  \n",
      "48                     0.114522  \n",
      "471                   -0.801792  \n",
      "336                    0.114522  \n",
      "441                   -0.801792  \n",
      "..                          ...  \n",
      "563                   -1.412667  \n",
      "377                   -0.190916  \n",
      "582                    1.641712  \n",
      "128                   -0.038197  \n",
      "500                   -1.107230  \n",
      "\n",
      "[451 rows x 10 columns] 110    0\n",
      "48     1\n",
      "471    0\n",
      "336    1\n",
      "441    1\n",
      "      ..\n",
      "563    1\n",
      "377    0\n",
      "582    0\n",
      "128    1\n",
      "500    1\n",
      "Name: Dataset, Length: 451, dtype: int64\n"
     ]
    }
   ],
   "source": [
    "#Import Library\n",
    "from sklearn.ensemble import GradientBoostingClassifier\n",
    "#Assumed you have, X (predictor) and Y (target) for training data set and x_test(predictor) of test_dataset\n",
    "# Create Gradient Boosting Classifier object\n",
    "gbclass = GradientBoostingClassifier(\n",
    "                    random_state = 1000,\n",
    "                    verbose = 0,\n",
    "                    n_estimators = 125,\n",
    "                    learning_rate = 1,\n",
    "                    loss = 'deviance',\n",
    "                    max_depth = 3\n",
    "                   )\n",
    "#gbclass = GradientBoostingClassifier(n_estimators=100, learning_rate=1.0, max_depth=1, random_state=0)\n",
    "# Train the model using the training sets and check score\n",
    "gbclass.fit(X_train, y_train)\n",
    "#Predict Output\n",
    "predicted= gbclass.predict(X_test)\n",
    "\n",
    "gbclass_score = round(gbclass.score(X_train, y_train) * 100, 2)\n",
    "gbclass_score_test = round(gbclass.score(X_test, y_test) * 100, 2)\n",
    "print('Score: \\n', gbclass_score)\n",
    "print('Test Score: \\n', gbclass_score_test)\n",
    "print('Accuracy: \\n', accuracy_score(y_test,predicted))\n",
    "print(confusion_matrix(predicted,y_test))\n",
    "print(classification_report(y_test,predicted))\n",
    "print(X_train, y_train)"
   ]
  },
  {
   "cell_type": "code",
   "execution_count": 600,
   "metadata": {
    "collapsed": true
   },
   "outputs": [],
   "source": [
    "## Predict Train results\n",
    "y_train_pred = gbclass.predict(X_train)"
   ]
  },
  {
   "cell_type": "code",
   "execution_count": 601,
   "metadata": {
    "collapsed": true
   },
   "outputs": [],
   "source": [
    "## Predict Test results\n",
    "y_pred = gbclass.predict(X_test)"
   ]
  },
  {
   "cell_type": "code",
   "execution_count": 602,
   "metadata": {
    "collapsed": true
   },
   "outputs": [],
   "source": [
    "y_pred_proba = gbclass.predict_proba(X_test)[:,1]"
   ]
  },
  {
   "cell_type": "code",
   "execution_count": 603,
   "metadata": {
    "collapsed": true
   },
   "outputs": [],
   "source": [
    "# Calculate ROC curve from y_test and pred\n",
    "fpr, tpr, thresholds = roc_curve(y_test, y_pred_proba)"
   ]
  },
  {
   "cell_type": "code",
   "execution_count": 604,
   "metadata": {},
   "outputs": [
    {
     "data": {
      "image/png": "[encoded data removed]",
      "text/plain": [
       "<Figure size 576x576 with 1 Axes>"
      ]
     },
     "metadata": {},
     "output_type": "display_data"
    }
   ],
   "source": [
    "# Plot the ROC curve\n",
    "fig = plt.figure(figsize=(8,8))\n",
    "plt.title('Receiver Operating Characteristic')\n",
    "\n",
    "# Plot ROC curve\n",
    "plt.plot(fpr, tpr, label='l1')\n",
    "plt.legend(loc='lower right')\n",
    "\n",
    "# Diagonal 45 degree line\n",
    "plt.plot([0,1],[0,1],'k--')\n",
    "\n",
    "# Axes limits and labels\n",
    "plt.xlim([-0.1,1.1])\n",
    "plt.ylim([-0.1,1.1])\n",
    "plt.ylabel('True Positive Rate')\n",
    "plt.xlabel('False Positive Rate')\n",
    "plt.show()"
   ]
  },
  {
   "cell_type": "code",
   "execution_count": 605,
   "metadata": {},
   "outputs": [
    {
     "data": {
      "text/plain": [
       "1.0"
      ]
     },
     "execution_count": 605,
     "metadata": {},
     "output_type": "execute_result"
    }
   ],
   "source": [
    "roc_auc_score(y_train,y_train_pred )"
   ]
  },
  {
   "cell_type": "code",
   "execution_count": 606,
   "metadata": {},
   "outputs": [
    {
     "name": "stdout",
     "output_type": "stream",
     "text": [
      "0.7519290123456791\n"
     ]
    }
   ],
   "source": [
    "# Calculate AUC for Test\n",
    "print(auc(fpr, tpr))"
   ]
  },
  {
   "cell_type": "markdown",
   "metadata": {},
   "source": [
    "# Neural Networks"
   ]
  },
  {
   "cell_type": "code",
   "execution_count": 607,
   "metadata": {},
   "outputs": [
    {
     "data": {
      "text/plain": [
       "(451, 10)"
      ]
     },
     "execution_count": 607,
     "metadata": {},
     "output_type": "execute_result"
    }
   ],
   "source": [
    "X_train.shape"
   ]
  },
  {
   "cell_type": "code",
   "execution_count": 608,
   "metadata": {},
   "outputs": [
    {
     "name": "stdout",
     "output_type": "stream",
     "text": [
      "Epoch 1/300\n",
      "17/36 [=============>................] - ETA: 0s - loss: 0.6620 - accuracy: 0.6529 "
     ]
    },
    {
     "name": "stdout",
     "output_type": "stream",
     "text": [
      "36/36 [==============================] - 1s 11ms/step - loss: 0.6450 - accuracy: 0.6833 - val_loss: 0.6072 - val_accuracy: 0.6813\n",
      "Epoch 2/300\n",
      "36/36 [==============================] - 0s 7ms/step - loss: 0.5973 - accuracy: 0.7194 - val_loss: 0.5845 - val_accuracy: 0.6813\n",
      "Epoch 3/300\n",
      "36/36 [==============================] - 0s 4ms/step - loss: 0.5761 - accuracy: 0.7194 - val_loss: 0.5743 - val_accuracy: 0.6813\n",
      "Epoch 4/300\n",
      "36/36 [==============================] - 0s 4ms/step - loss: 0.5636 - accuracy: 0.7194 - val_loss: 0.5687 - val_accuracy: 0.6813\n",
      "Epoch 5/300\n",
      "36/36 [==============================] - 0s 4ms/step - loss: 0.5544 - accuracy: 0.7194 - val_loss: 0.5645 - val_accuracy: 0.6813\n",
      "Epoch 6/300\n",
      "36/36 [==============================] - 0s 4ms/step - loss: 0.5470 - accuracy: 0.7194 - val_loss: 0.5614 - val_accuracy: 0.6813\n",
      "Epoch 7/300\n",
      "36/36 [==============================] - 0s 5ms/step - loss: 0.5407 - accuracy: 0.7194 - val_loss: 0.5588 - val_accuracy: 0.6813\n",
      "Epoch 8/300\n",
      "36/36 [==============================] - 0s 4ms/step - loss: 0.5348 - accuracy: 0.7194 - val_loss: 0.5561 - val_accuracy: 0.6813\n",
      "Epoch 9/300\n",
      "36/36 [==============================] - 0s 5ms/step - loss: 0.5305 - accuracy: 0.7194 - val_loss: 0.5543 - val_accuracy: 0.6813\n",
      "Epoch 10/300\n",
      "36/36 [==============================] - 0s 5ms/step - loss: 0.5257 - accuracy: 0.7194 - val_loss: 0.5529 - val_accuracy: 0.6813\n",
      "Epoch 11/300\n",
      "36/36 [==============================] - 0s 5ms/step - loss: 0.5217 - accuracy: 0.7194 - val_loss: 0.5516 - val_accuracy: 0.6813\n",
      "Epoch 12/300\n",
      "36/36 [==============================] - 0s 5ms/step - loss: 0.5181 - accuracy: 0.7194 - val_loss: 0.5503 - val_accuracy: 0.6813\n",
      "Epoch 13/300\n",
      "36/36 [==============================] - 0s 5ms/step - loss: 0.5147 - accuracy: 0.7194 - val_loss: 0.5494 - val_accuracy: 0.6813\n",
      "Epoch 14/300\n",
      "36/36 [==============================] - 0s 3ms/step - loss: 0.5116 - accuracy: 0.7194 - val_loss: 0.5482 - val_accuracy: 0.6813\n",
      "Epoch 15/300\n",
      "36/36 [==============================] - 0s 3ms/step - loss: 0.5086 - accuracy: 0.7194 - val_loss: 0.5483 - val_accuracy: 0.6813\n",
      "Epoch 16/300\n",
      "36/36 [==============================] - 0s 4ms/step - loss: 0.5059 - accuracy: 0.7306 - val_loss: 0.5499 - val_accuracy: 0.6813\n",
      "Epoch 17/300\n",
      "36/36 [==============================] - 0s 5ms/step - loss: 0.5039 - accuracy: 0.7250 - val_loss: 0.5482 - val_accuracy: 0.6813\n",
      "Epoch 18/300\n",
      "36/36 [==============================] - 0s 5ms/step - loss: 0.5011 - accuracy: 0.7278 - val_loss: 0.5480 - val_accuracy: 0.6813\n",
      "Epoch 19/300\n",
      "36/36 [==============================] - 0s 8ms/step - loss: 0.4993 - accuracy: 0.7333 - val_loss: 0.5479 - val_accuracy: 0.6813\n",
      "Epoch 20/300\n",
      "36/36 [==============================] - 0s 3ms/step - loss: 0.4978 - accuracy: 0.7278 - val_loss: 0.5477 - val_accuracy: 0.6923\n",
      "Epoch 21/300\n",
      "36/36 [==============================] - 0s 3ms/step - loss: 0.4952 - accuracy: 0.7278 - val_loss: 0.5466 - val_accuracy: 0.7143\n",
      "Epoch 22/300\n",
      "36/36 [==============================] - 0s 3ms/step - loss: 0.4936 - accuracy: 0.7333 - val_loss: 0.5465 - val_accuracy: 0.7143\n",
      "Epoch 23/300\n",
      "36/36 [==============================] - 0s 3ms/step - loss: 0.4917 - accuracy: 0.7500 - val_loss: 0.5473 - val_accuracy: 0.7143\n",
      "Epoch 24/300\n",
      "36/36 [==============================] - 0s 3ms/step - loss: 0.4903 - accuracy: 0.7306 - val_loss: 0.5476 - val_accuracy: 0.7143\n",
      "Epoch 25/300\n",
      "36/36 [==============================] - 0s 3ms/step - loss: 0.4885 - accuracy: 0.7389 - val_loss: 0.5471 - val_accuracy: 0.7033\n",
      "Epoch 26/300\n",
      "36/36 [==============================] - 0s 2ms/step - loss: 0.4874 - accuracy: 0.7389 - val_loss: 0.5459 - val_accuracy: 0.6923\n",
      "Epoch 27/300\n",
      "36/36 [==============================] - 0s 4ms/step - loss: 0.4862 - accuracy: 0.7444 - val_loss: 0.5458 - val_accuracy: 0.7033\n",
      "Epoch 28/300\n",
      "36/36 [==============================] - 0s 5ms/step - loss: 0.4842 - accuracy: 0.7472 - val_loss: 0.5464 - val_accuracy: 0.7033\n",
      "Epoch 29/300\n",
      "36/36 [==============================] - 0s 4ms/step - loss: 0.4830 - accuracy: 0.7556 - val_loss: 0.5500 - val_accuracy: 0.6923\n",
      "Epoch 30/300\n",
      "36/36 [==============================] - 0s 4ms/step - loss: 0.4819 - accuracy: 0.7444 - val_loss: 0.5470 - val_accuracy: 0.7033\n",
      "Epoch 31/300\n",
      "36/36 [==============================] - 0s 3ms/step - loss: 0.4809 - accuracy: 0.7611 - val_loss: 0.5482 - val_accuracy: 0.7033\n",
      "Epoch 32/300\n",
      "36/36 [==============================] - 0s 3ms/step - loss: 0.4789 - accuracy: 0.7611 - val_loss: 0.5459 - val_accuracy: 0.7033\n",
      "Epoch 33/300\n",
      "36/36 [==============================] - 0s 3ms/step - loss: 0.4781 - accuracy: 0.7778 - val_loss: 0.5450 - val_accuracy: 0.7033\n",
      "Epoch 34/300\n",
      "36/36 [==============================] - 0s 3ms/step - loss: 0.4770 - accuracy: 0.7667 - val_loss: 0.5445 - val_accuracy: 0.7033\n",
      "Epoch 35/300\n",
      "36/36 [==============================] - 0s 5ms/step - loss: 0.4762 - accuracy: 0.7694 - val_loss: 0.5466 - val_accuracy: 0.7033\n",
      "Epoch 36/300\n",
      "36/36 [==============================] - 0s 4ms/step - loss: 0.4753 - accuracy: 0.7667 - val_loss: 0.5465 - val_accuracy: 0.7033\n",
      "Epoch 37/300\n",
      "36/36 [==============================] - 0s 6ms/step - loss: 0.4745 - accuracy: 0.7722 - val_loss: 0.5455 - val_accuracy: 0.7033\n",
      "Epoch 38/300\n",
      "36/36 [==============================] - 0s 3ms/step - loss: 0.4727 - accuracy: 0.7611 - val_loss: 0.5450 - val_accuracy: 0.7033\n",
      "Epoch 39/300\n",
      "36/36 [==============================] - 0s 3ms/step - loss: 0.4722 - accuracy: 0.7667 - val_loss: 0.5438 - val_accuracy: 0.7033\n",
      "Epoch 40/300\n",
      "36/36 [==============================] - 0s 3ms/step - loss: 0.4708 - accuracy: 0.7667 - val_loss: 0.5437 - val_accuracy: 0.7033\n",
      "Epoch 41/300\n",
      "36/36 [==============================] - 0s 3ms/step - loss: 0.4700 - accuracy: 0.7639 - val_loss: 0.5450 - val_accuracy: 0.7033\n",
      "Epoch 42/300\n",
      "36/36 [==============================] - 0s 3ms/step - loss: 0.4688 - accuracy: 0.7667 - val_loss: 0.5430 - val_accuracy: 0.6813\n",
      "Epoch 43/300\n",
      "36/36 [==============================] - 0s 3ms/step - loss: 0.4678 - accuracy: 0.7639 - val_loss: 0.5460 - val_accuracy: 0.7033\n",
      "Epoch 44/300\n",
      "36/36 [==============================] - 0s 3ms/step - loss: 0.4667 - accuracy: 0.7778 - val_loss: 0.5449 - val_accuracy: 0.7033\n",
      "Epoch 45/300\n",
      "36/36 [==============================] - 0s 3ms/step - loss: 0.4668 - accuracy: 0.7639 - val_loss: 0.5455 - val_accuracy: 0.7033\n",
      "Epoch 46/300\n",
      "36/36 [==============================] - 0s 2ms/step - loss: 0.4650 - accuracy: 0.7750 - val_loss: 0.5470 - val_accuracy: 0.7033\n",
      "Epoch 47/300\n",
      "36/36 [==============================] - 0s 3ms/step - loss: 0.4647 - accuracy: 0.7722 - val_loss: 0.5441 - val_accuracy: 0.6813\n",
      "Epoch 48/300\n",
      "36/36 [==============================] - 0s 4ms/step - loss: 0.4639 - accuracy: 0.7750 - val_loss: 0.5449 - val_accuracy: 0.6923\n",
      "Epoch 49/300\n",
      "36/36 [==============================] - 0s 4ms/step - loss: 0.4633 - accuracy: 0.7694 - val_loss: 0.5452 - val_accuracy: 0.6923\n",
      "Epoch 50/300\n",
      "36/36 [==============================] - 0s 3ms/step - loss: 0.4617 - accuracy: 0.7694 - val_loss: 0.5475 - val_accuracy: 0.7033\n",
      "Epoch 51/300\n",
      "36/36 [==============================] - 0s 4ms/step - loss: 0.4621 - accuracy: 0.7778 - val_loss: 0.5440 - val_accuracy: 0.6813\n",
      "Epoch 52/300\n",
      "36/36 [==============================] - 0s 5ms/step - loss: 0.4598 - accuracy: 0.7667 - val_loss: 0.5469 - val_accuracy: 0.7033\n",
      "Epoch 53/300\n",
      "36/36 [==============================] - 0s 4ms/step - loss: 0.4593 - accuracy: 0.7833 - val_loss: 0.5422 - val_accuracy: 0.6923\n",
      "Epoch 54/300\n",
      "36/36 [==============================] - 0s 5ms/step - loss: 0.4580 - accuracy: 0.7667 - val_loss: 0.5433 - val_accuracy: 0.6813\n",
      "Epoch 55/300\n",
      "36/36 [==============================] - 0s 4ms/step - loss: 0.4582 - accuracy: 0.7750 - val_loss: 0.5427 - val_accuracy: 0.6813\n",
      "Epoch 56/300\n",
      "36/36 [==============================] - 0s 4ms/step - loss: 0.4566 - accuracy: 0.7667 - val_loss: 0.5452 - val_accuracy: 0.6923\n",
      "Epoch 57/300\n",
      "36/36 [==============================] - 0s 4ms/step - loss: 0.4559 - accuracy: 0.7806 - val_loss: 0.5438 - val_accuracy: 0.6813\n",
      "Epoch 58/300\n",
      "36/36 [==============================] - 0s 4ms/step - loss: 0.4559 - accuracy: 0.7778 - val_loss: 0.5463 - val_accuracy: 0.7033\n",
      "Epoch 59/300\n",
      "36/36 [==============================] - 0s 3ms/step - loss: 0.4547 - accuracy: 0.7722 - val_loss: 0.5399 - val_accuracy: 0.6593\n",
      "Epoch 60/300\n",
      "36/36 [==============================] - 0s 4ms/step - loss: 0.4539 - accuracy: 0.7667 - val_loss: 0.5404 - val_accuracy: 0.6593\n",
      "Epoch 61/300\n",
      "36/36 [==============================] - 0s 4ms/step - loss: 0.4527 - accuracy: 0.7722 - val_loss: 0.5415 - val_accuracy: 0.6593\n",
      "Epoch 62/300\n",
      "36/36 [==============================] - 0s 7ms/step - loss: 0.4520 - accuracy: 0.7694 - val_loss: 0.5425 - val_accuracy: 0.6703\n",
      "Epoch 63/300\n",
      "36/36 [==============================] - 0s 3ms/step - loss: 0.4520 - accuracy: 0.7750 - val_loss: 0.5410 - val_accuracy: 0.6593\n",
      "Epoch 64/300\n",
      "36/36 [==============================] - 0s 3ms/step - loss: 0.4497 - accuracy: 0.7806 - val_loss: 0.5460 - val_accuracy: 0.6923\n",
      "Epoch 65/300\n",
      "36/36 [==============================] - 0s 3ms/step - loss: 0.4495 - accuracy: 0.7889 - val_loss: 0.5429 - val_accuracy: 0.6593\n",
      "Epoch 66/300\n",
      "36/36 [==============================] - 0s 3ms/step - loss: 0.4502 - accuracy: 0.7778 - val_loss: 0.5435 - val_accuracy: 0.6593\n",
      "Epoch 67/300\n",
      "36/36 [==============================] - 0s 3ms/step - loss: 0.4484 - accuracy: 0.7694 - val_loss: 0.5456 - val_accuracy: 0.6703\n",
      "Epoch 68/300\n",
      "36/36 [==============================] - 0s 3ms/step - loss: 0.4472 - accuracy: 0.7833 - val_loss: 0.5448 - val_accuracy: 0.6593\n",
      "Epoch 69/300\n",
      "36/36 [==============================] - 0s 3ms/step - loss: 0.4475 - accuracy: 0.7750 - val_loss: 0.5427 - val_accuracy: 0.6593\n",
      "Epoch 70/300\n",
      "36/36 [==============================] - 0s 3ms/step - loss: 0.4458 - accuracy: 0.7833 - val_loss: 0.5418 - val_accuracy: 0.6484\n",
      "Epoch 71/300\n",
      "36/36 [==============================] - 0s 3ms/step - loss: 0.4446 - accuracy: 0.7889 - val_loss: 0.5413 - val_accuracy: 0.6593\n",
      "Epoch 72/300\n",
      "36/36 [==============================] - 0s 3ms/step - loss: 0.4441 - accuracy: 0.7694 - val_loss: 0.5455 - val_accuracy: 0.6593\n",
      "Epoch 73/300\n",
      "36/36 [==============================] - 0s 3ms/step - loss: 0.4433 - accuracy: 0.7917 - val_loss: 0.5442 - val_accuracy: 0.6703\n",
      "Epoch 74/300\n",
      "36/36 [==============================] - 0s 3ms/step - loss: 0.4433 - accuracy: 0.7944 - val_loss: 0.5464 - val_accuracy: 0.6813\n",
      "Epoch 75/300\n",
      "36/36 [==============================] - 0s 3ms/step - loss: 0.4431 - accuracy: 0.7917 - val_loss: 0.5419 - val_accuracy: 0.6593\n",
      "Epoch 76/300\n",
      "36/36 [==============================] - 0s 3ms/step - loss: 0.4415 - accuracy: 0.7778 - val_loss: 0.5411 - val_accuracy: 0.6593\n",
      "Epoch 77/300\n",
      "36/36 [==============================] - 0s 3ms/step - loss: 0.4406 - accuracy: 0.7889 - val_loss: 0.5389 - val_accuracy: 0.6593\n",
      "Epoch 78/300\n",
      "36/36 [==============================] - 0s 3ms/step - loss: 0.4409 - accuracy: 0.7889 - val_loss: 0.5393 - val_accuracy: 0.6484\n",
      "Epoch 79/300\n",
      "36/36 [==============================] - 0s 3ms/step - loss: 0.4394 - accuracy: 0.7917 - val_loss: 0.5398 - val_accuracy: 0.6593\n",
      "Epoch 80/300\n",
      "36/36 [==============================] - 0s 3ms/step - loss: 0.4378 - accuracy: 0.8000 - val_loss: 0.5447 - val_accuracy: 0.6813\n",
      "Epoch 81/300\n",
      "36/36 [==============================] - 0s 3ms/step - loss: 0.4375 - accuracy: 0.7972 - val_loss: 0.5401 - val_accuracy: 0.6484\n",
      "Epoch 82/300\n",
      "36/36 [==============================] - 0s 3ms/step - loss: 0.4364 - accuracy: 0.8000 - val_loss: 0.5453 - val_accuracy: 0.6813\n",
      "Epoch 83/300\n",
      "36/36 [==============================] - 0s 3ms/step - loss: 0.4363 - accuracy: 0.7972 - val_loss: 0.5402 - val_accuracy: 0.6484\n",
      "Epoch 84/300\n",
      "36/36 [==============================] - 0s 3ms/step - loss: 0.4350 - accuracy: 0.7917 - val_loss: 0.5371 - val_accuracy: 0.6593\n",
      "Epoch 85/300\n",
      "36/36 [==============================] - 0s 3ms/step - loss: 0.4343 - accuracy: 0.7917 - val_loss: 0.5457 - val_accuracy: 0.6703\n",
      "Epoch 86/300\n",
      "36/36 [==============================] - 0s 3ms/step - loss: 0.4329 - accuracy: 0.7944 - val_loss: 0.5383 - val_accuracy: 0.6593\n",
      "Epoch 87/300\n",
      "36/36 [==============================] - 0s 3ms/step - loss: 0.4332 - accuracy: 0.7972 - val_loss: 0.5414 - val_accuracy: 0.6703\n",
      "Epoch 88/300\n",
      "36/36 [==============================] - 0s 3ms/step - loss: 0.4319 - accuracy: 0.8028 - val_loss: 0.5425 - val_accuracy: 0.6593\n",
      "Epoch 89/300\n",
      "36/36 [==============================] - 0s 3ms/step - loss: 0.4314 - accuracy: 0.7972 - val_loss: 0.5398 - val_accuracy: 0.6593\n",
      "Epoch 90/300\n",
      "36/36 [==============================] - 0s 3ms/step - loss: 0.4310 - accuracy: 0.7972 - val_loss: 0.5366 - val_accuracy: 0.6593\n",
      "Epoch 91/300\n",
      "36/36 [==============================] - 0s 3ms/step - loss: 0.4307 - accuracy: 0.8028 - val_loss: 0.5389 - val_accuracy: 0.6593\n",
      "Epoch 92/300\n",
      "36/36 [==============================] - 0s 3ms/step - loss: 0.4294 - accuracy: 0.7972 - val_loss: 0.5396 - val_accuracy: 0.6703\n",
      "Epoch 93/300\n",
      "36/36 [==============================] - 0s 3ms/step - loss: 0.4272 - accuracy: 0.7806 - val_loss: 0.5477 - val_accuracy: 0.6813\n",
      "Epoch 94/300\n",
      "36/36 [==============================] - 0s 3ms/step - loss: 0.4276 - accuracy: 0.7972 - val_loss: 0.5461 - val_accuracy: 0.6813\n",
      "Epoch 95/300\n",
      "36/36 [==============================] - 0s 3ms/step - loss: 0.4272 - accuracy: 0.7889 - val_loss: 0.5467 - val_accuracy: 0.6813\n",
      "Epoch 96/300\n",
      "36/36 [==============================] - 0s 3ms/step - loss: 0.4264 - accuracy: 0.8000 - val_loss: 0.5444 - val_accuracy: 0.6813\n",
      "Epoch 97/300\n",
      "36/36 [==============================] - 0s 3ms/step - loss: 0.4261 - accuracy: 0.7917 - val_loss: 0.5406 - val_accuracy: 0.6593\n",
      "Epoch 98/300\n",
      "36/36 [==============================] - 0s 3ms/step - loss: 0.4247 - accuracy: 0.7917 - val_loss: 0.5434 - val_accuracy: 0.6813\n",
      "Epoch 99/300\n",
      "36/36 [==============================] - 0s 3ms/step - loss: 0.4246 - accuracy: 0.7972 - val_loss: 0.5412 - val_accuracy: 0.6593\n",
      "Epoch 100/300\n",
      "36/36 [==============================] - 0s 3ms/step - loss: 0.4232 - accuracy: 0.8056 - val_loss: 0.5373 - val_accuracy: 0.6703\n",
      "Epoch 101/300\n",
      "36/36 [==============================] - 0s 3ms/step - loss: 0.4242 - accuracy: 0.7972 - val_loss: 0.5388 - val_accuracy: 0.6703\n",
      "Epoch 102/300\n",
      "36/36 [==============================] - 0s 3ms/step - loss: 0.4222 - accuracy: 0.8056 - val_loss: 0.5363 - val_accuracy: 0.6593\n",
      "Epoch 103/300\n",
      "36/36 [==============================] - 0s 3ms/step - loss: 0.4222 - accuracy: 0.8000 - val_loss: 0.5378 - val_accuracy: 0.6703\n",
      "Epoch 104/300\n",
      "36/36 [==============================] - 0s 3ms/step - loss: 0.4216 - accuracy: 0.7972 - val_loss: 0.5357 - val_accuracy: 0.6813\n",
      "Epoch 105/300\n",
      "36/36 [==============================] - 0s 3ms/step - loss: 0.4197 - accuracy: 0.7889 - val_loss: 0.5383 - val_accuracy: 0.6923\n",
      "Epoch 106/300\n",
      "36/36 [==============================] - 0s 3ms/step - loss: 0.4216 - accuracy: 0.7944 - val_loss: 0.5441 - val_accuracy: 0.6923\n",
      "Epoch 107/300\n",
      "36/36 [==============================] - 0s 3ms/step - loss: 0.4188 - accuracy: 0.7944 - val_loss: 0.5393 - val_accuracy: 0.6923\n",
      "Epoch 108/300\n",
      "36/36 [==============================] - 0s 3ms/step - loss: 0.4174 - accuracy: 0.8056 - val_loss: 0.5370 - val_accuracy: 0.6703\n",
      "Epoch 109/300\n",
      "36/36 [==============================] - 0s 3ms/step - loss: 0.4177 - accuracy: 0.8000 - val_loss: 0.5448 - val_accuracy: 0.6813\n",
      "Epoch 110/300\n",
      "36/36 [==============================] - 0s 3ms/step - loss: 0.4175 - accuracy: 0.7944 - val_loss: 0.5487 - val_accuracy: 0.6923\n",
      "Epoch 111/300\n",
      "36/36 [==============================] - 0s 3ms/step - loss: 0.4165 - accuracy: 0.8056 - val_loss: 0.5355 - val_accuracy: 0.6813\n",
      "Epoch 112/300\n",
      "36/36 [==============================] - 0s 3ms/step - loss: 0.4163 - accuracy: 0.7917 - val_loss: 0.5427 - val_accuracy: 0.6923\n",
      "Epoch 113/300\n",
      "36/36 [==============================] - 0s 3ms/step - loss: 0.4160 - accuracy: 0.7972 - val_loss: 0.5448 - val_accuracy: 0.6813\n",
      "Epoch 114/300\n",
      "36/36 [==============================] - 0s 6ms/step - loss: 0.4150 - accuracy: 0.8056 - val_loss: 0.5397 - val_accuracy: 0.6813\n",
      "Epoch 115/300\n",
      "36/36 [==============================] - 0s 3ms/step - loss: 0.4141 - accuracy: 0.8028 - val_loss: 0.5430 - val_accuracy: 0.7033\n",
      "Epoch 116/300\n",
      "36/36 [==============================] - 0s 3ms/step - loss: 0.4125 - accuracy: 0.8083 - val_loss: 0.5456 - val_accuracy: 0.7033\n",
      "Epoch 117/300\n",
      "36/36 [==============================] - 0s 3ms/step - loss: 0.4106 - accuracy: 0.8111 - val_loss: 0.5471 - val_accuracy: 0.6923\n",
      "Epoch 118/300\n",
      "36/36 [==============================] - 0s 3ms/step - loss: 0.4137 - accuracy: 0.8028 - val_loss: 0.5428 - val_accuracy: 0.7033\n",
      "Epoch 119/300\n",
      "36/36 [==============================] - 0s 3ms/step - loss: 0.4104 - accuracy: 0.7944 - val_loss: 0.5471 - val_accuracy: 0.7143\n",
      "Epoch 120/300\n",
      "36/36 [==============================] - 0s 3ms/step - loss: 0.4090 - accuracy: 0.8028 - val_loss: 0.5367 - val_accuracy: 0.6703\n",
      "Epoch 121/300\n",
      "36/36 [==============================] - 0s 3ms/step - loss: 0.4098 - accuracy: 0.8000 - val_loss: 0.5373 - val_accuracy: 0.6593\n",
      "Epoch 122/300\n",
      "36/36 [==============================] - 0s 3ms/step - loss: 0.4081 - accuracy: 0.7944 - val_loss: 0.5400 - val_accuracy: 0.6813\n",
      "Epoch 123/300\n",
      "36/36 [==============================] - 0s 3ms/step - loss: 0.4070 - accuracy: 0.7972 - val_loss: 0.5503 - val_accuracy: 0.6923\n",
      "Epoch 124/300\n",
      "36/36 [==============================] - 0s 3ms/step - loss: 0.4081 - accuracy: 0.8083 - val_loss: 0.5486 - val_accuracy: 0.7033\n",
      "Epoch 125/300\n",
      "36/36 [==============================] - 0s 3ms/step - loss: 0.4078 - accuracy: 0.8000 - val_loss: 0.5380 - val_accuracy: 0.6703\n",
      "Epoch 126/300\n",
      "36/36 [==============================] - 0s 3ms/step - loss: 0.4075 - accuracy: 0.7917 - val_loss: 0.5454 - val_accuracy: 0.6923\n",
      "Epoch 127/300\n",
      "36/36 [==============================] - 0s 3ms/step - loss: 0.4053 - accuracy: 0.8000 - val_loss: 0.5451 - val_accuracy: 0.6923\n",
      "Epoch 128/300\n",
      "36/36 [==============================] - 0s 3ms/step - loss: 0.4047 - accuracy: 0.8028 - val_loss: 0.5397 - val_accuracy: 0.6923\n",
      "Epoch 129/300\n",
      "36/36 [==============================] - 0s 3ms/step - loss: 0.4042 - accuracy: 0.7944 - val_loss: 0.5436 - val_accuracy: 0.6923\n",
      "Epoch 130/300\n",
      "36/36 [==============================] - 0s 3ms/step - loss: 0.4033 - accuracy: 0.8083 - val_loss: 0.5368 - val_accuracy: 0.6923\n",
      "Epoch 131/300\n",
      "36/36 [==============================] - 0s 3ms/step - loss: 0.4027 - accuracy: 0.8056 - val_loss: 0.5430 - val_accuracy: 0.6923\n",
      "Epoch 132/300\n",
      "36/36 [==============================] - 0s 3ms/step - loss: 0.4016 - accuracy: 0.8111 - val_loss: 0.5482 - val_accuracy: 0.6923\n",
      "Epoch 133/300\n",
      "36/36 [==============================] - 0s 3ms/step - loss: 0.4017 - accuracy: 0.8111 - val_loss: 0.5450 - val_accuracy: 0.6923\n",
      "Epoch 134/300\n",
      "36/36 [==============================] - 0s 3ms/step - loss: 0.4010 - accuracy: 0.7972 - val_loss: 0.5461 - val_accuracy: 0.6923\n",
      "Epoch 135/300\n",
      "36/36 [==============================] - 0s 3ms/step - loss: 0.3998 - accuracy: 0.8083 - val_loss: 0.5482 - val_accuracy: 0.6923\n",
      "Epoch 136/300\n",
      "36/36 [==============================] - 0s 3ms/step - loss: 0.3977 - accuracy: 0.8194 - val_loss: 0.5396 - val_accuracy: 0.6813\n",
      "Epoch 137/300\n",
      "36/36 [==============================] - 0s 3ms/step - loss: 0.3990 - accuracy: 0.8028 - val_loss: 0.5467 - val_accuracy: 0.6923\n",
      "Epoch 138/300\n",
      "36/36 [==============================] - 0s 3ms/step - loss: 0.3980 - accuracy: 0.8139 - val_loss: 0.5466 - val_accuracy: 0.6923\n",
      "Epoch 139/300\n",
      "36/36 [==============================] - 0s 3ms/step - loss: 0.3963 - accuracy: 0.8139 - val_loss: 0.5429 - val_accuracy: 0.6813\n",
      "Epoch 140/300\n",
      "36/36 [==============================] - 0s 3ms/step - loss: 0.3970 - accuracy: 0.8028 - val_loss: 0.5550 - val_accuracy: 0.6923\n",
      "Epoch 141/300\n",
      "36/36 [==============================] - 0s 3ms/step - loss: 0.3960 - accuracy: 0.7972 - val_loss: 0.5448 - val_accuracy: 0.6813\n",
      "Epoch 142/300\n",
      "36/36 [==============================] - 0s 3ms/step - loss: 0.3942 - accuracy: 0.8111 - val_loss: 0.5515 - val_accuracy: 0.6923\n",
      "Epoch 143/300\n",
      "36/36 [==============================] - 0s 3ms/step - loss: 0.3937 - accuracy: 0.8111 - val_loss: 0.5533 - val_accuracy: 0.6923\n",
      "Epoch 144/300\n",
      "36/36 [==============================] - 0s 3ms/step - loss: 0.3958 - accuracy: 0.8056 - val_loss: 0.5414 - val_accuracy: 0.7033\n",
      "Epoch 145/300\n",
      "36/36 [==============================] - 0s 3ms/step - loss: 0.3923 - accuracy: 0.8111 - val_loss: 0.5430 - val_accuracy: 0.6923\n",
      "Epoch 146/300\n",
      "36/36 [==============================] - 0s 3ms/step - loss: 0.3905 - accuracy: 0.8056 - val_loss: 0.5374 - val_accuracy: 0.7033\n",
      "Epoch 147/300\n",
      "36/36 [==============================] - 0s 3ms/step - loss: 0.3931 - accuracy: 0.8056 - val_loss: 0.5424 - val_accuracy: 0.6923\n",
      "Epoch 148/300\n",
      "36/36 [==============================] - 0s 3ms/step - loss: 0.3911 - accuracy: 0.8167 - val_loss: 0.5453 - val_accuracy: 0.7033\n",
      "Epoch 149/300\n",
      "36/36 [==============================] - 0s 3ms/step - loss: 0.3918 - accuracy: 0.8056 - val_loss: 0.5477 - val_accuracy: 0.6923\n",
      "Epoch 150/300\n",
      "36/36 [==============================] - 0s 3ms/step - loss: 0.3888 - accuracy: 0.8056 - val_loss: 0.5447 - val_accuracy: 0.7033\n",
      "Epoch 151/300\n",
      "36/36 [==============================] - 0s 3ms/step - loss: 0.3904 - accuracy: 0.8167 - val_loss: 0.5477 - val_accuracy: 0.6923\n",
      "Epoch 152/300\n",
      "36/36 [==============================] - 0s 3ms/step - loss: 0.3892 - accuracy: 0.8250 - val_loss: 0.5579 - val_accuracy: 0.6923\n",
      "Epoch 153/300\n",
      "36/36 [==============================] - 0s 3ms/step - loss: 0.3881 - accuracy: 0.8083 - val_loss: 0.5502 - val_accuracy: 0.6923\n",
      "Epoch 154/300\n",
      "36/36 [==============================] - 0s 3ms/step - loss: 0.3879 - accuracy: 0.8083 - val_loss: 0.5406 - val_accuracy: 0.6923\n",
      "Epoch 155/300\n",
      "36/36 [==============================] - 0s 5ms/step - loss: 0.3876 - accuracy: 0.8139 - val_loss: 0.5579 - val_accuracy: 0.7033\n",
      "Epoch 156/300\n",
      "36/36 [==============================] - 0s 3ms/step - loss: 0.3847 - accuracy: 0.8333 - val_loss: 0.5684 - val_accuracy: 0.7253\n",
      "Epoch 157/300\n",
      "36/36 [==============================] - 0s 3ms/step - loss: 0.3856 - accuracy: 0.8111 - val_loss: 0.5503 - val_accuracy: 0.7033\n",
      "Epoch 158/300\n",
      "36/36 [==============================] - 0s 3ms/step - loss: 0.3835 - accuracy: 0.8222 - val_loss: 0.5428 - val_accuracy: 0.7143\n",
      "Epoch 159/300\n",
      "36/36 [==============================] - 0s 3ms/step - loss: 0.3858 - accuracy: 0.8028 - val_loss: 0.5489 - val_accuracy: 0.7033\n",
      "Epoch 160/300\n",
      "36/36 [==============================] - 0s 3ms/step - loss: 0.3845 - accuracy: 0.8250 - val_loss: 0.5514 - val_accuracy: 0.7033\n",
      "Epoch 161/300\n",
      "36/36 [==============================] - 0s 3ms/step - loss: 0.3840 - accuracy: 0.8222 - val_loss: 0.5559 - val_accuracy: 0.6923\n",
      "Epoch 162/300\n",
      "36/36 [==============================] - 0s 4ms/step - loss: 0.3820 - accuracy: 0.8083 - val_loss: 0.5527 - val_accuracy: 0.6923\n",
      "Epoch 163/300\n",
      "36/36 [==============================] - 0s 3ms/step - loss: 0.3819 - accuracy: 0.8083 - val_loss: 0.5481 - val_accuracy: 0.7033\n",
      "Epoch 164/300\n",
      "36/36 [==============================] - 0s 3ms/step - loss: 0.3814 - accuracy: 0.8278 - val_loss: 0.5492 - val_accuracy: 0.7033\n",
      "Epoch 165/300\n",
      "36/36 [==============================] - 0s 3ms/step - loss: 0.3792 - accuracy: 0.8111 - val_loss: 0.5559 - val_accuracy: 0.7033\n",
      "Epoch 166/300\n",
      "36/36 [==============================] - 0s 3ms/step - loss: 0.3802 - accuracy: 0.8111 - val_loss: 0.5502 - val_accuracy: 0.7143\n",
      "Epoch 167/300\n",
      "36/36 [==============================] - 0s 3ms/step - loss: 0.3795 - accuracy: 0.8222 - val_loss: 0.5593 - val_accuracy: 0.6923\n",
      "Epoch 168/300\n",
      "36/36 [==============================] - 0s 3ms/step - loss: 0.3774 - accuracy: 0.8139 - val_loss: 0.5637 - val_accuracy: 0.7253\n",
      "Epoch 169/300\n",
      "36/36 [==============================] - 0s 3ms/step - loss: 0.3806 - accuracy: 0.8222 - val_loss: 0.5592 - val_accuracy: 0.6923\n",
      "Epoch 170/300\n",
      "36/36 [==============================] - 0s 3ms/step - loss: 0.3771 - accuracy: 0.8139 - val_loss: 0.5595 - val_accuracy: 0.7033\n",
      "Epoch 171/300\n",
      "36/36 [==============================] - 0s 5ms/step - loss: 0.3783 - accuracy: 0.8139 - val_loss: 0.5524 - val_accuracy: 0.7143\n",
      "Epoch 172/300\n",
      "36/36 [==============================] - 0s 4ms/step - loss: 0.3777 - accuracy: 0.8222 - val_loss: 0.5530 - val_accuracy: 0.7143\n",
      "Epoch 173/300\n",
      "36/36 [==============================] - 0s 3ms/step - loss: 0.3753 - accuracy: 0.8222 - val_loss: 0.5604 - val_accuracy: 0.7033\n",
      "Epoch 174/300\n",
      "36/36 [==============================] - 0s 3ms/step - loss: 0.3744 - accuracy: 0.8167 - val_loss: 0.5541 - val_accuracy: 0.7033\n",
      "Epoch 175/300\n",
      "36/36 [==============================] - 0s 3ms/step - loss: 0.3729 - accuracy: 0.8194 - val_loss: 0.5625 - val_accuracy: 0.7253\n",
      "Epoch 176/300\n",
      "36/36 [==============================] - 0s 3ms/step - loss: 0.3734 - accuracy: 0.8194 - val_loss: 0.5672 - val_accuracy: 0.7363\n",
      "Epoch 177/300\n",
      "36/36 [==============================] - 0s 4ms/step - loss: 0.3764 - accuracy: 0.8194 - val_loss: 0.5617 - val_accuracy: 0.6923\n",
      "Epoch 178/300\n",
      "36/36 [==============================] - 0s 5ms/step - loss: 0.3725 - accuracy: 0.8167 - val_loss: 0.5726 - val_accuracy: 0.7143\n",
      "Epoch 179/300\n",
      "36/36 [==============================] - 0s 3ms/step - loss: 0.3722 - accuracy: 0.8167 - val_loss: 0.5542 - val_accuracy: 0.7143\n",
      "Epoch 180/300\n",
      "36/36 [==============================] - 0s 3ms/step - loss: 0.3711 - accuracy: 0.8167 - val_loss: 0.5674 - val_accuracy: 0.7033\n",
      "Epoch 181/300\n",
      "36/36 [==============================] - 0s 3ms/step - loss: 0.3717 - accuracy: 0.8139 - val_loss: 0.5634 - val_accuracy: 0.6923\n",
      "Epoch 182/300\n",
      "36/36 [==============================] - 0s 3ms/step - loss: 0.3671 - accuracy: 0.8167 - val_loss: 0.5889 - val_accuracy: 0.7143\n",
      "Epoch 183/300\n",
      "36/36 [==============================] - 0s 3ms/step - loss: 0.3696 - accuracy: 0.8111 - val_loss: 0.5749 - val_accuracy: 0.7143\n",
      "Epoch 184/300\n",
      "36/36 [==============================] - 0s 3ms/step - loss: 0.3676 - accuracy: 0.8278 - val_loss: 0.5753 - val_accuracy: 0.7033\n",
      "Epoch 185/300\n",
      "36/36 [==============================] - 0s 3ms/step - loss: 0.3683 - accuracy: 0.8278 - val_loss: 0.5745 - val_accuracy: 0.7143\n",
      "Epoch 186/300\n",
      "36/36 [==============================] - 0s 3ms/step - loss: 0.3653 - accuracy: 0.8222 - val_loss: 0.5597 - val_accuracy: 0.7033\n",
      "Epoch 187/300\n",
      "36/36 [==============================] - 0s 3ms/step - loss: 0.3691 - accuracy: 0.8000 - val_loss: 0.5717 - val_accuracy: 0.7253\n",
      "Epoch 188/300\n",
      "36/36 [==============================] - 0s 3ms/step - loss: 0.3641 - accuracy: 0.8222 - val_loss: 0.5813 - val_accuracy: 0.7033\n",
      "Epoch 189/300\n",
      "36/36 [==============================] - 0s 5ms/step - loss: 0.3660 - accuracy: 0.8278 - val_loss: 0.5610 - val_accuracy: 0.7033\n",
      "Epoch 190/300\n",
      "36/36 [==============================] - 0s 3ms/step - loss: 0.3642 - accuracy: 0.8278 - val_loss: 0.5681 - val_accuracy: 0.7143\n",
      "Epoch 191/300\n",
      "36/36 [==============================] - 0s 3ms/step - loss: 0.3618 - accuracy: 0.8111 - val_loss: 0.5626 - val_accuracy: 0.7363\n",
      "Epoch 192/300\n",
      "36/36 [==============================] - 0s 3ms/step - loss: 0.3606 - accuracy: 0.8361 - val_loss: 0.5537 - val_accuracy: 0.7253\n",
      "Epoch 193/300\n",
      "36/36 [==============================] - 0s 3ms/step - loss: 0.3613 - accuracy: 0.8194 - val_loss: 0.5557 - val_accuracy: 0.7033\n",
      "Epoch 194/300\n",
      "36/36 [==============================] - 0s 3ms/step - loss: 0.3598 - accuracy: 0.8333 - val_loss: 0.5672 - val_accuracy: 0.7253\n",
      "Epoch 195/300\n",
      "36/36 [==============================] - 0s 3ms/step - loss: 0.3636 - accuracy: 0.8194 - val_loss: 0.5637 - val_accuracy: 0.7253\n",
      "Epoch 196/300\n",
      "36/36 [==============================] - 0s 2ms/step - loss: 0.3590 - accuracy: 0.8194 - val_loss: 0.5703 - val_accuracy: 0.7473\n",
      "Epoch 197/300\n",
      "36/36 [==============================] - 0s 3ms/step - loss: 0.3607 - accuracy: 0.8222 - val_loss: 0.5623 - val_accuracy: 0.7473\n",
      "Epoch 198/300\n",
      "36/36 [==============================] - 0s 3ms/step - loss: 0.3577 - accuracy: 0.8222 - val_loss: 0.5504 - val_accuracy: 0.7253\n",
      "Epoch 199/300\n",
      "36/36 [==============================] - 0s 3ms/step - loss: 0.3568 - accuracy: 0.8194 - val_loss: 0.5758 - val_accuracy: 0.7033\n",
      "Epoch 200/300\n",
      "36/36 [==============================] - 0s 3ms/step - loss: 0.3604 - accuracy: 0.8250 - val_loss: 0.5745 - val_accuracy: 0.7143\n",
      "Epoch 201/300\n",
      "36/36 [==============================] - 0s 3ms/step - loss: 0.3560 - accuracy: 0.8306 - val_loss: 0.5741 - val_accuracy: 0.7363\n",
      "Epoch 202/300\n",
      "36/36 [==============================] - 0s 3ms/step - loss: 0.3559 - accuracy: 0.8306 - val_loss: 0.5554 - val_accuracy: 0.7363\n",
      "Epoch 203/300\n",
      "36/36 [==============================] - 0s 3ms/step - loss: 0.3510 - accuracy: 0.8333 - val_loss: 0.5571 - val_accuracy: 0.7253\n",
      "Epoch 204/300\n",
      "36/36 [==============================] - 0s 3ms/step - loss: 0.3539 - accuracy: 0.8222 - val_loss: 0.5966 - val_accuracy: 0.7253\n",
      "Epoch 205/300\n",
      "36/36 [==============================] - 0s 3ms/step - loss: 0.3551 - accuracy: 0.8333 - val_loss: 0.5780 - val_accuracy: 0.7473\n",
      "Epoch 206/300\n",
      "36/36 [==============================] - 0s 3ms/step - loss: 0.3522 - accuracy: 0.8361 - val_loss: 0.5781 - val_accuracy: 0.7473\n",
      "Epoch 207/300\n",
      "36/36 [==============================] - 0s 3ms/step - loss: 0.3521 - accuracy: 0.8417 - val_loss: 0.5844 - val_accuracy: 0.7253\n",
      "Epoch 208/300\n",
      "36/36 [==============================] - 0s 3ms/step - loss: 0.3531 - accuracy: 0.8222 - val_loss: 0.5812 - val_accuracy: 0.7143\n",
      "Epoch 209/300\n",
      "36/36 [==============================] - 0s 3ms/step - loss: 0.3519 - accuracy: 0.8250 - val_loss: 0.5978 - val_accuracy: 0.7253\n",
      "Epoch 210/300\n",
      "36/36 [==============================] - 0s 3ms/step - loss: 0.3499 - accuracy: 0.8361 - val_loss: 0.5787 - val_accuracy: 0.7363\n",
      "Epoch 211/300\n",
      "36/36 [==============================] - 0s 3ms/step - loss: 0.3486 - accuracy: 0.8361 - val_loss: 0.5789 - val_accuracy: 0.7363\n",
      "Epoch 212/300\n",
      "36/36 [==============================] - 0s 3ms/step - loss: 0.3492 - accuracy: 0.8389 - val_loss: 0.5498 - val_accuracy: 0.7692\n",
      "Epoch 213/300\n",
      "36/36 [==============================] - 0s 3ms/step - loss: 0.3464 - accuracy: 0.8361 - val_loss: 0.5799 - val_accuracy: 0.6923\n",
      "Epoch 214/300\n",
      "36/36 [==============================] - 0s 3ms/step - loss: 0.3451 - accuracy: 0.8472 - val_loss: 0.5595 - val_accuracy: 0.7143\n",
      "Epoch 215/300\n",
      "36/36 [==============================] - 0s 3ms/step - loss: 0.3490 - accuracy: 0.8306 - val_loss: 0.5855 - val_accuracy: 0.7253\n",
      "Epoch 216/300\n",
      "36/36 [==============================] - 0s 3ms/step - loss: 0.3479 - accuracy: 0.8333 - val_loss: 0.5945 - val_accuracy: 0.7253\n",
      "Epoch 217/300\n",
      "36/36 [==============================] - 0s 3ms/step - loss: 0.3434 - accuracy: 0.8333 - val_loss: 0.5627 - val_accuracy: 0.7473\n",
      "Epoch 218/300\n",
      "36/36 [==============================] - 0s 3ms/step - loss: 0.3442 - accuracy: 0.8389 - val_loss: 0.5640 - val_accuracy: 0.7582\n",
      "Epoch 219/300\n",
      "36/36 [==============================] - 0s 3ms/step - loss: 0.3455 - accuracy: 0.8333 - val_loss: 0.5784 - val_accuracy: 0.7253\n",
      "Epoch 220/300\n",
      "36/36 [==============================] - 0s 3ms/step - loss: 0.3439 - accuracy: 0.8333 - val_loss: 0.5862 - val_accuracy: 0.7253\n",
      "Epoch 221/300\n",
      "36/36 [==============================] - 0s 6ms/step - loss: 0.3448 - accuracy: 0.8222 - val_loss: 0.5853 - val_accuracy: 0.7473\n",
      "Epoch 222/300\n",
      "36/36 [==============================] - 0s 3ms/step - loss: 0.3427 - accuracy: 0.8306 - val_loss: 0.5746 - val_accuracy: 0.7473\n",
      "Epoch 223/300\n",
      "36/36 [==============================] - 0s 3ms/step - loss: 0.3425 - accuracy: 0.8333 - val_loss: 0.5817 - val_accuracy: 0.7473\n",
      "Epoch 224/300\n",
      "36/36 [==============================] - 0s 3ms/step - loss: 0.3335 - accuracy: 0.8389 - val_loss: 0.6101 - val_accuracy: 0.7363\n",
      "Epoch 225/300\n",
      "36/36 [==============================] - 0s 3ms/step - loss: 0.3386 - accuracy: 0.8361 - val_loss: 0.5889 - val_accuracy: 0.7363\n",
      "Epoch 226/300\n",
      "36/36 [==============================] - 0s 3ms/step - loss: 0.3407 - accuracy: 0.8389 - val_loss: 0.6033 - val_accuracy: 0.7363\n",
      "Epoch 227/300\n",
      "36/36 [==============================] - 0s 3ms/step - loss: 0.3363 - accuracy: 0.8444 - val_loss: 0.6022 - val_accuracy: 0.7363\n",
      "Epoch 228/300\n",
      "36/36 [==============================] - 0s 3ms/step - loss: 0.3377 - accuracy: 0.8417 - val_loss: 0.5872 - val_accuracy: 0.7582\n",
      "Epoch 229/300\n",
      "36/36 [==============================] - 0s 3ms/step - loss: 0.3391 - accuracy: 0.8361 - val_loss: 0.5737 - val_accuracy: 0.7692\n",
      "Epoch 230/300\n",
      "36/36 [==============================] - 0s 3ms/step - loss: 0.3413 - accuracy: 0.8472 - val_loss: 0.5769 - val_accuracy: 0.7582\n",
      "Epoch 231/300\n",
      "36/36 [==============================] - 0s 3ms/step - loss: 0.3319 - accuracy: 0.8444 - val_loss: 0.5625 - val_accuracy: 0.7473\n",
      "Epoch 232/300\n",
      "36/36 [==============================] - 0s 3ms/step - loss: 0.3374 - accuracy: 0.8444 - val_loss: 0.5811 - val_accuracy: 0.7473\n",
      "Epoch 233/300\n",
      "36/36 [==============================] - 0s 3ms/step - loss: 0.3258 - accuracy: 0.8389 - val_loss: 0.6291 - val_accuracy: 0.7253\n",
      "Epoch 234/300\n",
      "36/36 [==============================] - 0s 3ms/step - loss: 0.3326 - accuracy: 0.8444 - val_loss: 0.5907 - val_accuracy: 0.7363\n",
      "Epoch 235/300\n",
      "36/36 [==============================] - 0s 3ms/step - loss: 0.3284 - accuracy: 0.8444 - val_loss: 0.5655 - val_accuracy: 0.7473\n",
      "Epoch 236/300\n",
      "36/36 [==============================] - 0s 3ms/step - loss: 0.3278 - accuracy: 0.8361 - val_loss: 0.6179 - val_accuracy: 0.7363\n",
      "Epoch 237/300\n",
      "36/36 [==============================] - 0s 3ms/step - loss: 0.3285 - accuracy: 0.8472 - val_loss: 0.6295 - val_accuracy: 0.7033\n",
      "Epoch 238/300\n",
      "36/36 [==============================] - 0s 4ms/step - loss: 0.3320 - accuracy: 0.8444 - val_loss: 0.6219 - val_accuracy: 0.7143\n",
      "Epoch 239/300\n",
      "36/36 [==============================] - 0s 3ms/step - loss: 0.3288 - accuracy: 0.8306 - val_loss: 0.5614 - val_accuracy: 0.7692\n",
      "Epoch 240/300\n",
      "36/36 [==============================] - 0s 3ms/step - loss: 0.3271 - accuracy: 0.8528 - val_loss: 0.5781 - val_accuracy: 0.7363\n",
      "Epoch 241/300\n",
      "36/36 [==============================] - 0s 3ms/step - loss: 0.3275 - accuracy: 0.8389 - val_loss: 0.5657 - val_accuracy: 0.7802\n",
      "Epoch 242/300\n",
      "36/36 [==============================] - 0s 3ms/step - loss: 0.3290 - accuracy: 0.8361 - val_loss: 0.5795 - val_accuracy: 0.7582\n",
      "Epoch 243/300\n",
      "36/36 [==============================] - 0s 3ms/step - loss: 0.3296 - accuracy: 0.8528 - val_loss: 0.5950 - val_accuracy: 0.7363\n",
      "Epoch 244/300\n",
      "36/36 [==============================] - 0s 3ms/step - loss: 0.3230 - accuracy: 0.8389 - val_loss: 0.6142 - val_accuracy: 0.7363\n",
      "Epoch 245/300\n",
      "36/36 [==============================] - 0s 3ms/step - loss: 0.3282 - accuracy: 0.8444 - val_loss: 0.6004 - val_accuracy: 0.7363\n",
      "Epoch 246/300\n",
      "36/36 [==============================] - 0s 3ms/step - loss: 0.3279 - accuracy: 0.8389 - val_loss: 0.5894 - val_accuracy: 0.7363\n",
      "Epoch 247/300\n",
      "36/36 [==============================] - 0s 3ms/step - loss: 0.3216 - accuracy: 0.8361 - val_loss: 0.5755 - val_accuracy: 0.7692\n",
      "Epoch 248/300\n",
      "36/36 [==============================] - 0s 5ms/step - loss: 0.3234 - accuracy: 0.8444 - val_loss: 0.6121 - val_accuracy: 0.7363\n",
      "Epoch 249/300\n",
      "36/36 [==============================] - 0s 3ms/step - loss: 0.3212 - accuracy: 0.8528 - val_loss: 0.5938 - val_accuracy: 0.7253\n",
      "Epoch 250/300\n",
      "36/36 [==============================] - 0s 3ms/step - loss: 0.3141 - accuracy: 0.8500 - val_loss: 0.5988 - val_accuracy: 0.7363\n",
      "Epoch 251/300\n",
      "36/36 [==============================] - 0s 3ms/step - loss: 0.3146 - accuracy: 0.8556 - val_loss: 0.5839 - val_accuracy: 0.7143\n",
      "Epoch 252/300\n",
      "36/36 [==============================] - 0s 3ms/step - loss: 0.3212 - accuracy: 0.8389 - val_loss: 0.5901 - val_accuracy: 0.7582\n",
      "Epoch 253/300\n",
      "36/36 [==============================] - 0s 3ms/step - loss: 0.3177 - accuracy: 0.8500 - val_loss: 0.5960 - val_accuracy: 0.7363\n",
      "Epoch 254/300\n",
      "36/36 [==============================] - 0s 3ms/step - loss: 0.3209 - accuracy: 0.8444 - val_loss: 0.5759 - val_accuracy: 0.7582\n",
      "Epoch 255/300\n",
      "36/36 [==============================] - 0s 3ms/step - loss: 0.3156 - accuracy: 0.8444 - val_loss: 0.5969 - val_accuracy: 0.7582\n",
      "Epoch 256/300\n",
      "36/36 [==============================] - 0s 3ms/step - loss: 0.3168 - accuracy: 0.8417 - val_loss: 0.5774 - val_accuracy: 0.7912\n",
      "Epoch 257/300\n",
      "36/36 [==============================] - 0s 3ms/step - loss: 0.3151 - accuracy: 0.8556 - val_loss: 0.5926 - val_accuracy: 0.7802\n",
      "Epoch 258/300\n",
      "36/36 [==============================] - 0s 3ms/step - loss: 0.3181 - accuracy: 0.8417 - val_loss: 0.6106 - val_accuracy: 0.7363\n",
      "Epoch 259/300\n",
      "36/36 [==============================] - 0s 3ms/step - loss: 0.3085 - accuracy: 0.8528 - val_loss: 0.6040 - val_accuracy: 0.7473\n",
      "Epoch 260/300\n",
      "36/36 [==============================] - 0s 3ms/step - loss: 0.3032 - accuracy: 0.8556 - val_loss: 0.5604 - val_accuracy: 0.6923\n",
      "Epoch 261/300\n",
      "36/36 [==============================] - 0s 3ms/step - loss: 0.3115 - accuracy: 0.8611 - val_loss: 0.6045 - val_accuracy: 0.7473\n",
      "Epoch 262/300\n",
      "36/36 [==============================] - 0s 3ms/step - loss: 0.3123 - accuracy: 0.8528 - val_loss: 0.5857 - val_accuracy: 0.7692\n",
      "Epoch 263/300\n",
      "36/36 [==============================] - 0s 2ms/step - loss: 0.3127 - accuracy: 0.8500 - val_loss: 0.6202 - val_accuracy: 0.7363\n",
      "Epoch 264/300\n",
      "36/36 [==============================] - 0s 3ms/step - loss: 0.3055 - accuracy: 0.8639 - val_loss: 0.6756 - val_accuracy: 0.7143\n",
      "Epoch 265/300\n",
      "36/36 [==============================] - 0s 3ms/step - loss: 0.3108 - accuracy: 0.8500 - val_loss: 0.6244 - val_accuracy: 0.7473\n",
      "Epoch 266/300\n",
      "36/36 [==============================] - 0s 3ms/step - loss: 0.3106 - accuracy: 0.8583 - val_loss: 0.5874 - val_accuracy: 0.7912\n",
      "Epoch 267/300\n",
      "36/36 [==============================] - 0s 3ms/step - loss: 0.3049 - accuracy: 0.8611 - val_loss: 0.6293 - val_accuracy: 0.7363\n",
      "Epoch 268/300\n",
      "36/36 [==============================] - 0s 3ms/step - loss: 0.3092 - accuracy: 0.8556 - val_loss: 0.5765 - val_accuracy: 0.7473\n",
      "Epoch 269/300\n",
      "36/36 [==============================] - 0s 3ms/step - loss: 0.3085 - accuracy: 0.8500 - val_loss: 0.5862 - val_accuracy: 0.7802\n",
      "Epoch 270/300\n",
      "36/36 [==============================] - 0s 3ms/step - loss: 0.3010 - accuracy: 0.8500 - val_loss: 0.6213 - val_accuracy: 0.7363\n",
      "Epoch 271/300\n",
      "36/36 [==============================] - 0s 3ms/step - loss: 0.3020 - accuracy: 0.8694 - val_loss: 0.5858 - val_accuracy: 0.7582\n",
      "Epoch 272/300\n",
      "36/36 [==============================] - 0s 3ms/step - loss: 0.3047 - accuracy: 0.8611 - val_loss: 0.5887 - val_accuracy: 0.7363\n",
      "Epoch 273/300\n",
      "36/36 [==============================] - 0s 3ms/step - loss: 0.3015 - accuracy: 0.8583 - val_loss: 0.6033 - val_accuracy: 0.7692\n",
      "Epoch 274/300\n",
      "36/36 [==============================] - 0s 5ms/step - loss: 0.2996 - accuracy: 0.8556 - val_loss: 0.6329 - val_accuracy: 0.7253\n",
      "Epoch 275/300\n",
      "36/36 [==============================] - 0s 3ms/step - loss: 0.3006 - accuracy: 0.8639 - val_loss: 0.6063 - val_accuracy: 0.7473\n",
      "Epoch 276/300\n",
      "36/36 [==============================] - 0s 3ms/step - loss: 0.2959 - accuracy: 0.8694 - val_loss: 0.5924 - val_accuracy: 0.7912\n",
      "Epoch 277/300\n",
      "36/36 [==============================] - 0s 3ms/step - loss: 0.3000 - accuracy: 0.8528 - val_loss: 0.6195 - val_accuracy: 0.7582\n",
      "Epoch 278/300\n",
      "36/36 [==============================] - 0s 3ms/step - loss: 0.2987 - accuracy: 0.8556 - val_loss: 0.5980 - val_accuracy: 0.7802\n",
      "Epoch 279/300\n",
      "36/36 [==============================] - 0s 3ms/step - loss: 0.3022 - accuracy: 0.8667 - val_loss: 0.6138 - val_accuracy: 0.7802\n",
      "Epoch 280/300\n",
      "36/36 [==============================] - 0s 3ms/step - loss: 0.2948 - accuracy: 0.8722 - val_loss: 0.6022 - val_accuracy: 0.7692\n",
      "Epoch 281/300\n",
      "36/36 [==============================] - 0s 3ms/step - loss: 0.2939 - accuracy: 0.8722 - val_loss: 0.6132 - val_accuracy: 0.7582\n",
      "Epoch 282/300\n",
      "36/36 [==============================] - 0s 3ms/step - loss: 0.2920 - accuracy: 0.8611 - val_loss: 0.6030 - val_accuracy: 0.7802\n",
      "Epoch 283/300\n",
      "36/36 [==============================] - 0s 3ms/step - loss: 0.2858 - accuracy: 0.8806 - val_loss: 0.6059 - val_accuracy: 0.7692\n",
      "Epoch 284/300\n",
      "36/36 [==============================] - 0s 3ms/step - loss: 0.2883 - accuracy: 0.8722 - val_loss: 0.5954 - val_accuracy: 0.7253\n",
      "Epoch 285/300\n",
      "36/36 [==============================] - 0s 3ms/step - loss: 0.2942 - accuracy: 0.8639 - val_loss: 0.5887 - val_accuracy: 0.7582\n",
      "Epoch 286/300\n",
      "36/36 [==============================] - 0s 3ms/step - loss: 0.2931 - accuracy: 0.8722 - val_loss: 0.6043 - val_accuracy: 0.7692\n",
      "Epoch 287/300\n",
      "36/36 [==============================] - 0s 3ms/step - loss: 0.2908 - accuracy: 0.8667 - val_loss: 0.5784 - val_accuracy: 0.7473\n",
      "Epoch 288/300\n",
      "36/36 [==============================] - 0s 3ms/step - loss: 0.2911 - accuracy: 0.8611 - val_loss: 0.6172 - val_accuracy: 0.7692\n",
      "Epoch 289/300\n",
      "36/36 [==============================] - 0s 3ms/step - loss: 0.2896 - accuracy: 0.8611 - val_loss: 0.6273 - val_accuracy: 0.7582\n",
      "Epoch 290/300\n",
      "36/36 [==============================] - 0s 3ms/step - loss: 0.2866 - accuracy: 0.8583 - val_loss: 0.6216 - val_accuracy: 0.7363\n",
      "Epoch 291/300\n",
      "36/36 [==============================] - 0s 3ms/step - loss: 0.2801 - accuracy: 0.8750 - val_loss: 0.6271 - val_accuracy: 0.7692\n",
      "Epoch 292/300\n",
      "36/36 [==============================] - 0s 3ms/step - loss: 0.2843 - accuracy: 0.8722 - val_loss: 0.6267 - val_accuracy: 0.7912\n",
      "Epoch 293/300\n",
      "36/36 [==============================] - 0s 3ms/step - loss: 0.2847 - accuracy: 0.8667 - val_loss: 0.6548 - val_accuracy: 0.7582\n",
      "Epoch 294/300\n",
      "36/36 [==============================] - 0s 3ms/step - loss: 0.2920 - accuracy: 0.8556 - val_loss: 0.6037 - val_accuracy: 0.7582\n",
      "Epoch 295/300\n",
      "36/36 [==============================] - 0s 2ms/step - loss: 0.2748 - accuracy: 0.8806 - val_loss: 0.6217 - val_accuracy: 0.7692\n",
      "Epoch 296/300\n",
      "36/36 [==============================] - 0s 3ms/step - loss: 0.2838 - accuracy: 0.8778 - val_loss: 0.6073 - val_accuracy: 0.7692\n",
      "Epoch 297/300\n",
      "36/36 [==============================] - 0s 3ms/step - loss: 0.2781 - accuracy: 0.8694 - val_loss: 0.6174 - val_accuracy: 0.7143\n",
      "Epoch 298/300\n",
      "36/36 [==============================] - 0s 4ms/step - loss: 0.2831 - accuracy: 0.8778 - val_loss: 0.6139 - val_accuracy: 0.7802\n",
      "Epoch 299/300\n",
      "36/36 [==============================] - 0s 4ms/step - loss: 0.2862 - accuracy: 0.8583 - val_loss: 0.6122 - val_accuracy: 0.7692\n",
      "Epoch 300/300\n",
      "36/36 [==============================] - 0s 3ms/step - loss: 0.2780 - accuracy: 0.8833 - val_loss: 0.6419 - val_accuracy: 0.7912\n"
     ]
    }
   ],
   "source": [
    "import tensorflow as tf\n",
    "from tensorflow import keras\n",
    "from tensorflow.keras import layers\n",
    "\n",
    "model = keras.Sequential([\n",
    "    layers.Dense(64, activation='relu', input_shape=[X_train.shape[1]]),\n",
    "    layers.Dense(512, activation='relu'),\n",
    "    layers.Dense(512, activation='relu'),\n",
    "    layers.Dense(1, activation='sigmoid')\n",
    "])\n",
    "\n",
    "model.compile(\n",
    "    optimizer='sgd',\n",
    "    loss='binary_crossentropy',\n",
    "    metrics=['accuracy']\n",
    ")\n",
    "\n",
    "\n",
    "history = model.fit(X_train, y_train, epochs=300, batch_size=10, validation_split=0.2)\n"
   ]
  },
  {
   "cell_type": "code",
   "execution_count": 609,
   "metadata": {},
   "outputs": [
    {
     "name": "stdout",
     "output_type": "stream",
     "text": [
      "15/15 [==============================] - 0s 2ms/step\n"
     ]
    },
    {
     "data": {
      "text/plain": [
       "0.8736141906873615"
      ]
     },
     "execution_count": 609,
     "metadata": {},
     "output_type": "execute_result"
    }
   ],
   "source": [
    "from sklearn.metrics import accuracy_score\n",
    "\n",
    "accuracy_score(y_train, np.round(model.predict(X_train)))"
   ]
  },
  {
   "cell_type": "code",
   "execution_count": 610,
   "metadata": {},
   "outputs": [],
   "source": [
    "# model.save('model.h5')"
   ]
  },
  {
   "cell_type": "code",
   "execution_count": 611,
   "metadata": {
    "collapsed": true
   },
   "outputs": [],
   "source": [
    "## Predict Train results\n",
    "y_train_pred = neural.predict(X_train)"
   ]
  },
  {
   "cell_type": "code",
   "execution_count": 612,
   "metadata": {
    "collapsed": true
   },
   "outputs": [],
   "source": [
    "## Predict Test results\n",
    "y_pred = neural.predict(X_test)"
   ]
  },
  {
   "cell_type": "code",
   "execution_count": 613,
   "metadata": {
    "collapsed": true
   },
   "outputs": [],
   "source": [
    "y_pred_proba = neural.predict_proba(X_test)[:,1]"
   ]
  },
  {
   "cell_type": "code",
   "execution_count": 614,
   "metadata": {
    "collapsed": true
   },
   "outputs": [],
   "source": [
    "# Calculate ROC curve from y_test and pred\n",
    "fpr, tpr, thresholds = roc_curve(y_test, y_pred_proba)"
   ]
  },
  {
   "cell_type": "code",
   "execution_count": 615,
   "metadata": {},
   "outputs": [
    {
     "data": {
      "image/png": "[encoded data removed]",
      "text/plain": [
       "<Figure size 576x576 with 1 Axes>"
      ]
     },
     "metadata": {},
     "output_type": "display_data"
    }
   ],
   "source": [
    "# Plot the ROC curve\n",
    "fig = plt.figure(figsize=(8,8))\n",
    "plt.title('Receiver Operating Characteristic')\n",
    "\n",
    "# Plot ROC curve\n",
    "plt.plot(fpr, tpr, label='l1')\n",
    "plt.legend(loc='lower right')\n",
    "\n",
    "# Diagonal 45 degree line\n",
    "plt.plot([0,1],[0,1],'k--')\n",
    "\n",
    "# Axes limits and labels\n",
    "plt.xlim([-0.1,1.1])\n",
    "plt.ylim([-0.1,1.1])\n",
    "plt.ylabel('True Positive Rate')\n",
    "plt.xlabel('False Positive Rate')\n",
    "plt.show()"
   ]
  },
  {
   "cell_type": "code",
   "execution_count": 616,
   "metadata": {},
   "outputs": [
    {
     "data": {
      "text/plain": [
       "0.6703091301222142"
      ]
     },
     "execution_count": 616,
     "metadata": {},
     "output_type": "execute_result"
    }
   ],
   "source": [
    "roc_auc_score(y_train,y_train_pred )"
   ]
  },
  {
   "cell_type": "code",
   "execution_count": 617,
   "metadata": {},
   "outputs": [
    {
     "name": "stdout",
     "output_type": "stream",
     "text": [
      "0.7060185185185185\n"
     ]
    }
   ],
   "source": [
    "# Calculate AUC for Test\n",
    "print(auc(fpr, tpr))"
   ]
  },
  {
   "cell_type": "markdown",
   "metadata": {},
   "source": [
    "##  Save the winning model to disk"
   ]
  },
  {
   "cell_type": "code",
   "execution_count": 618,
   "metadata": {
    "collapsed": true
   },
   "outputs": [],
   "source": [
    "win_model = XGBClassifier(max_depth=1,learning_rate=0.05,n_estimators=500, reg_lambda=1)\n",
    "win_model.fit(X_train, y_train)\n",
    "with open('LiverDisease.pkl', 'wb') as pickle_file:\n",
    "      joblib.dump(win_model, 'LiverDisease.joblib') "
   ]
  },
  {
   "cell_type": "code",
   "execution_count": 619,
   "metadata": {},
   "outputs": [
    {
     "data": {
      "text/html": [
       "<div>\n",
       "<style scoped>\n",
       "    .dataframe tbody tr th:only-of-type {\n",
       "        vertical-align: middle;\n",
       "    }\n",
       "\n",
       "    .dataframe tbody tr th {\n",
       "        vertical-align: top;\n",
       "    }\n",
       "\n",
       "    .dataframe thead th {\n",
       "        text-align: right;\n",
       "    }\n",
       "</style>\n",
       "<table border=\"1\" class=\"dataframe\">\n",
       "  <thead>\n",
       "    <tr style=\"text-align: right;\">\n",
       "      <th></th>\n",
       "      <th>Age</th>\n",
       "      <th>Gender</th>\n",
       "      <th>Total_Bilirubin</th>\n",
       "      <th>Direct_Bilirubin</th>\n",
       "      <th>Alkaline_Phosphotase</th>\n",
       "      <th>Alamine_Aminotransferase</th>\n",
       "      <th>Aspartate_Aminotransferase</th>\n",
       "      <th>Total_Protiens</th>\n",
       "      <th>Albumin</th>\n",
       "      <th>Albumin_and_Globulin_Ratio</th>\n",
       "    </tr>\n",
       "  </thead>\n",
       "  <tbody>\n",
       "    <tr>\n",
       "      <th>110</th>\n",
       "      <td>-1.245338</td>\n",
       "      <td>1.668451</td>\n",
       "      <td>-0.415056</td>\n",
       "      <td>-0.465814</td>\n",
       "      <td>-0.412936</td>\n",
       "      <td>-0.388332</td>\n",
       "      <td>-0.486561</td>\n",
       "      <td>-0.923844</td>\n",
       "      <td>-1.083815</td>\n",
       "      <td>-0.771248</td>\n",
       "    </tr>\n",
       "    <tr>\n",
       "      <th>48</th>\n",
       "      <td>-0.759589</td>\n",
       "      <td>1.668451</td>\n",
       "      <td>-0.430493</td>\n",
       "      <td>-0.501397</td>\n",
       "      <td>-0.459787</td>\n",
       "      <td>-0.219058</td>\n",
       "      <td>-0.384773</td>\n",
       "      <td>-0.468086</td>\n",
       "      <td>-0.216708</td>\n",
       "      <td>0.114522</td>\n",
       "    </tr>\n",
       "    <tr>\n",
       "      <th>471</th>\n",
       "      <td>0.272628</td>\n",
       "      <td>1.668451</td>\n",
       "      <td>-0.430493</td>\n",
       "      <td>-0.501397</td>\n",
       "      <td>-0.424649</td>\n",
       "      <td>-0.352059</td>\n",
       "      <td>-0.396083</td>\n",
       "      <td>0.078823</td>\n",
       "      <td>-0.340581</td>\n",
       "      <td>-0.801792</td>\n",
       "    </tr>\n",
       "    <tr>\n",
       "      <th>336</th>\n",
       "      <td>1.851312</td>\n",
       "      <td>-0.598029</td>\n",
       "      <td>0.511170</td>\n",
       "      <td>0.744009</td>\n",
       "      <td>0.641198</td>\n",
       "      <td>0.742173</td>\n",
       "      <td>0.265543</td>\n",
       "      <td>-0.285783</td>\n",
       "      <td>0.031037</td>\n",
       "      <td>0.114522</td>\n",
       "    </tr>\n",
       "    <tr>\n",
       "      <th>441</th>\n",
       "      <td>-0.152402</td>\n",
       "      <td>1.668451</td>\n",
       "      <td>-0.168062</td>\n",
       "      <td>-0.145567</td>\n",
       "      <td>-0.006899</td>\n",
       "      <td>-0.279513</td>\n",
       "      <td>-0.322569</td>\n",
       "      <td>-2.199965</td>\n",
       "      <td>-1.703178</td>\n",
       "      <td>-0.801792</td>\n",
       "    </tr>\n",
       "    <tr>\n",
       "      <th>...</th>\n",
       "      <td>...</td>\n",
       "      <td>...</td>\n",
       "      <td>...</td>\n",
       "      <td>...</td>\n",
       "      <td>...</td>\n",
       "      <td>...</td>\n",
       "      <td>...</td>\n",
       "      <td>...</td>\n",
       "      <td>...</td>\n",
       "      <td>...</td>\n",
       "    </tr>\n",
       "    <tr>\n",
       "      <th>563</th>\n",
       "      <td>1.183407</td>\n",
       "      <td>-0.598029</td>\n",
       "      <td>-0.306996</td>\n",
       "      <td>-0.359065</td>\n",
       "      <td>0.016526</td>\n",
       "      <td>-0.267422</td>\n",
       "      <td>-0.073752</td>\n",
       "      <td>0.625732</td>\n",
       "      <td>-0.712198</td>\n",
       "      <td>-1.412667</td>\n",
       "    </tr>\n",
       "    <tr>\n",
       "      <th>377</th>\n",
       "      <td>-1.488212</td>\n",
       "      <td>1.668451</td>\n",
       "      <td>-0.430493</td>\n",
       "      <td>-0.465814</td>\n",
       "      <td>-0.358277</td>\n",
       "      <td>-0.382286</td>\n",
       "      <td>-0.469597</td>\n",
       "      <td>-0.376935</td>\n",
       "      <td>-0.216708</td>\n",
       "      <td>-0.190916</td>\n",
       "    </tr>\n",
       "    <tr>\n",
       "      <th>582</th>\n",
       "      <td>-0.395277</td>\n",
       "      <td>-0.598029</td>\n",
       "      <td>-0.368745</td>\n",
       "      <td>-0.430231</td>\n",
       "      <td>-0.303619</td>\n",
       "      <td>-0.327877</td>\n",
       "      <td>-0.407392</td>\n",
       "      <td>0.716883</td>\n",
       "      <td>1.517506</td>\n",
       "      <td>1.641712</td>\n",
       "    </tr>\n",
       "    <tr>\n",
       "      <th>128</th>\n",
       "      <td>0.819096</td>\n",
       "      <td>1.668451</td>\n",
       "      <td>-0.260685</td>\n",
       "      <td>-0.252316</td>\n",
       "      <td>6.255436</td>\n",
       "      <td>-0.086058</td>\n",
       "      <td>-0.073752</td>\n",
       "      <td>1.354944</td>\n",
       "      <td>0.898144</td>\n",
       "      <td>-0.038197</td>\n",
       "    </tr>\n",
       "    <tr>\n",
       "      <th>500</th>\n",
       "      <td>1.547719</td>\n",
       "      <td>-0.598029</td>\n",
       "      <td>-0.106314</td>\n",
       "      <td>-0.109984</td>\n",
       "      <td>0.278107</td>\n",
       "      <td>-0.080012</td>\n",
       "      <td>-0.232090</td>\n",
       "      <td>-0.468086</td>\n",
       "      <td>-0.959943</td>\n",
       "      <td>-1.107230</td>\n",
       "    </tr>\n",
       "  </tbody>\n",
       "</table>\n",
       "<p>451 rows × 10 columns</p>\n",
       "</div>"
      ],
      "text/plain": [
       "          Age    Gender  Total_Bilirubin  Direct_Bilirubin  \\\n",
       "110 -1.245338  1.668451        -0.415056         -0.465814   \n",
       "48  -0.759589  1.668451        -0.430493         -0.501397   \n",
       "471  0.272628  1.668451        -0.430493         -0.501397   \n",
       "336  1.851312 -0.598029         0.511170          0.744009   \n",
       "441 -0.152402  1.668451        -0.168062         -0.145567   \n",
       "..        ...       ...              ...               ...   \n",
       "563  1.183407 -0.598029        -0.306996         -0.359065   \n",
       "377 -1.488212  1.668451        -0.430493         -0.465814   \n",
       "582 -0.395277 -0.598029        -0.368745         -0.430231   \n",
       "128  0.819096  1.668451        -0.260685         -0.252316   \n",
       "500  1.547719 -0.598029        -0.106314         -0.109984   \n",
       "\n",
       "     Alkaline_Phosphotase  Alamine_Aminotransferase  \\\n",
       "110             -0.412936                 -0.388332   \n",
       "48              -0.459787                 -0.219058   \n",
       "471             -0.424649                 -0.352059   \n",
       "336              0.641198                  0.742173   \n",
       "441             -0.006899                 -0.279513   \n",
       "..                    ...                       ...   \n",
       "563              0.016526                 -0.267422   \n",
       "377             -0.358277                 -0.382286   \n",
       "582             -0.303619                 -0.327877   \n",
       "128              6.255436                 -0.086058   \n",
       "500              0.278107                 -0.080012   \n",
       "\n",
       "     Aspartate_Aminotransferase  Total_Protiens   Albumin  \\\n",
       "110                   -0.486561       -0.923844 -1.083815   \n",
       "48                    -0.384773       -0.468086 -0.216708   \n",
       "471                   -0.396083        0.078823 -0.340581   \n",
       "336                    0.265543       -0.285783  0.031037   \n",
       "441                   -0.322569       -2.199965 -1.703178   \n",
       "..                          ...             ...       ...   \n",
       "563                   -0.073752        0.625732 -0.712198   \n",
       "377                   -0.469597       -0.376935 -0.216708   \n",
       "582                   -0.407392        0.716883  1.517506   \n",
       "128                   -0.073752        1.354944  0.898144   \n",
       "500                   -0.232090       -0.468086 -0.959943   \n",
       "\n",
       "     Albumin_and_Globulin_Ratio  \n",
       "110                   -0.771248  \n",
       "48                     0.114522  \n",
       "471                   -0.801792  \n",
       "336                    0.114522  \n",
       "441                   -0.801792  \n",
       "..                          ...  \n",
       "563                   -1.412667  \n",
       "377                   -0.190916  \n",
       "582                    1.641712  \n",
       "128                   -0.038197  \n",
       "500                   -1.107230  \n",
       "\n",
       "[451 rows x 10 columns]"
      ]
     },
     "execution_count": 619,
     "metadata": {},
     "output_type": "execute_result"
    }
   ],
   "source": [
    "X_train"
   ]
  },
  {
   "cell_type": "code",
   "execution_count": 620,
   "metadata": {},
   "outputs": [
    {
     "data": {
      "text/plain": [
       "110    0\n",
       "48     1\n",
       "471    0\n",
       "336    1\n",
       "441    1\n",
       "      ..\n",
       "563    1\n",
       "377    0\n",
       "582    0\n",
       "128    1\n",
       "500    1\n",
       "Name: Dataset, Length: 451, dtype: int64"
      ]
     },
     "execution_count": 620,
     "metadata": {},
     "output_type": "execute_result"
    }
   ],
   "source": [
    "y_train"
   ]
  }
 ],
 "metadata": {
  "kernelspec": {
   "display_name": "Python 3",
   "language": "python",
   "name": "python3"
  },
  "language_info": {
   "codemirror_mode": {
    "name": "ipython",
    "version": 3
   },
   "file_extension": ".py",
   "mimetype": "text/x-python",
   "name": "python",
   "nbconvert_exporter": "python",
   "pygments_lexer": "ipython3",
   "version": "3.10.6"
  }
 },
 "nbformat": 4,
 "nbformat_minor": 2
}
